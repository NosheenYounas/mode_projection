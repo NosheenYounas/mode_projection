{
 "cells": [
  {
   "cell_type": "code",
   "execution_count": 45,
   "id": "c7178ec9-1faa-4b6f-890b-39abc35e3757",
   "metadata": {},
   "outputs": [],
   "source": [
    "from readfiles import *\n",
    "import sys\n",
    "import numpy.linalg as LA\n",
    "import copy\n",
    "from unit import *\n",
    "from qutip import *\n",
    "import matplotlib.pyplot as plt\n",
    "import numpy as np\n",
    "from scipy.optimize import curve_fit\n",
    "from numpy.linalg import eigh,norm"
   ]
  },
  {
   "cell_type": "code",
   "execution_count": 52,
   "id": "cb3db0d6-b22f-41be-9ad7-3dedce406b49",
   "metadata": {},
   "outputs": [],
   "source": [
    "B=np.array([[1,2,3,4,5,6,7,8,9,10],[11,12,13,14,15,16,17,18,19,20],[21,22,23,24,25,26,27,28,29,30],\n",
    "            [31,32,33,34,35,36,37,38,39,40],[41,42,43,44,45,45,47,48,49,50]])\n",
    "                                                                                                                                                                                                "
   ]
  },
  {
   "cell_type": "code",
   "execution_count": 53,
   "id": "42ea13f3-351f-4cac-b520-10d7c174ce7d",
   "metadata": {},
   "outputs": [],
   "source": [
    "#A"
   ]
  },
  {
   "cell_type": "code",
   "execution_count": 54,
   "id": "36ed0d06-ed07-4bac-97a2-92e11c4ab49b",
   "metadata": {},
   "outputs": [
    {
     "data": {
      "text/plain": [
       "(5, 10)"
      ]
     },
     "execution_count": 54,
     "metadata": {},
     "output_type": "execute_result"
    }
   ],
   "source": [
    "B.shape\n",
    "\n"
   ]
  },
  {
   "cell_type": "code",
   "execution_count": 67,
   "id": "f43b5115-63fe-4785-b191-3c0aeb17fc6a",
   "metadata": {},
   "outputs": [
    {
     "data": {
      "text/plain": [
       "(5, 3)"
      ]
     },
     "execution_count": 67,
     "metadata": {},
     "output_type": "execute_result"
    }
   ],
   "source": [
    "A=np.array([[1,2,3],[-2,-1,4],[3,-5,6],[2,4,0],[3,5,-7]])\n",
    "A.shape"
   ]
  },
  {
   "cell_type": "code",
   "execution_count": 68,
   "id": "39bcd7d5-d03b-482d-a2c1-97b8ea4876d3",
   "metadata": {},
   "outputs": [
    {
     "data": {
      "text/plain": [
       "array([[ 27,  12,  -8],\n",
       "       [ 12,  71, -63],\n",
       "       [ -8, -63, 110]])"
      ]
     },
     "execution_count": 68,
     "metadata": {},
     "output_type": "execute_result"
    }
   ],
   "source": [
    "A.T@A"
   ]
  },
  {
   "cell_type": "code",
   "execution_count": 70,
   "id": "85d9521d-7b60-4fc0-88d0-d5a56d223322",
   "metadata": {},
   "outputs": [
    {
     "data": {
      "text/plain": [
       "array([[ 14,   8,  11,  10,  -8],\n",
       "       [  8,  21,  23,  -8, -39],\n",
       "       [ 11,  23,  70, -14, -58],\n",
       "       [ 10,  -8, -14,  20,  26],\n",
       "       [ -8, -39, -58,  26,  83]])"
      ]
     },
     "execution_count": 70,
     "metadata": {},
     "output_type": "execute_result"
    }
   ],
   "source": [
    "A@A.T"
   ]
  },
  {
   "cell_type": "code",
   "execution_count": 69,
   "id": "3c646d4f-7099-440c-a51b-08a59230da09",
   "metadata": {},
   "outputs": [
    {
     "data": {
      "text/plain": [
       "EighResult(eigenvalues=array([ 20.15910168,  29.98489928, 157.85599905]), eigenvectors=array([[ 0.66514979, -0.73954193, -0.10321568],\n",
       "       [-0.63792429, -0.49094673, -0.59331602],\n",
       "       [-0.38810868, -0.46048782,  0.79832488]]))"
      ]
     },
     "execution_count": 69,
     "metadata": {},
     "output_type": "execute_result"
    }
   ],
   "source": [
    "eigh(A.T@A)"
   ]
  },
  {
   "cell_type": "code",
   "execution_count": 71,
   "id": "e9e5bc09-bf0b-4b17-bbed-e0f97ad75cd4",
   "metadata": {},
   "outputs": [
    {
     "data": {
      "text/plain": [
       "EighResult(eigenvalues=array([-2.72750507e-15,  1.48946584e-14,  2.01591017e+01,  2.99848993e+01,\n",
       "        1.57855999e+02]), eigenvectors=array([[-0.35182477,  0.62537654,  0.39533826,  0.56665187, -0.08795927],\n",
       "       [-0.50761511, -0.62514288,  0.49997006, -0.02338986, -0.31781462],\n",
       "       [-0.0912528 , -0.15064528, -0.6361892 ,  0.46144809, -0.59271231],\n",
       "       [ 0.58377324, -0.38436746,  0.27203292,  0.62873759,  0.20532314],\n",
       "       [-0.51906451, -0.21833051, -0.339115  ,  0.26478912,  0.70554345]]))"
      ]
     },
     "execution_count": 71,
     "metadata": {},
     "output_type": "execute_result"
    }
   ],
   "source": [
    "eigh(A@A.T)"
   ]
  },
  {
   "cell_type": "code",
   "execution_count": 73,
   "id": "575f5b44-255e-41f8-b889-46e4fc8a6b8d",
   "metadata": {},
   "outputs": [
    {
     "data": {
      "text/plain": [
       "14.422205101855956"
      ]
     },
     "execution_count": 73,
     "metadata": {},
     "output_type": "execute_result"
    }
   ],
   "source": [
    "norm(A)"
   ]
  },
  {
   "cell_type": "code",
   "execution_count": null,
   "id": "ed0b5133-dfb3-4c94-9020-db1c1c287e7c",
   "metadata": {},
   "outputs": [],
   "source": []
  }
 ],
 "metadata": {
  "kernelspec": {
   "display_name": "Python 3 (ipykernel)",
   "language": "python",
   "name": "python3"
  },
  "language_info": {
   "codemirror_mode": {
    "name": "ipython",
    "version": 3
   },
   "file_extension": ".py",
   "mimetype": "text/x-python",
   "name": "python",
   "nbconvert_exporter": "python",
   "pygments_lexer": "ipython3",
   "version": "3.11.5"
  }
 },
 "nbformat": 4,
 "nbformat_minor": 5
}
