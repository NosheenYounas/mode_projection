{
  "nbformat": 4,
  "nbformat_minor": 0,
  "metadata": {
    "colab": {
      "private_outputs": true,
      "provenance": []
    },
    "kernelspec": {
      "name": "python3",
      "display_name": "Python 3"
    },
    "language_info": {
      "name": "python"
    }
  },
  "cells": [
    {
      "cell_type": "code",
      "execution_count": null,
      "metadata": {
        "id": "w-AyIiOXGrgN"
      },
      "outputs": [],
      "source": [
        "pip install qutip"
      ]
    },
    {
      "cell_type": "code",
      "source": [
        "from qutip import *\n",
        "import copy\n",
        "import numpy as np\n",
        "import matplotlib.pyplot as plt"
      ],
      "metadata": {
        "id": "DSJF8EXKG0BM"
      },
      "execution_count": null,
      "outputs": []
    },
    {
      "cell_type": "code",
      "source": [
        "vec1 = np.random.rand(5)+np.random.rand(5)*1j\n",
        "vec2 = np.random.rand(5)+np.random.rand(5)*1j"
      ],
      "metadata": {
        "id": "yhazUMC8G5Ik"
      },
      "execution_count": null,
      "outputs": []
    },
    {
      "cell_type": "code",
      "source": [
        "vec1"
      ],
      "metadata": {
        "id": "N_sQvP8gZ7oJ"
      },
      "execution_count": null,
      "outputs": []
    },
    {
      "cell_type": "markdown",
      "source": [
        "Useful functions in numpy: dot, vdot, inner. \n",
        "\n",
        "\n",
        "\n",
        "1.   Dot: Is the dot product of two 1D array vectors without complex conjugation $v^T v$.\n",
        "2.   Vdot: Gives the dot product with complex conjugation $v^\\dagger v$ or $\\langle v | v \\rangle $\n",
        "3. inner: Has the ability to handle lists of vecots giving a matrix of dot products between the two lists. Note it does not have complex conjugation, just like Dot.\n",
        "\n",
        "\n",
        "inner( [v1,v2] , [u1,u2] )  =\\begin{bmatrix} v1^T u1 & v1^T u2\\\\\n",
        "v2^T u1 & v2^T u2\n",
        "\\end{bmatrix}"
      ],
      "metadata": {
        "id": "xYuvAIlboy1R"
      }
    },
    {
      "cell_type": "code",
      "source": [
        "#some instructive tests with dot, vdot and inner. \n",
        "\n",
        "print('vdot of vec1 and vec1 is', np.vdot(vec1, vec1))\n",
        "print('vdot of vec1 and vec2 is', np.vdot(vec1, vec2))\n",
        "print('vdot of vec2 and vec1 is', np.vdot(vec2, vec1))\n",
        "print('vdot of vec2 and vec2 is', np.vdot(vec2, vec2))\n",
        "print('inner of vec1_dagger and vec2 is', np.inner(np.conj(vec1),vec2))\n",
        "print('inner of list [vec1_dagger, vec2_dagger] and list [vec1,vec2] is', np.inner(np.conj([vec1, vec2]), [vec1, vec2]))"
      ],
      "metadata": {
        "id": "xs2vp9WqIAm1"
      },
      "execution_count": null,
      "outputs": []
    },
    {
      "cell_type": "code",
      "source": [
        "# notice that without conjugation, the inner function gives wrong results for complex vectors.\n",
        "np.inner([vec1, vec2], [vec1, vec2])"
      ],
      "metadata": {
        "id": "sICNekJpJqew"
      },
      "execution_count": null,
      "outputs": []
    },
    {
      "cell_type": "code",
      "source": [
        "# also notice the difference between dot and vdot. \n",
        "print('dot of v1 with itself', np.dot(vec1,vec1))"
      ],
      "metadata": {
        "id": "o2_Wmr6kt_i2"
      },
      "execution_count": null,
      "outputs": []
    },
    {
      "cell_type": "code",
      "source": [],
      "metadata": {
        "id": "qPGLJ0nut_ls"
      },
      "execution_count": null,
      "outputs": []
    },
    {
      "cell_type": "code",
      "source": [
        "vec_list = [vec1, vec2]"
      ],
      "metadata": {
        "id": "t4NlcSwFLeQg"
      },
      "execution_count": null,
      "outputs": []
    },
    {
      "cell_type": "markdown",
      "source": [
        "Let A denote the matrix whose columns are vectors of the set we are interested in. Then the projection opertor for this set of vectors can be created via. \n",
        "\n",
        "$$\n",
        "P = A(A^† A)^{-1}A^†\n",
        "$$\n",
        "\n",
        "Note: In this formulation, the set of vectors need not be orthonormal. However, we do require the existance of inverse $(A^\\dagger A)^{-1}$ which implies that the determinant of $A^\\dagger A$ must be non-zero. \n",
        "\n",
        "\n",
        "Source: https://en.wikipedia.org/wiki/Projection_(linear_algebra)\n",
        "\n",
        "\n",
        "Note: An assumption here is that the summation only involves linearly independent vectors."
      ],
      "metadata": {
        "id": "zq-P1eCpQ-xd"
      }
    },
    {
      "cell_type": "code",
      "source": [
        "A = np.transpose(np.array(vec_list))\n",
        "Adag = np.conj(np.transpose(A))"
      ],
      "metadata": {
        "id": "hXxLR6u5LeTd"
      },
      "execution_count": null,
      "outputs": []
    },
    {
      "cell_type": "code",
      "source": [
        "print(A.shape,Adag.shape)"
      ],
      "metadata": {
        "id": "GPkTCinLLecC"
      },
      "execution_count": null,
      "outputs": []
    },
    {
      "cell_type": "code",
      "source": [
        "AdagA = np.matmul(Adag, A)\n",
        "AdagA"
      ],
      "metadata": {
        "id": "RFjF4tgBSyjb"
      },
      "execution_count": null,
      "outputs": []
    },
    {
      "cell_type": "code",
      "source": [
        "invAdagA = np.linalg.inv(AdagA)\n",
        "invAdagA"
      ],
      "metadata": {
        "id": "0D4B8b-LutdL"
      },
      "execution_count": null,
      "outputs": []
    },
    {
      "cell_type": "code",
      "source": [
        "np.matmul(AdagA, invAdagA) # test to check if the inverse has been computed correctly"
      ],
      "metadata": {
        "id": "3JIxrW2uutf-"
      },
      "execution_count": null,
      "outputs": []
    },
    {
      "cell_type": "code",
      "source": [
        "P_prime = np.matmul(invAdagA,Adag)\n",
        "P = np.matmul(A,P_prime)\n",
        "P.shape"
      ],
      "metadata": {
        "id": "zp51vCU4uti8"
      },
      "execution_count": null,
      "outputs": []
    },
    {
      "cell_type": "code",
      "source": [
        "P2mP = (np.matmul(P,P)-P)\n",
        "P2mP[np.abs(P2mP)>1e-15] # the resulting array is empty => P^2 is exactly as P, hence P is a projection operator"
      ],
      "metadata": {
        "id": "NUJuAJ1jyhyJ"
      },
      "execution_count": null,
      "outputs": []
    },
    {
      "cell_type": "code",
      "source": [
        "Q = np.identity(5, 'complex') - P\n",
        "Q.shape"
      ],
      "metadata": {
        "id": "5jlaTgFmutlt"
      },
      "execution_count": null,
      "outputs": []
    },
    {
      "cell_type": "code",
      "source": [
        "Q2mQ = (np.matmul(Q,Q)-Q)\n",
        "Q2mQ[np.abs(Q2mQ)>1e-15] # the resulting array is empty => Q^2 is exactly as Q, hence Q is a projection operator"
      ],
      "metadata": {
        "id": "LZN7nhOwutor"
      },
      "execution_count": null,
      "outputs": []
    },
    {
      "cell_type": "code",
      "source": [
        "w2 = np.diag([3, 2, 4,5, 8])**2\n",
        "w2\n"
      ],
      "metadata": {
        "id": "q3-oxStR4waf"
      },
      "execution_count": null,
      "outputs": []
    },
    {
      "cell_type": "code",
      "source": [
        "Pw2P = np.matmul(P,np.matmul(w2,P))\n",
        "Pw2P.shape"
      ],
      "metadata": {
        "id": "tOZxCJYs4wdM"
      },
      "execution_count": null,
      "outputs": []
    },
    {
      "cell_type": "code",
      "source": [
        "eval, evec = np.linalg.eig(Pw2P)"
      ],
      "metadata": {
        "id": "I7495GHs4wgD"
      },
      "execution_count": null,
      "outputs": []
    },
    {
      "cell_type": "code",
      "source": [
        "eval[np.abs(eval)>0.0001]"
      ],
      "metadata": {
        "id": "LxHfwwGMutrj"
      },
      "execution_count": null,
      "outputs": []
    },
    {
      "cell_type": "code",
      "source": [
        "Ms_indices = np.where(np.abs(eval)>0.0001)[0]\n",
        "Ms_indices"
      ],
      "metadata": {
        "id": "UQcQrG0W4hOX"
      },
      "execution_count": null,
      "outputs": []
    },
    {
      "cell_type": "code",
      "source": [
        "Qw2Q = np.matmul(Q,np.matmul(w2,Q))\n",
        "Qw2Q.shape"
      ],
      "metadata": {
        "id": "byDgtn4Z4hRK"
      },
      "execution_count": null,
      "outputs": []
    },
    {
      "cell_type": "code",
      "source": [
        "evalQ, evecQ = np.linalg.eig(Qw2Q)\n",
        "Mr_indices = np.where(np.abs(evalQ)>0.0001)[0]\n",
        "Mr_indices"
      ],
      "metadata": {
        "id": "etw5BFrL4hUD"
      },
      "execution_count": null,
      "outputs": []
    },
    {
      "cell_type": "markdown",
      "source": [
        "Basically the projection operator method is as follows. \n",
        "\n",
        "consider the diagonal Hessain matrix $\\omega^2$ in the original phonon basis.\n",
        "then \n",
        "\n",
        "$$\n",
        "\\omega^2 = I \\omega^2 I = (P+Q) \\omega^2 (P+Q) = (P\\omega^2 P)+(Q\\omega^2Q)+(P\\omega^2Q)+(Q\\omega^2P) = K + L\n",
        "$$"
      ],
      "metadata": {
        "id": "Su8pFF2A9y4v"
      }
    },
    {
      "cell_type": "code",
      "source": [
        "Ms = np.array([], 'complex')\n",
        "Ms"
      ],
      "metadata": {
        "id": "ySC6l7db9xv4"
      },
      "execution_count": null,
      "outputs": []
    },
    {
      "cell_type": "code",
      "source": [
        "np.vstack((evec[:,1],evec[:,2]))\n"
      ],
      "metadata": {
        "id": "KoNGR9VN4hWo"
      },
      "execution_count": null,
      "outputs": []
    },
    {
      "cell_type": "code",
      "source": [
        "Ms = np.transpose(evec[:,Ms_indices])\n",
        "Ms.shape"
      ],
      "metadata": {
        "id": "x483a8NdYNGv"
      },
      "execution_count": null,
      "outputs": []
    },
    {
      "cell_type": "code",
      "source": [
        "Mr = np.transpose(evecQ[:,Mr_indices])\n",
        "Mr.shape"
      ],
      "metadata": {
        "id": "P_dCHLgyYNJt"
      },
      "execution_count": null,
      "outputs": []
    },
    {
      "cell_type": "code",
      "source": [
        "L = np.matmul(P,np.matmul(w2,Q)) + np.matmul(Q,np.matmul(w2,P))"
      ],
      "metadata": {
        "id": "20PRoSFFDjeC"
      },
      "execution_count": null,
      "outputs": []
    },
    {
      "cell_type": "code",
      "source": [
        "# transforming L to the eigen basis of K\n",
        "gammap = np.matmul(Ms,np.matmul(L,np.transpose(np.conj(Mr))))\n",
        "gammap"
      ],
      "metadata": {
        "id": "A6TRezyBYNTD"
      },
      "execution_count": null,
      "outputs": []
    },
    {
      "cell_type": "code",
      "source": [
        "gammap.shape"
      ],
      "metadata": {
        "id": "zDmv4toBHjlD"
      },
      "execution_count": null,
      "outputs": []
    },
    {
      "cell_type": "markdown",
      "source": [
        "Observation: it is best to transform your original hamiltonian such that the vectors g's are real values instead of complex.????"
      ],
      "metadata": {
        "id": "KkiOVvlfIJ9X"
      }
    },
    {
      "cell_type": "code",
      "source": [],
      "metadata": {
        "id": "aemAgqS7D2Zs"
      },
      "execution_count": null,
      "outputs": []
    },
    {
      "cell_type": "markdown",
      "source": [
        "## question here is that should one use tranpose of Mr or transpose-conjugate of Mr."
      ],
      "metadata": {
        "id": "YOTX-ONsEOkx"
      }
    },
    {
      "cell_type": "code",
      "source": [
        "# now moving on to the electron-phonon couplings\n",
        "\n",
        "vec1p = np.einsum('ij,j->i',Ms,vec1)\n",
        "vec1p"
      ],
      "metadata": {
        "id": "Coo3Hkr7D2cX"
      },
      "execution_count": null,
      "outputs": []
    },
    {
      "cell_type": "code",
      "source": [
        "vec2p = np.einsum('ij,j->i',Ms,vec2)\n",
        "vec2p"
      ],
      "metadata": {
        "id": "xkaIRGzYD2e9"
      },
      "execution_count": null,
      "outputs": []
    },
    {
      "cell_type": "code",
      "source": [
        "Ap = np.matmul(Ms,A)"
      ],
      "metadata": {
        "id": "vs7azPYOD2hb"
      },
      "execution_count": null,
      "outputs": []
    },
    {
      "cell_type": "code",
      "source": [
        "Ap[:,0]"
      ],
      "metadata": {
        "id": "Lzz2CgABD2j_"
      },
      "execution_count": null,
      "outputs": []
    },
    {
      "cell_type": "code",
      "source": [
        "U = np.transpose(np.vstack((Ms,Mr)))"
      ],
      "metadata": {
        "id": "7YPpOhW0D2mY"
      },
      "execution_count": null,
      "outputs": []
    },
    {
      "cell_type": "code",
      "source": [
        "Udag = np.conj(np.transpose(U))"
      ],
      "metadata": {
        "id": "ASMkBJmRRdeU"
      },
      "execution_count": null,
      "outputs": []
    },
    {
      "cell_type": "code",
      "source": [
        "hess = np.matmul(Udag,np.matmul(w2,U))\n",
        "hess[np.abs(hess)>0.0001]"
      ],
      "metadata": {
        "id": "MqwdPFTOQoX6"
      },
      "execution_count": null,
      "outputs": []
    },
    {
      "cell_type": "code",
      "source": [
        "eigvec = [Qobj(x) for x in np.transpose(U)]"
      ],
      "metadata": {
        "id": "oQ7Ogi13Qoaf"
      },
      "execution_count": null,
      "outputs": []
    },
    {
      "cell_type": "code",
      "source": [
        "hess = Qobj(w2)\n",
        "print(hess)"
      ],
      "metadata": {
        "id": "P6_L02R0UcB_"
      },
      "execution_count": null,
      "outputs": []
    },
    {
      "cell_type": "code",
      "source": [
        "hessp = hess.transform(eigvec)\n",
        "print(hessp)"
      ],
      "metadata": {
        "id": "UJiFNjQSQofS"
      },
      "execution_count": null,
      "outputs": []
    },
    {
      "cell_type": "code",
      "source": [
        "w2p = np.matmul(U,np.matmul(hessp.full(),Udag))\n",
        "print(Qobj(w2p).tidyup())"
      ],
      "metadata": {
        "id": "rnzdTTrzQohp"
      },
      "execution_count": null,
      "outputs": []
    },
    {
      "cell_type": "code",
      "source": [
        "gammap"
      ],
      "metadata": {
        "id": "1aa3rHrLQolK"
      },
      "execution_count": null,
      "outputs": []
    }
  ]
}