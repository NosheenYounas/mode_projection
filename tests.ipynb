{
 "cells": [
  {
   "cell_type": "code",
   "execution_count": 1,
   "id": "e9dd4c17-979e-4edf-bc6d-83cf5268dbd3",
   "metadata": {},
   "outputs": [],
   "source": [
    "from readfiles import *\n",
    "import sys\n",
    "import numpy.linalg as LA\n",
    "import copy\n",
    "from unit import *\n",
    "from qutip import *\n",
    "import matplotlib.pyplot as plt\n",
    "import numpy as np\n",
    "from scipy.optimize import curve_fit"
   ]
  },
  {
   "cell_type": "markdown",
   "id": "d1a8489c-f0bd-4164-bf54-49389d91b1c3",
   "metadata": {},
   "source": [
    "# Writing main Hamiltonian"
   ]
  },
  {
   "cell_type": "code",
   "execution_count": 2,
   "id": "36c518bb-df02-4bb9-a4bf-42706a50da47",
   "metadata": {},
   "outputs": [],
   "source": [
    "# Now defining Units and conversion factors. \n",
    "h = 6.62607015e-34 # planck's constant in joules second\n",
    "c = 2.99792458e10 # speed of light in cm per second\n",
    "e = 1.60217663e-19 # charge of electron in coulombs\n",
    "hbar = 0.658211951 # in eV-fs or meV-ps or ueV-ns\n",
    "cm2ev = c*h/e  # conversion factor from 1/cm to eV\n",
    "cm2mev = cm2ev * 1.e3  # conversion from 1/cm to meV\n",
    "ev2au = e/4.3597447222071e-18  # converison from eV to atomic mass units\n",
    "cm2au = cm2ev * ev2au  # conversion from 1/cm to atomic mass units\n",
    "\n",
    "kB = 8.617333262e-2 # meV/K, Boltzmann constant"
   ]
  },
  {
   "cell_type": "code",
   "execution_count": 3,
   "id": "4a3b2246-3b26-4ac8-bf7f-cd1dd28b6ecf",
   "metadata": {},
   "outputs": [
    {
     "name": "stdout",
     "output_type": "stream",
     "text": [
      "alpha in units of meV per tesla = 0.057884270182028845\n",
      "hbar is contained in the definition of alpha\n"
     ]
    }
   ],
   "source": [
    "free_e_gyro = 28024.9514242E6 # Hz/T gyromagnetic ratio of an electron.\n",
    "hz2meV = 4.1357E-12 # 1Hz = 4.1357E-15 eV = 4.1357E-12 meV\n",
    "free_e_gfactor = 2.00231930437378 # free electron g factor 2.00231930437378\n",
    "alpha = (free_e_gyro*hz2meV)/free_e_gfactor # gyromagnetic ratio/gfactor in meV per tesla\n",
    "print(\"alpha in units of meV per tesla = \"+str(alpha))\n",
    "print(\"hbar is contained in the definition of alpha\")"
   ]
  },
  {
   "cell_type": "code",
   "execution_count": 4,
   "id": "7a68692c-e79b-429a-93a1-eba1240e2b3a",
   "metadata": {},
   "outputs": [
    {
     "data": {
      "text/plain": [
       "(Quantum object: dims = [[2], [2]], shape = (2, 2), type = oper, isherm = True\n",
       " Qobj data =\n",
       " [[0.  0.5]\n",
       "  [0.5 0. ]],\n",
       " Quantum object: dims = [[2], [2]], shape = (2, 2), type = oper, isherm = True\n",
       " Qobj data =\n",
       " [[0.+0.j  0.-0.5j]\n",
       "  [0.+0.5j 0.+0.j ]],\n",
       " Quantum object: dims = [[2], [2]], shape = (2, 2), type = oper, isherm = True\n",
       " Qobj data =\n",
       " [[ 0.5  0. ]\n",
       "  [ 0.  -0.5]])"
      ]
     },
     "execution_count": 4,
     "metadata": {},
     "output_type": "execute_result"
    }
   ],
   "source": [
    "eS = jmat(1/2)\n",
    "eS"
   ]
  },
  {
   "cell_type": "code",
   "execution_count": 5,
   "id": "743e9cc9-654b-4ab2-97fb-9d64d3efd328",
   "metadata": {},
   "outputs": [
    {
     "data": {
      "text/plain": [
       "[Quantum object: dims = [[2], [2]], shape = (2, 2), type = oper, isherm = True\n",
       " Qobj data =\n",
       " [[0. 1.]\n",
       "  [1. 0.]],\n",
       " Quantum object: dims = [[2], [2]], shape = (2, 2), type = oper, isherm = True\n",
       " Qobj data =\n",
       " [[0.+0.j 0.-1.j]\n",
       "  [0.+1.j 0.+0.j]],\n",
       " Quantum object: dims = [[2], [2]], shape = (2, 2), type = oper, isherm = True\n",
       " Qobj data =\n",
       " [[ 1.  0.]\n",
       "  [ 0. -1.]]]"
      ]
     },
     "execution_count": 5,
     "metadata": {},
     "output_type": "execute_result"
    }
   ],
   "source": [
    "sigma_vec = [sigmax(), sigmay(), sigmaz()]\n",
    "sigma_vec"
   ]
  },
  {
   "cell_type": "code",
   "execution_count": 6,
   "id": "c7ff72bb-9b67-4f54-b0f5-0b9f3dfa849e",
   "metadata": {},
   "outputs": [
    {
     "name": "stdout",
     "output_type": "stream",
     "text": [
      "applied magnetic field is  1  Tesla\n",
      "Spin zeeman hamiltonian\n"
     ]
    },
    {
     "data": {
      "text/latex": [
       "Quantum object: dims = [[2], [2]], shape = (2, 2), type = oper, isherm = True $ \\\\ \\left(\\begin{matrix}0.058 & (6.383\\times10^{-05}+2.562\\times10^{-05}j)\\\\(6.383\\times10^{-05}-2.562\\times10^{-05}j) & -0.058\\\\\\end{matrix}\\right)$"
      ],
      "text/plain": [
       "Quantum object: dims = [[2], [2]], shape = (2, 2), type = oper, isherm = True\n",
       "Qobj data =\n",
       "[[ 5.76003884e-02+0.00000000e+00j  6.38260905e-05+2.56166838e-05j]\n",
       " [ 6.38260905e-05-2.56166838e-05j -5.76003884e-02+0.00000000e+00j]]"
      ]
     },
     "execution_count": 6,
     "metadata": {},
     "output_type": "execute_result"
    }
   ],
   "source": [
    "\n",
    "# NOTE: using the pauli vector instead of spin half operators. Defining a single spin half operators\n",
    "#eS = jmat(1/2) # list of electronic spin operators [Sx, Sy, Sz] \n",
    "# NOTE: In qutip, the eigensolver transforms the Matrix with eigen values in ascending order.\n",
    "\n",
    "# Loading the gtensor for the basic Hamiltonian.\n",
    "fname = 'data files/gtensor.dat' # loading the gtensor, hyperfine tensor, and ztensor. \n",
    "gtensor, hfc, zfs = read_g(fname)\n",
    "\n",
    "# Defining External magnetic field vector\n",
    "Bfield = 1 # Tesla\n",
    "print(\"applied magnetic field is \", Bfield, \" Tesla\")\n",
    "\n",
    "Bvector = np.zeros(3)\n",
    "Bvector[0] = 0\n",
    "Bvector[1] = 0\n",
    "Bvector[2] = Bfield\n",
    "\n",
    "\n",
    "# Defining spin Hamiltonian\n",
    "H = None\n",
    "\n",
    "# 1) Zeeman interaction\n",
    "for i in range(3):\n",
    "    for j in range(3):\n",
    "        if H is None:\n",
    "            H = alpha * gtensor[i][j] *(1/2)* sigma_vec[i] * Bvector[j] # notice this 1/2 here. its because i am using pauli matrices \n",
    "        else:\n",
    "            H += alpha * gtensor[i][j] *(1/2)* sigma_vec[i] * Bvector[j]# instead of spin 1/2 matrices \n",
    "\n",
    "print('Spin zeeman hamiltonian')\n",
    "#H.tidyup()\n",
    "H"
   ]
  },
  {
   "cell_type": "code",
   "execution_count": 7,
   "id": "e00a2a9b-fbe1-4be1-adf7-42b0c06e86bf",
   "metadata": {},
   "outputs": [
    {
     "data": {
      "text/plain": [
       "(array([-0.05760043,  0.05760043]),\n",
       " array([Quantum object: dims = [[2], [1]], shape = (2, 1), type = ket\n",
       "        Qobj data =\n",
       "        [[-9.99999822e-01+0.j        ]\n",
       "         [-5.54041893e-04+0.00022237j]]                              ,\n",
       "        Quantum object: dims = [[2], [1]], shape = (2, 1), type = ket\n",
       "        Qobj data =\n",
       "        [[ 5.96999835e-04+0.j        ]\n",
       "         [-9.28043463e-01+0.37247144j]]                              ],\n",
       "       dtype=object))"
      ]
     },
     "execution_count": 7,
     "metadata": {},
     "output_type": "execute_result"
    }
   ],
   "source": [
    "energies, estates  = (-H).eigenstates() # the eigenstates are in acending order, the -ve reintroduces the decending order\n",
    "energies, estates"
   ]
  },
  {
   "cell_type": "code",
   "execution_count": 8,
   "id": "ae716f43-a5fe-4dd6-bc9c-407f914c4183",
   "metadata": {},
   "outputs": [
    {
     "data": {
      "text/latex": [
       "Quantum object: dims = [[2], [2]], shape = (2, 2), type = oper, isherm = True $ \\\\ \\left(\\begin{matrix}0.058 & 0.0\\\\0.0 & -0.058\\\\\\end{matrix}\\right)$"
      ],
      "text/plain": [
       "Quantum object: dims = [[2], [2]], shape = (2, 2), type = oper, isherm = True\n",
       "Qobj data =\n",
       "[[ 0.05760043  0.        ]\n",
       " [ 0.         -0.05760043]]"
      ]
     },
     "execution_count": 8,
     "metadata": {},
     "output_type": "execute_result"
    }
   ],
   "source": [
    "H = H.transform(estates)\n",
    "H"
   ]
  },
  {
   "cell_type": "markdown",
   "id": "1afe5b64-2b9b-4db6-bd9c-e10731f0edd4",
   "metadata": {},
   "source": [
    "### At this point we should tranform the coupings to new eigen basis as well. but since the new basis are very close to the prevous one, I think we can ommitt this step with negligible error"
   ]
  },
  {
   "cell_type": "markdown",
   "id": "a57e20e1-6111-4ec6-8029-f0f63fbc0756",
   "metadata": {},
   "source": [
    "# Loading and visualizing frequencies and gtensor derivative i.e. dgx"
   ]
  },
  {
   "cell_type": "code",
   "execution_count": 9,
   "id": "cfcb038e-af5c-49e0-8eeb-eb8e5d1eab62",
   "metadata": {},
   "outputs": [
    {
     "name": "stdout",
     "output_type": "stream",
     "text": [
      "number of vibs= 190\n",
      "the intra vibrations of a single molecule are the harmonic frequencies here in meV\n"
     ]
    }
   ],
   "source": [
    "# Loading the couplings and frequencies\n",
    "freq, dgx = get_phonon('data files/spin_phonon.dat')\n",
    "freq = freq*cm2mev\n",
    "print(\"the intra vibrations of a single molecule are the harmonic frequencies here in meV\")"
   ]
  },
  {
   "cell_type": "code",
   "execution_count": 10,
   "id": "244e5ede-4d19-46e4-9911-398b48f73ccf",
   "metadata": {},
   "outputs": [
    {
     "data": {
      "text/plain": [
       "array([[-2.4308993e-03, -3.6944117e-03,  1.8978486e-03],\n",
       "       [-2.8236532e-03,  1.5009815e-03,  8.7550132e-05],\n",
       "       [ 1.0964913e-03,  5.0411135e-04,  3.4037204e-04]])"
      ]
     },
     "execution_count": 10,
     "metadata": {},
     "output_type": "execute_result"
    }
   ],
   "source": [
    "dgx[0]"
   ]
  },
  {
   "cell_type": "code",
   "execution_count": 11,
   "id": "46195b0e-0019-4a50-8636-a8f7e46564ea",
   "metadata": {},
   "outputs": [
    {
     "data": {
      "text/plain": [
       "array([  12.8 ,   26.32,   42.4 ,   43.09,   43.64,   68.84,   76.09,\n",
       "         76.65,   76.92,   82.92,   83.56,  103.44,  134.89,  143.88,\n",
       "        145.41,  146.6 ,  147.71,  156.8 ,  178.5 ,  181.71,  202.14,\n",
       "        215.87,  226.73,  240.07,  241.75,  243.96,  245.31,  245.7 ,\n",
       "        252.06,  271.68,  287.44,  289.37,  296.58,  305.96,  306.44,\n",
       "        320.06,  321.25,  342.52,  342.85,  349.94,  352.65,  359.74,\n",
       "        375.24,  375.42,  377.48,  389.13,  396.28,  396.85,  397.32,\n",
       "        405.39,  431.7 ,  433.13,  435.32,  441.36,  468.06,  500.09,\n",
       "        500.15,  501.68,  508.62,  540.97,  541.38,  541.82,  549.79,\n",
       "        551.57,  560.67,  561.72,  568.15,  571.83,  597.24,  605.11,\n",
       "        605.69,  620.32,  647.11,  667.29,  671.07,  676.64,  682.97,\n",
       "        689.03,  700.24,  715.45,  715.95,  725.25,  732.82,  734.06,\n",
       "        737.55,  741.2 ,  742.53,  748.2 ,  752.43,  757.7 ,  760.2 ,\n",
       "        764.18,  767.13,  769.  ,  809.2 ,  812.8 ,  820.72,  824.97,\n",
       "        837.39,  844.11,  850.37,  853.08,  859.5 ,  862.42,  865.04,\n",
       "        867.55,  868.83,  869.24,  874.79, 1003.79, 1031.16, 1032.3 ,\n",
       "       1036.28, 1071.36, 1082.08, 1083.61, 1095.21, 1106.23, 1107.15,\n",
       "       1110.68, 1122.57, 1122.61, 1147.74, 1149.55, 1150.71, 1155.51,\n",
       "       1161.65, 1163.35, 1168.56, 1170.73, 1172.59, 1177.54, 1181.  ,\n",
       "       1192.29, 1233.54, 1237.62, 1272.94, 1278.71, 1283.62, 1285.95,\n",
       "       1304.72, 1308.15, 1316.35, 1321.37, 1333.22, 1364.32, 1382.28,\n",
       "       1388.63, 1411.68, 1420.12, 1423.45, 1433.02, 1440.58, 1460.26,\n",
       "       1467.53, 1469.1 , 1476.65, 1480.78, 1492.51, 1494.88, 1498.25,\n",
       "       1504.26, 1508.65, 1510.77, 1525.93, 1556.18, 1584.91, 1586.42,\n",
       "       1597.47, 1603.51, 1605.62, 1611.53, 1614.8 , 1615.29, 3101.72,\n",
       "       3103.54, 3105.48, 3138.76, 3138.97, 3140.24, 3140.42, 3141.65,\n",
       "       3627.25, 3631.41, 3632.18, 3634.79, 3635.05, 3683.06, 3683.82,\n",
       "       3704.81])"
      ]
     },
     "execution_count": 11,
     "metadata": {},
     "output_type": "execute_result"
    }
   ],
   "source": [
    "freq/cm2mev"
   ]
  },
  {
   "cell_type": "code",
   "execution_count": 12,
   "id": "d1fe5c02-8047-498b-becc-2b89f2d5a72e",
   "metadata": {},
   "outputs": [
    {
     "data": {
      "image/png": "[encoded data removed]",
      "text/plain": [
       "<Figure size 1400x200 with 1 Axes>"
      ]
     },
     "metadata": {},
     "output_type": "display_data"
    }
   ],
   "source": [
    "plt.figure(figsize=(14, 2))\n",
    "plt.xlim([0, 3500])\n",
    "for i in range(len(freq)):\n",
    "    plt.plot([freq[i]/cm2mev,freq[i]/cm2mev], [0,1], 'k')\n",
    "plt.show()"
   ]
  },
  {
   "cell_type": "code",
   "execution_count": 13,
   "id": "c7dccfba-9637-465a-9351-0acc560b8fea",
   "metadata": {},
   "outputs": [
    {
     "data": {
      "text/plain": [
       "9.539392014169456"
      ]
     },
     "execution_count": 13,
     "metadata": {},
     "output_type": "execute_result"
    }
   ],
   "source": [
    "test = np.array([[1,2,3], [4,5,6]])\n",
    "np.linalg.norm(test)"
   ]
  },
  {
   "cell_type": "code",
   "execution_count": 14,
   "id": "c838db7f-2f12-4bec-8bba-7ab2cf619a6c",
   "metadata": {},
   "outputs": [
    {
     "data": {
      "text/plain": [
       "9.539392014169456"
      ]
     },
     "execution_count": 14,
     "metadata": {},
     "output_type": "execute_result"
    }
   ],
   "source": [
    "np.sqrt(np.sum(np.array([[1,2,3], [4,5,6]])**2))"
   ]
  },
  {
   "cell_type": "code",
   "execution_count": 15,
   "id": "4df0cdaa-092f-4200-9cec-a83948b6051c",
   "metadata": {},
   "outputs": [
    {
     "data": {
      "image/png": "[encoded data removed]",
      "text/plain": [
       "<Figure size 700x600 with 1 Axes>"
      ]
     },
     "metadata": {},
     "output_type": "display_data"
    }
   ],
   "source": [
    "zeeman_l2_norm = []\n",
    "\n",
    "for k in range(len(freq)):\n",
    "    zeeman_l2_norm.append(np.linalg.norm(dgx[k,:]))\n",
    "\n",
    "plt.rcParams['text.usetex'] = True \n",
    "plt.rcParams.update({'font.size': 20})\n",
    "plt.figure(figsize=(7, 6))\n",
    "plt.bar(freq, np.array(zeeman_l2_norm)*1e3, width = 2.5)\n",
    "#plt.title(r\"Zeeman coupling $l_2$ norm $V = \\sum_{ij} |\\frac{\\partial g_{ij}}{\\partial x}\\delta x|^2$\")\n",
    "plt.xlabel('$\\hbar \\omega \\ (meV)$ ')\n",
    "plt.ylabel(r'$||g||_2 \\ (\\times 10^{-3})$')\n",
    "plt.show()"
   ]
  },
  {
   "cell_type": "code",
   "execution_count": 16,
   "id": "fb5859a1-ed36-41ac-893f-89bfffedf47c",
   "metadata": {},
   "outputs": [
    {
     "data": {
      "image/png": "[encoded data removed]",
      "text/plain": [
       "<Figure size 700x600 with 1 Axes>"
      ]
     },
     "metadata": {},
     "output_type": "display_data"
    }
   ],
   "source": [
    "zeeman_l2_norm = []\n",
    "\n",
    "for k in range(len(freq)):\n",
    "    zeeman_l2_norm.append(np.linalg.norm(dgx[k,:]))\n",
    "\n",
    "plt.rcParams['text.usetex'] = True \n",
    "plt.rcParams.update({'font.size': 20})\n",
    "plt.figure(figsize=(7, 6))\n",
    "plt.bar(freq/cm2mev, np.array(zeeman_l2_norm)*1e3, width = 10)\n",
    "#plt.title(r\"Zeeman coupling $l_2$ norm $V = \\sum_{ij} |\\frac{\\partial g_{ij}}{\\partial x}\\delta x|^2$\")\n",
    "plt.xlabel('$ \\omega (cm^{-1})$ ')\n",
    "plt.ylabel(r'$||g||_2 \\ (\\times 10^{-3})$')\n",
    "plt.show()"
   ]
  },
  {
   "cell_type": "code",
   "execution_count": null,
   "id": "16e37f76-11b3-4ade-821b-cafe71227a23",
   "metadata": {},
   "outputs": [],
   "source": []
  },
  {
   "cell_type": "code",
   "execution_count": 18,
   "id": "c2fac0eb-3ec4-495f-8690-07ce60703ad1",
   "metadata": {},
   "outputs": [
    {
     "data": {
      "image/png": "[encoded data removed]",
      "text/plain": [
       "<Figure size 1400x300 with 1 Axes>"
      ]
     },
     "metadata": {},
     "output_type": "display_data"
    }
   ],
   "source": [
    "plt.rcParams['text.usetex'] = True \n",
    "plt.rcParams.update({'font.size': 20})\n",
    "plt.figure(figsize=(14, 3))\n",
    "plt.bar(freq, np.abs(np.array(dgx[:,2,2])*1e3), width = 1)\n",
    "plt.xlabel('$\\hbar \\omega \\ (meV)$ ')\n",
    "plt.ylabel(r'$|g_{zz}|  (\\times 10^{-3})$')\n",
    "plt.show()"
   ]
  },
  {
   "cell_type": "markdown",
   "id": "53435dad-6752-46cd-a6c6-bd4620b112b8",
   "metadata": {},
   "source": [
    "### Converting derivatives of gtensor into couplings $\\tilde c$ with Pauli matrices\n",
    "\n",
    "$$\n",
    "gcoupS= \\tilde c_{\\alpha k} = \\alpha \\frac{\\partial g_{\\alpha z}}{\\partial q_k} B_z (1/2)\n",
    "$$\n",
    "\n",
    "Note: this last 1/2 is comming from converting spin half opertors (S) to pauli matrices"
   ]
  },
  {
   "cell_type": "code",
   "execution_count": 17,
   "id": "4bfe2243-0c0d-4fb9-a6db-5ac623b67998",
   "metadata": {},
   "outputs": [
    {
     "name": "stdout",
     "output_type": "stream",
     "text": [
      "First 5 new couplings \n",
      " [[ 5.49277906e-05  2.53388775e-06  9.85109356e-06]\n",
      " [-2.91232116e-05  8.43397839e-06 -4.81645693e-05]\n",
      " [ 6.26718348e-06 -2.99584932e-05 -2.30264090e-05]\n",
      " [-4.29811023e-06 -2.40631527e-05 -4.20601376e-05]\n",
      " [-2.17794186e-05  9.84837445e-06 -3.23478314e-05]]\n",
      "these couplings are for the Pauli X, Y, Z operators.\n"
     ]
    }
   ],
   "source": [
    "Np = len(freq)\n",
    "gcoupS = np.zeros((Np, 3),dtype=float) # defining a place holder for couplings\n",
    "for k in range(Np):\n",
    "    for j in range(3):\n",
    "        gcoupS[k,:] += alpha * dgx[k,:,j] * Bvector[j] * (1/2) # only thing missing from here is Pauli matrix. Everything else is contained.\n",
    "        #therefore, couplings will have units of energy as meV\n",
    "\n",
    "# NOTE: this coupling also has the harmonic bath displacement operator contained in it. therefore, it has units of meV.\n",
    "print('First 5 new couplings \\n', gcoupS[:5])\n",
    "print('these couplings are for the Pauli X, Y, Z operators.')"
   ]
  },
  {
   "cell_type": "markdown",
   "id": "804af813-5ca4-408e-b333-e222c70deeb9",
   "metadata": {},
   "source": [
    "# Understanding of the couplings.\n",
    "\n",
    "$$\n",
    "H_{int} = \\sum_i A_i \\otimes C_i = \\sum_i \\sigma_i C_i\n",
    "$$\n",
    "\n",
    "where $A_i$ are system operators i.e. $\\sigma_i$ Pauli matrices, and $C_i$ are linear sum of phonon displacement operators. \n",
    "i.e. \n",
    "$$\n",
    "C_i = \\sum_j c^{(i)}_j u_j\n",
    "$$\n",
    "\n",
    "In the case of Zeeman Hamiltonian, the spin-phonon interaction is consequence of variation in g-tensor as a result of atomic displacements due to molecular vibrations. Therefore, \n",
    "$$\n",
    "H_{int} = \\sum_i \\sigma_i [\\frac{\\alpha}{2}\\sum_{jk} \\frac{\\partial g_{ik}}{\\partial u_j} B_k u_j] = \\sum_i \\sigma_i (\\sum_{j}c^i_j u_j) =\\sum_i \\sigma_i C_i\n",
    "$$\n",
    "where $B_k$ are elements of magnetic field vector, $g^j$ is the g-tensor, $\\alpha$ contains gyromagnetic ratio and acts like a conversion factor for the entire term to energy (meV/T). Finally \n",
    "$$\n",
    "c^i_j = \\frac{\\alpha}{2} \\sum_{k} \\frac{\\partial g_{ik}}{\\partial u_j} B_k \n",
    "$$\n",
    "\n",
    "### NOW instead of $\\frac{\\partial g_{ik}}{\\partial u_j}$, we have $\\frac{\\partial g_{ik}}{\\partial u_j}\\Delta u_j = dgx$\n",
    "\n",
    "so one way forward is to assume: \n",
    "$$\n",
    "c^i_j u_j = \\frac{\\alpha}{2} \\sum_{k} \\frac{\\partial g_{ik}}{\\partial u_j}\\Delta u_j B_k \\frac{u_j}{\\Delta u_j} = \\frac{\\alpha}{2} \\sum_{k} dgx B_k \\frac{u_j}{\\Delta u_j} = \\frac{\\alpha}{2} \\sum_{k} dgx B_k \\frac{u_j}{\\Delta u_j} = gcoup \\frac{u_j}{\\Delta u_j}\n",
    "$$\n",
    "\n",
    "Now this means that there is this puzzle of what the value for $\\Delta u_j$ happens to be; can I take it as some normalization factor?"
   ]
  },
  {
   "cell_type": "markdown",
   "id": "3633ce5e-cd82-4f4e-8b5f-d9bb6c60cb08",
   "metadata": {},
   "source": [
    "### Defining spectral densities"
   ]
  },
  {
   "cell_type": "code",
   "execution_count": 18,
   "id": "4425bcae-a540-447c-a530-f658b1a220cf",
   "metadata": {},
   "outputs": [],
   "source": [
    "def shape_normal(w, w0, sigma):\n",
    "    '''\n",
    "    this function returns a Gaussian/Normal distribution centered at w0 with std sigma\n",
    "    '''\n",
    "    return np.exp(-0.5*((w-w0)/sigma)**2)/(sigma*np.sqrt(2*np.pi))\n",
    "\n",
    "\n",
    "def lorentzian(w, w0, sigma):\n",
    "    '''\n",
    "    this function returns a lorentzian profile centered at 'w0' with thickness 'sigma'\n",
    "    NOTE: sigma is related to the lifetime of the mode by tau = hbar/sigma\n",
    "    '''\n",
    "    return  sigma/(np.pi*(sigma**2 + (w-w0)**2))"
   ]
  },
  {
   "cell_type": "code",
   "execution_count": 19,
   "id": "585d5a17-ebe8-4fb9-a249-098ab9039682",
   "metadata": {},
   "outputs": [
    {
     "data": {
      "image/png": "[encoded data removed]",
      "text/plain": [
       "<Figure size 1200x400 with 1 Axes>"
      ]
     },
     "metadata": {},
     "output_type": "display_data"
    }
   ],
   "source": [
    "# lets test it out. \n",
    "x = np.linspace(0, 100, 1000)\n",
    "y1 = [shape_normal(w, w0=50, sigma=1) for w in x]\n",
    "y2 = [shape_normal(w, w0=50, sigma=2) for w in x]\n",
    "y20cm = [shape_normal(w, w0=50, sigma=20*cm2mev) for w in x]\n",
    "\n",
    "y1l = [lorentzian(w, w0=50, sigma=1) for w in x]\n",
    "y2l = [lorentzian(w, w0=50, sigma=2) for w in x]\n",
    "y20cml = [lorentzian(w, w0=50, sigma=20*cm2mev) for w in x]\n",
    "\n",
    "\n",
    "\n",
    "plt.figure(figsize=(12,4))\n",
    "#plt.plot(x,y1, 'b')\n",
    "plt.plot(x,y2, 'g')\n",
    "plt.plot(x,y20cm, 'r')\n",
    "#plt.plot(x,y1l, 'b.-')\n",
    "plt.plot(x,y2l,'g.')\n",
    "plt.plot(x,y20cml,'r.')\n",
    "plt.title(\"Lineshapes\")\n",
    "plt.xlabel(\"x\")\n",
    "plt.ylabel(\"f(x)\")\n",
    "plt.legend(['2G','20G $cm^{-1}$','2L','20L $cm^{-1}$'])\n",
    "plt.show()"
   ]
  },
  {
   "cell_type": "code",
   "execution_count": 20,
   "id": "a8334e6d-29e2-4022-84fa-e8a6f5d3eb0d",
   "metadata": {},
   "outputs": [],
   "source": [
    "def spectral_density_quantum(w, freqs, coup, T=5, sigma=2, shape='L'):\n",
    "    '''\n",
    "    for full formula see the cell below\n",
    "    n = n_thermal = pop of harmonic oscillator mode with frequency ‘w’, at the temperature described by ‘w_th’ where 𝜔_th = 𝑘𝐵 𝑇/ℏ\n",
    "    NOTE: freqs and couplings must be passed in energy units i.e. meV. \n",
    "    units of S(w) are [(meV)^2 s]\n",
    "\n",
    "    Note: It requires cij tilde converts it into cij by division with sqrt(hbar/2wj) and then computes the spectral density\n",
    "    '''\n",
    "    kB = 8.6173e-2 # meV/K, Boltzmann constant\n",
    "    w_th = kB*T/hbar # temperature defined as frequency\n",
    "    S = 0\n",
    "    for j in range(len(freqs)):\n",
    "        wj = freqs[j]/hbar\n",
    "        cj = coup[j]/np.sqrt(hbar/(2*wj)) # energy / length\n",
    "        nj = n_thermal(wj,w_th)\n",
    "        #sigma = 0.1*wj\n",
    "        if shape=='G':\n",
    "            S += np.pi*hbar*(cj**2/wj)*( (nj+1)*shape_normal(w, wj, sigma) + nj*shape_normal(w, -wj, sigma) )\n",
    "        else:\n",
    "            S += np.pi*hbar*(cj**2/wj)*( (nj+1)*lorentzian(w, wj, sigma) + nj*lorentzian(w, -wj, sigma) )\n",
    "    return S\n",
    "\n",
    "def spectral_density_classical(w, freqs, coup, T=5, sigma=2, shape='L'):\n",
    "    '''\n",
    "    for full formula see the cell below\n",
    "    Units of S(w) are energy (meV) if freqs and couplings are in frequency units.\n",
    "    '''\n",
    "    kB = 8.6173e-2 # meV/K, Boltzmann constant\n",
    "    S = 0\n",
    "    for j in range(len(freqs)):\n",
    "        wj = freqs[j]/hbar\n",
    "        cj = coup[j]/np.sqrt(hbar/(2*wj)) # energy/length\n",
    "        if shape=='G':\n",
    "            S += np.pi*kB*T*(cj**2/wj**2)*(shape_normal(w, wj, sigma) + shape_normal(w, -wj, sigma))\n",
    "        else:\n",
    "            S += np.pi*kB*T*(cj**2/wj**2)*(lorentzian(w, wj, sigma) + lorentzian(w, -wj, sigma))\n",
    "    return S"
   ]
  },
  {
   "cell_type": "code",
   "execution_count": null,
   "id": "4d597f1e-7a4b-4672-b471-49e4df582e80",
   "metadata": {},
   "outputs": [],
   "source": []
  },
  {
   "cell_type": "markdown",
   "id": "c5a2c259-fe48-4174-9b0f-566be5fe9b69",
   "metadata": {},
   "source": [
    "NOTE: The quantum spectral density follows the equation \n",
    "Starting from the time domain description: \n",
    "$$\n",
    "S(t) = \\sum_j \\frac{\\hbar c_j^2}{2\\omega_j} [(n_j +1)e^{-i\\omega_j t} + n_j e^{i\\omega_j t}]\n",
    "$$\n",
    "we transform to the fourier domain using definition\n",
    "$$\n",
    "2\\pi \\delta(\\omega\\pm \\omega_j) = \\int_{-\\infty}^{-\\infty} e^{ i (\\omega \\pm \\omega_j) t} dt\n",
    "$$\n",
    "$$\n",
    "S(\\omega) = \\pi \\hbar \\sum_j \\frac{c_j^2}{\\omega_j} [(n_j+1) \\delta(\\omega - \\omega_j)+n_j\\delta(\\omega+\\omega_j)  ]\n",
    "$$\n",
    "where $n(\\omega_j)$ and the delta shapes will be replaced by the Gaussian\n",
    "$$\n",
    "S(\\omega) = \\pi \\hbar \\sum_j \\frac{c_j^2}{\\omega_j} [(n_j+1) G(\\omega_j, \\sigma)+n_jG(-\\omega_j, \\sigma)  ]\n",
    "$$\n",
    "\n",
    "in the high temperature limit $n_j = \\frac{k_B T}{\\hbar \\omega_j} >> 1$. This leads to \n",
    "$$\n",
    "S(\\omega) = \\pi k_B T \\sum_j \\frac{c_j^2}{\\omega_j^2} [G(\\omega_j, \\sigma) + G(-\\omega_j, \\sigma)  ]\n",
    "$$\n",
    "\n",
    "which is the same as classical spectral density. NOTE: time domain classical funciton is \n",
    "$$\n",
    "S(t) = k_B T \\sum_j \\frac{c_j^2}{\\omega_j^2} cos(\\omega_j t)\n",
    "$$\n",
    "\n",
    "\n",
    "\n",
    "### Implementation detail. \n",
    "From the dimensional analysis fo the generic interaciton Hamiltonian\n",
    "$$\n",
    "H_{int} = \\sum_{ij} c_{ij} (\\sigma_i \\otimes \\hat{X}_j)\n",
    "$$\n",
    "$c$'s must be in $energy/[X]$ untis. Using definition $X_j = \\sqrt{\\frac{\\hbar}{2\\omega_j}}(a^\\dagger_j + a_j)$\n",
    "\n",
    "our couplings will have to be re formed as $c_{new} = c \\times (\\frac{\\hbar}{2\\omega_j})^{-1/2}$\n",
    "\n",
    "new units of couplings are $[c_{new}] = \\frac{\\sqrt{eng}}{s}$. \n",
    "\n",
    "Consequently, $[S(\\omega)] = eng^2 s$ and $ [S(\\omega)/\\hbar^2] = 1/s$"
   ]
  },
  {
   "cell_type": "code",
   "execution_count": 24,
   "id": "382266e1-fb3c-4ba1-afd3-e929d093210d",
   "metadata": {},
   "outputs": [],
   "source": [
    "Np = len(freq)\n",
    "gcoupS = np.zeros((Np, 3),dtype=float) # defining a place holder for couplings\n",
    "for k in range(Np):\n",
    "    for j in range(3):\n",
    "        gcoupS[k,:] += alpha * dgx[k,:,j] * Bvector[j] * (1/2) # only thing missing from here is Pauli matrix. Everything else is contained.\n",
    "        #therefore, couplings will have units of energy as meV"
   ]
  },
  {
   "cell_type": "code",
   "execution_count": 95,
   "id": "f50c66bc-d42f-43cd-92ef-225456a486e3",
   "metadata": {},
   "outputs": [
    {
     "name": "stderr",
     "output_type": "stream",
     "text": [
      "/home/nyoun/anaconda3/lib/python3.11/site-packages/qutip/utilities.py:41: RuntimeWarning: overflow encountered in exp\n",
      "  if (w_th > 0) and np.exp(w / w_th) != 1.0:\n",
      "/home/nyoun/anaconda3/lib/python3.11/site-packages/qutip/utilities.py:42: RuntimeWarning: overflow encountered in exp\n",
      "  return 1.0 / (np.exp(w / w_th) - 1.0)\n"
     ]
    },
    {
     "data": {
      "image/png": "[encoded data removed]",
      "text/plain": [
       "<Figure size 1200x400 with 1 Axes>"
      ]
     },
     "metadata": {},
     "output_type": "display_data"
    }
   ],
   "source": [
    "x = np.linspace(0, 20, 500)\n",
    "y5q = [spectral_density_quantum(w, freqs=freq, coup=gcoupS[:,2], T=5, sigma=2)/hbar**2 for w in x]\n",
    "y50q = [spectral_density_quantum(w, freqs=freq, coup=gcoupS[:,2], T=50, sigma=2)/hbar**2 for w in x]\n",
    "y100q = [spectral_density_quantum(w, freqs=freq, coup=gcoupS[:,2], T=100, sigma=2)/hbar**2 for w in x]\n",
    "y200q = [spectral_density_quantum(w, freqs=freq, coup=gcoupS[:,2], T=200, sigma=2)/hbar**2 for w in x]\n",
    "y300q = [spectral_density_quantum(w, freqs=freq, coup=gcoupS[:,2], T=300, sigma=2)/hbar**2 for w in x]\n",
    "plt.figure(figsize=(12,4))\n",
    "plt.plot(x,y5q)\n",
    "plt.plot(x,y50q)\n",
    "plt.plot(x,y100q)\n",
    "plt.plot(x,y200q)\n",
    "plt.plot(x,y300q)\n",
    "plt.title(r\"Quantum Spectral Density ($\\Delta \\omega = 16 \\ cm^{-1}$ or 2 meV) \")\n",
    "plt.xlabel(r\"$\\hbar \\omega [meV]$\")\n",
    "plt.ylabel(r\"$\\frac{1}{\\hbar^2}S(\\omega) [ps^{-1}]$\")\n",
    "plt.legend(['5 K','50 K','100 K', '200 K', '300 K'])\n",
    "plt.show()"
   ]
  },
  {
   "cell_type": "code",
   "execution_count": 96,
   "id": "131a8b71-9f48-4d1d-89a1-0b53d44a840e",
   "metadata": {},
   "outputs": [
    {
     "data": {
      "image/png": "[encoded data removed]",
      "text/plain": [
       "<Figure size 1200x400 with 1 Axes>"
      ]
     },
     "metadata": {},
     "output_type": "display_data"
    }
   ],
   "source": [
    "x = np.linspace(0, 20, 500)\n",
    "y5c = [spectral_density_classical(w, freqs=freq, coup=gcoupS[:,2], T=5, sigma=2)/hbar**2 for w in x]\n",
    "y50c = [spectral_density_classical(w, freqs=freq, coup=gcoupS[:,2], T=50, sigma=2)/hbar**2 for w in x]\n",
    "y100c = [spectral_density_classical(w, freqs=freq, coup=gcoupS[:,2], T=100, sigma=2)/hbar**2 for w in x]\n",
    "y200c = [spectral_density_classical(w, freqs=freq, coup=gcoupS[:,2], T=200, sigma=2)/hbar**2 for w in x]\n",
    "y300c = [spectral_density_classical(w, freqs=freq, coup=gcoupS[:,2], T=300, sigma=2)/hbar**2 for w in x]\n",
    "\n",
    "plt.figure(figsize=(12,4))\n",
    "plt.plot(x,y5c)\n",
    "plt.plot(x,y50c)\n",
    "plt.plot(x,y100c)\n",
    "plt.plot(x,y200c)\n",
    "plt.plot(x,y300c)\n",
    "plt.title(r\"Classical Spectral Density ($\\Delta \\omega = 16 \\ cm^{-1}$ or 2 meV) \")\n",
    "plt.xlabel(r\"$\\hbar \\omega [meV]$\")\n",
    "plt.ylabel(r\"$\\frac{1}{\\hbar^2}S(\\omega) [ps^{-1}]$\")\n",
    "plt.legend(['5 K','50 K','100 K', '200 K', '300 K'])\n",
    "plt.show()"
   ]
  },
  {
   "cell_type": "code",
   "execution_count": null,
   "id": "f834ee86-ca11-4933-83b3-7b5721841ac5",
   "metadata": {},
   "outputs": [],
   "source": []
  },
  {
   "cell_type": "code",
   "execution_count": 25,
   "id": "d7d0a94e-1f93-4d75-8449-d985f0fdc834",
   "metadata": {},
   "outputs": [
    {
     "data": {
      "image/png": "[encoded data removed]",
      "text/plain": [
       "<Figure size 1100x900 with 6 Axes>"
      ]
     },
     "metadata": {},
     "output_type": "display_data"
    }
   ],
   "source": [
    "plt.rcParams['text.usetex'] = True \n",
    "plt.rcParams[\"axes.formatter.limits\"]=(0,0)\n",
    "plt.rcParams.update({'font.size': 20})\n",
    "\n",
    "#fig, axs = plt.subplots(3, sharex=True)\n",
    "fig, axs = plt.subplots(3,1,figsize=(11,9),sharex=True, gridspec_kw={'height_ratios': [3, 1,1]})\n",
    "#fig = plt.figure(figsize=(7, 9))\n",
    "#gs = fig.add_gridspec(3, hspace=0)\n",
    "#axs = gs.subplots(sharex=True, sharey=False)\n",
    "\n",
    "highfreq = 59\n",
    "\n",
    "xspec = np.linspace(0, freq[highfreq], 5000)\n",
    "yspec = [spectral_density_quantum(w, freqs=freq, coup=gcoupS[:,2], T=300, sigma=2) for w in xspec]\n",
    "color = 'tab:blue'\n",
    "axs[0].set_xlabel(r\"$\\omega [cm^{-1}]$\")\n",
    "axs[0].set_ylabel(r\"$S_{\\sigma_z}$\", color=color)\n",
    "#axs[0].set_ylim([0, 5])\n",
    "axs[0].plot(xspec/cm2mev,np.array(yspec),color=color)\n",
    "axs[0].fill_between(xspec/cm2mev, np.array(yspec), 0, color='blue', alpha=.1)\n",
    "axs[0].tick_params(axis='y', labelcolor=color)\n",
    "\n",
    "ax2 = axs[0].twinx()  # instantiate a second axes that shares the same x-axis\n",
    "gnorm = np.array([np.sqrt(dgx[i,2,2]**2) for i in range(len(freq[:highfreq]))])\n",
    "\n",
    "color = 'tab:red'\n",
    "ax2.set_ylabel(r\"$|\\partial g_{zz}/\\partial \\hat q_k|$\", color=color)  # we already handled the x-label with ax1\n",
    "#ax2.set_yscale('log')\n",
    "ax2.bar(freq[:highfreq]/cm2mev, gnorm, width=2.5, color=color)\n",
    "ax2.tick_params(axis='y', labelcolor=color)\n",
    "#ax2.set_ylim([0, 10])\n",
    "\n",
    "\n",
    "#############\n",
    "\n",
    "yspec = [spectral_density_quantum(w, freqs=freq, coup=gcoupS[:,1], T=300, sigma=2) for w in xspec]\n",
    "color = 'tab:blue'\n",
    "axs[1].set_xlabel(r\"$\\omega [cm^{-1}]$\")\n",
    "axs[1].set_ylabel(r\"$S_{\\sigma_y} $\", color=color)\n",
    "#axs[1].set_ylim([0, 5])\n",
    "axs[1].plot(xspec/cm2mev,np.array(yspec),color=color)\n",
    "axs[1].fill_between(xspec/cm2mev, np.array(yspec), 0, color='blue', alpha=.1)\n",
    "axs[1].tick_params(axis='y', labelcolor=color)\n",
    "\n",
    "ax2 = axs[1].twinx()  # instantiate a second axes that shares the same x-axis\n",
    "gnorm = np.array([np.sqrt(dgx[i,1,2]**2) for i in range(len(freq[:highfreq]))])\n",
    "\n",
    "color = 'tab:red'\n",
    "ax2.set_ylabel(r\"$|\\partial g_{yz}/\\partial \\hat q_k|$\", color=color)  # we already handled the x-label with ax1\n",
    "#ax2.set_yscale('log')\n",
    "ax2.bar(freq[:highfreq]/cm2mev, gnorm, width=2.5, color=color)\n",
    "ax2.tick_params(axis='y', labelcolor=color)\n",
    "#ax2.set_ylim([0, 10])\n",
    "\n",
    "\n",
    "#############\n",
    "\n",
    "yspec = [spectral_density_quantum(w, freqs=freq, coup=gcoupS[:,0], T=300, sigma=2) for w in xspec]\n",
    "color = 'tab:blue'\n",
    "axs[2].set_xlabel(r\"$\\omega [cm^{-1}]$\")\n",
    "axs[2].set_ylabel(r\"$S_{\\sigma_x}$\", color=color)\n",
    "#axs[2].set_ylim([0, 5])\n",
    "axs[2].plot(xspec/cm2mev,np.array(yspec),color=color)\n",
    "axs[2].fill_between(xspec/cm2mev, np.array(yspec), 0, color='blue', alpha=.1)\n",
    "axs[2].tick_params(axis='y', labelcolor=color)\n",
    "\n",
    "ax2 = axs[2].twinx()  # instantiate a second axes that shares the same x-axis\n",
    "gnorm = np.array([np.sqrt(dgx[i,0,2]**2) for i in range(len(freq[:highfreq]))])\n",
    "\n",
    "color = 'tab:red'\n",
    "ax2.set_ylabel(r\"$|\\partial g_{xz}/\\partial \\hat q_k|$\", color=color)  # we already handled the x-label with ax1\n",
    "#ax2.set_yscale('log')\n",
    "ax2.bar(freq[:highfreq]/cm2mev, gnorm, width=2.5, color=color)\n",
    "ax2.tick_params(axis='y', labelcolor=color)\n",
    "#ax2.set_ylim([0, 10])\n",
    "\n",
    "\n",
    "# Hide x labels and tick labels for all but bottom plot.\n",
    "for ax in axs:\n",
    "    ax.label_outer()"
   ]
  },
  {
   "cell_type": "markdown",
   "id": "7be7e84d-1508-439a-9183-3d2aa7ade6b7",
   "metadata": {},
   "source": [
    "## At this point it is important to note that the useful values of w at which we need S are w=0 and w=energy split"
   ]
  },
  {
   "cell_type": "code",
   "execution_count": 26,
   "id": "941e0ae4-655c-4935-a19a-ec896237b401",
   "metadata": {},
   "outputs": [
    {
     "name": "stdout",
     "output_type": "stream",
     "text": [
      "hbar*w_split=  0.11520085882875064  meV,  w_split/hbar=  0.17502091636854927  freq\n"
     ]
    }
   ],
   "source": [
    "w_split = energies[1]- energies[0]\n",
    "print(r\"hbar*w_split= \", w_split, \" meV, \",\"w_split/hbar= \", w_split/hbar, \" freq\")"
   ]
  },
  {
   "cell_type": "markdown",
   "id": "ad3a72fb-7bbc-45c6-9fd4-1860ec1d31f9",
   "metadata": {},
   "source": [
    "# Redfield with full set of modes for T1 and T2"
   ]
  },
  {
   "cell_type": "markdown",
   "id": "5353af9c-fab1-4130-a415-81ef3fab71f0",
   "metadata": {},
   "source": [
    "## T1 Dynamics"
   ]
  },
  {
   "cell_type": "code",
   "execution_count": 47,
   "id": "0bcc8827-f06a-4157-80be-bc20fca4f3b5",
   "metadata": {},
   "outputs": [
    {
     "name": "stdout",
     "output_type": "stream",
     "text": [
      "10.0%. Run time:   0.12s. Est. time left: 00:00:00:01\n",
      "20.0%. Run time:   0.24s. Est. time left: 00:00:00:00\n",
      "30.0%. Run time:   0.36s. Est. time left: 00:00:00:00\n",
      "40.0%. Run time:   0.48s. Est. time left: 00:00:00:00\n",
      "50.0%. Run time:   0.60s. Est. time left: 00:00:00:00\n",
      "60.0%. Run time:   0.72s. Est. time left: 00:00:00:00\n",
      "70.0%. Run time:   0.84s. Est. time left: 00:00:00:00\n",
      "80.0%. Run time:   0.96s. Est. time left: 00:00:00:00\n",
      "90.0%. Run time:   1.08s. Est. time left: 00:00:00:00\n",
      "Total run time:   1.20s\n"
     ]
    },
    {
     "data": {
      "image/png": "[encoded data removed]",
      "text/plain": [
       "<Figure size 640x480 with 1 Axes>"
      ]
     },
     "metadata": {},
     "output_type": "display_data"
    }
   ],
   "source": [
    "# Single Run\n",
    "Temp = 10\n",
    "\n",
    "tlist = np.linspace(1, 500e6, 2000) # in ps\n",
    "\n",
    "specDensityX = lambda w : spectral_density_quantum(w, freqs=freq, coup=gcoupS[:,0], T=Temp, sigma=2, shape='G')/hbar**2\n",
    "specDensityY = lambda w : spectral_density_quantum(w, freqs=freq, coup=gcoupS[:,1], T=Temp, sigma=2, shape='G')/hbar**2\n",
    "specDensityZ = lambda w : spectral_density_quantum(w, freqs=freq, coup=gcoupS[:,2], T=Temp, sigma=2, shape='G')/hbar**2\n",
    "\n",
    "e_ops = []\n",
    "\n",
    "aops = [[sigmax(),specDensityX], [sigmay(),specDensityY], [sigmaz(),specDensityZ]]\n",
    "\n",
    "\n",
    "rho0 = basis(2,0)*basis(2,0).dag()\n",
    "results1 = brmesolve(-H/(hbar), rho0, tlist, a_ops=aops, e_ops=e_ops, progress_bar=True)\n",
    "\n",
    "rho11_vals = np.array([results1.states[k].full()[0,0] for k in range(len(tlist))])\n",
    "rho22_vals = np.array([results1.states[k].full()[1,1] for k in range(len(tlist))])\n",
    "\n",
    "plt.figure()\n",
    "plt.plot(tlist/1e6, np.abs(rho11_vals))\n",
    "plt.plot(tlist/1e6, np.abs(rho22_vals))\n",
    "plt.xlabel(r\"Time ($\\mu s$)\")\n",
    "plt.ylabel(r\"$\\rho$\")\n",
    "plt.title(\"Evolution of density matrix elements at \"+str(Temp)+\"K\")\n",
    "plt.legend([r\"$\\rho_{11}$\", r\"$\\rho_{22}$\"])\n",
    "plt.show()"
   ]
  },
  {
   "cell_type": "code",
   "execution_count": 48,
   "id": "8892eafc-32ea-425e-9468-41018966f84b",
   "metadata": {},
   "outputs": [
    {
     "data": {
      "text/plain": [
       "0.5167044116352179"
      ]
     },
     "execution_count": 48,
     "metadata": {},
     "output_type": "execute_result"
    }
   ],
   "source": [
    "kB = 8.617333262e-2 # meV/K, Boltzmann constant\n",
    "w_th = kB*Temp/hbar # temperature defined as frequency\n",
    "nth = n_thermal(energies[1]/hbar,w_th)\n",
    "thermal_rho_11 = thermal_dm(2, nth, method='operator').full()[0].real[0]\n",
    "thermal_rho_11"
   ]
  },
  {
   "cell_type": "code",
   "execution_count": 49,
   "id": "6c11d89b-7674-4c82-9425-1c0228a70dde",
   "metadata": {},
   "outputs": [],
   "source": [
    "# curve fitting to extract T1.\n",
    "def t1_func_thermal(x,t1):\n",
    "    kB = 8.6173e-2 # meV/K, Boltzmann constant\n",
    "    w_th = kB*Temp/hbar # temperature defined as frequency\n",
    "    nth = n_thermal(energies[1]/hbar,w_th)\n",
    "    thermal_rho_11 = thermal_dm(2, nth, method='operator').full()[0].real[0]\n",
    "    return (1-thermal_rho_11)*np.exp(-x/t1)+thermal_rho_11\n",
    "\n",
    "def t1_func(x,t1, xinf):\n",
    "    return (1-xinf)*np.exp(-x/t1)+xinf\n",
    "    \n",
    "def t1_func_classical(x,t1):\n",
    "    return (1/2)*np.exp(-x/t1) + (1/2)"
   ]
  },
  {
   "cell_type": "code",
   "execution_count": 50,
   "id": "a9324ad0-943d-4e29-9dd8-2e79ef762be5",
   "metadata": {},
   "outputs": [
    {
     "data": {
      "text/plain": [
       "array([83.8042354 ,  0.53961729])"
      ]
     },
     "execution_count": 50,
     "metadata": {},
     "output_type": "execute_result"
    }
   ],
   "source": [
    "fthermal, df = curve_fit(t1_func_thermal, tlist/1e6, np.abs(rho11_vals))\n",
    "fclassical, df = curve_fit(t1_func_classical, tlist/1e6, np.abs(rho11_vals))\n",
    "f, df = curve_fit(t1_func, tlist/1e6, np.abs(rho11_vals))\n",
    "f"
   ]
  },
  {
   "cell_type": "code",
   "execution_count": 51,
   "id": "1730f336-2c4b-4c5a-9e5f-0de48b9959b6",
   "metadata": {},
   "outputs": [
    {
     "data": {
      "image/png": "[encoded data removed]",
      "text/plain": [
       "<Figure size 640x480 with 1 Axes>"
      ]
     },
     "metadata": {},
     "output_type": "display_data"
    }
   ],
   "source": [
    "fit_thermal = np.array([t1_func_classical(k, fthermal)  for k in tlist/1e6])\n",
    "fit_classical = np.array([t1_func_classical(k, fclassical)  for k in tlist/1e6])\n",
    "fit_f = np.array([t1_func(k, f[0],f[1])  for k in tlist/1e6])\n",
    "plt.figure()\n",
    "plt.plot(tlist/1e6, np.abs(rho11_vals))\n",
    "plt.plot(tlist/1e6, fit_f)\n",
    "plt.plot(tlist/1e6, fit_thermal)\n",
    "plt.xlabel(r\"Time ($\\mu s$)\")\n",
    "plt.ylabel(r\"$\\rho$\")\n",
    "#plt.title(\"Evolution of densitymatrix elements at \"+str(Temp)+\"K, T1 = \"+str(f))\n",
    "plt.legend([r\"$\\rho_{11}$\", r\"fit $t_1 = $\"+str(np.round(f,2)[0])+r\"$\\ \\mu s$\", r\"fit_thermal $t_1 = $\"+str(np.round(fthermal,2)[0])+r\"$\\ \\mu s$\"])\n",
    "plt.show()"
   ]
  },
  {
   "cell_type": "markdown",
   "id": "dc51d8b9-f467-4133-89fb-266fa1069c6b",
   "metadata": {
    "jp-MarkdownHeadingCollapsed": true
   },
   "source": [
    "### Now checking the respose of T1 from 5K to 300 K"
   ]
  },
  {
   "cell_type": "code",
   "execution_count": 52,
   "id": "1c39a52b-afff-4da9-845b-86c103338866",
   "metadata": {},
   "outputs": [],
   "source": [
    "# Temperature Scan, multiple runs\n",
    "Temp_list = [5, 10, 20, 30, 40, 50, 60, 70, 80, 90, 100, 120, 140, 160, 180, 200, 220, 240, 260, 280, 300, 320]\n",
    "tlist = np.linspace(1, 10000e6, 2000) # in ps"
   ]
  },
  {
   "cell_type": "code",
   "execution_count": null,
   "id": "624c6812-b337-4e7f-89e6-de2f1f358090",
   "metadata": {},
   "outputs": [],
   "source": [
    "# QUANTUM\n",
    "\n",
    "t1_list = np.array([])\n",
    "t1d_list = np.array([])\n",
    "\n",
    "rho0 = basis(2,0)*basis(2,0).dag()\n",
    "e_ops = []\n",
    "rho_list = []\n",
    "\n",
    "for k in range(len(Temp_list)):\n",
    "    temp = Temp_list[k]\n",
    "    print(temp)\n",
    "    specDensityX = lambda w : spectral_density_quantum(w, freqs=freq, coup=gcoupS[:,0], T=temp, sigma=2, shape='L')/hbar**2\n",
    "    specDensityY = lambda w : spectral_density_quantum(w, freqs=freq, coup=gcoupS[:,1], T=temp, sigma=2, shape='L')/hbar**2\n",
    "    specDensityZ = lambda w : spectral_density_quantum(w, freqs=freq, coup=gcoupS[:,2], T=temp, sigma=2, shape='L')/hbar**2\n",
    "    aops = [[sigmax(),specDensityX], [sigmay(),specDensityY], [sigmaz(),specDensityZ]]\n",
    "    \n",
    "    results_k = brmesolve(H/(hbar), rho0, tlist, a_ops=aops, e_ops=e_ops)\n",
    "    rho_list.append(results_k.states) # saving states for later\n",
    "    rho11_k = np.array([results_k.states[j].full()[0,0] for j in range(len(tlist))]) # first element of rho vs time \n",
    "\n",
    "\n",
    "    fthermal, df = curve_fit(t1_func_thermal, tlist/1e6, np.abs(rho11_k))\n",
    "    fclassical, df = curve_fit(t1_func_classical, tlist/1e6, np.abs(rho11_k))\n",
    "    f, df = curve_fit(t1_func, tlist/1e6, np.abs(rho11_k))\n",
    "    print('saturation value difference', f[1]-rho11_k[-1])\n",
    "    t1, t1d = f[0], df[0,0]\n",
    "    t1_list = np.append(t1_list, t1)\n",
    "    t1d_list = np.append(t1d_list, t1d)\n",
    "    ##########################################################################################################################\n",
    "    ################## PLOTTING ################################################\n",
    "    #fit_thermal = np.array([t1_func_classical(m, fthermal)  for m in tlist/1e6])\n",
    "    #fit_classical = np.array([t1_func_classical(m, fclassical)  for m in tlist/1e6])\n",
    "    fit_f = np.array([t1_func(m, f[0],f[1])  for m in tlist/1e6])\n",
    "    plt.figure()\n",
    "    plt.plot(tlist/1e6, np.abs(rho11_k))\n",
    "    plt.plot(tlist/1e6, fit_f)\n",
    "    #plt.plot(tlist/1e6, fit_thermal)\n",
    "    plt.xlabel(r\"Time ($\\mu s$)\")\n",
    "    plt.ylabel(r\"$\\rho$\")\n",
    "    plt.legend([r\"$\\rho_{11}$\", r\"fit $t_1 = $\"+str(np.round(f,2)[0])+r\"$\\ \\mu s$\", r\"fit_thermal $t_1 = $\"+str(np.round(fthermal,2)[0])+r\"$\\ \\mu s$\"])\n",
    "    plt.show()\n",
    "    ############################################################################################################################\n",
    "np.save('saved variables/t1_list', t1_list)\n",
    "np.save('saved variables/t1d_list', t1d_list)\n",
    "print(t1_list) "
   ]
  },
  {
   "cell_type": "code",
   "execution_count": null,
   "id": "c0a06be8-bdd9-4f7e-8bdd-18c987ec3608",
   "metadata": {},
   "outputs": [],
   "source": [
    "# CLASSICAL\n",
    "\n",
    "t1_list = np.array([])\n",
    "t1d_list = np.array([])\n",
    "\n",
    "rho0 = basis(2,0)*basis(2,0).dag()\n",
    "e_ops = []\n",
    "rho_list = []\n",
    "\n",
    "for k in range(len(Temp_list)):\n",
    "    temp = Temp_list[k]\n",
    "    print(temp)\n",
    "    specDensityX = lambda w : spectral_density_classical(w, freqs=freq, coup=gcoupS[:,0], T=temp, sigma=2, shape='L')/hbar**2\n",
    "    specDensityY = lambda w : spectral_density_classical(w, freqs=freq, coup=gcoupS[:,1], T=temp, sigma=2, shape='L')/hbar**2\n",
    "    specDensityZ = lambda w : spectral_density_classical(w, freqs=freq, coup=gcoupS[:,2], T=temp, sigma=2, shape='L')/hbar**2\n",
    "    aops = [[sigmax(),specDensityX], [sigmay(),specDensityY], [sigmaz(),specDensityZ]]\n",
    "    \n",
    "    results_k = brmesolve(H/(hbar), rho0, tlist, a_ops=aops, e_ops=e_ops)\n",
    "    rho_list.append(results_k.states) # saving states for later\n",
    "    rho11_k = np.array([results_k.states[j].full()[0,0] for j in range(len(tlist))]) # first element of rho vs time \n",
    "\n",
    "\n",
    "    #f, df = curve_fit(t1_func_thermal, tlist/1e6, np.abs(rho11_k))\n",
    "    f, df = curve_fit(t1_func_classical, tlist/1e6, np.abs(rho11_k))\n",
    "    #f, df = curve_fit(t1_func, tlist/1e6, np.abs(rho11_k))\n",
    "    #t1, t1d = f[0], df[0,0]\n",
    "    t1, t1d = f, df\n",
    "    t1_list = np.append(t1_list, t1)\n",
    "    t1d_list = np.append(t1d_list, t1d)\n",
    "    ##########################################################################################################################\n",
    "    ################## PLOTTING ################################################\n",
    "    #fit = np.array([t1_func_classical(m, t1)  for m in tlist/1e6])\n",
    "    fit = np.array([t1_func_classical(m, t1)  for m in tlist/1e6])\n",
    "    #fit = np.array([t1_func(m, f[0],f[1])  for m in tlist/1e6])\n",
    "    plt.figure()\n",
    "    plt.plot(tlist/1e6, np.abs(rho11_k))\n",
    "    plt.plot(tlist/1e6, fit)\n",
    "    plt.xlabel(r\"Time ($\\mu s$)\")\n",
    "    plt.ylabel(r\"$\\rho$\")\n",
    "    plt.legend([r\"$\\rho_{11}$\", r\"fit $t_1 = $\"+str(np.round(t1,2)[0])+r\"$\\ \\mu s$\"])\n",
    "    plt.show()\n",
    "    ############################################################################################################################\n",
    "np.save('saved variables/t1_list_classical', t1_list)\n",
    "np.save('saved variables/t1d_list_classical', t1d_list)\n",
    "print(t1_list) "
   ]
  },
  {
   "cell_type": "code",
   "execution_count": 69,
   "id": "5d7d1f0f-9929-40de-9071-7d748be8a7c1",
   "metadata": {},
   "outputs": [
    {
     "ename": "NameError",
     "evalue": "name 'Temp_list' is not defined",
     "output_type": "error",
     "traceback": [
      "\u001b[0;31m---------------------------------------------------------------------------\u001b[0m",
      "\u001b[0;31mNameError\u001b[0m                                 Traceback (most recent call last)",
      "Cell \u001b[0;32mIn[69], line 6\u001b[0m\n\u001b[1;32m      4\u001b[0m t1d_list_classical \u001b[38;5;241m=\u001b[39m np\u001b[38;5;241m.\u001b[39mload(\u001b[38;5;124m'\u001b[39m\u001b[38;5;124msaved variables/t1d_list_classical.npy\u001b[39m\u001b[38;5;124m'\u001b[39m)\n\u001b[1;32m      5\u001b[0m plt\u001b[38;5;241m.\u001b[39mfigure(figsize\u001b[38;5;241m=\u001b[39m(\u001b[38;5;241m12\u001b[39m,\u001b[38;5;241m6\u001b[39m))\n\u001b[0;32m----> 6\u001b[0m plt\u001b[38;5;241m.\u001b[39merrorbar(Temp_list, t1_list_quantum, yerr \u001b[38;5;241m=\u001b[39m t1d_list_quantum, fmt\u001b[38;5;241m=\u001b[39m\u001b[38;5;124m'\u001b[39m\u001b[38;5;124m-o\u001b[39m\u001b[38;5;124m'\u001b[39m)\n\u001b[1;32m      7\u001b[0m plt\u001b[38;5;241m.\u001b[39merrorbar(Temp_list, t1_list_classical, yerr \u001b[38;5;241m=\u001b[39m t1d_list_classical, fmt\u001b[38;5;241m=\u001b[39m\u001b[38;5;124m'\u001b[39m\u001b[38;5;124m-o\u001b[39m\u001b[38;5;124m'\u001b[39m)\n\u001b[1;32m      8\u001b[0m plt\u001b[38;5;241m.\u001b[39mxscale(\u001b[38;5;124m'\u001b[39m\u001b[38;5;124mlog\u001b[39m\u001b[38;5;124m'\u001b[39m)\n",
      "\u001b[0;31mNameError\u001b[0m: name 'Temp_list' is not defined"
     ]
    },
    {
     "data": {
      "text/plain": [
       "<Figure size 1200x600 with 0 Axes>"
      ]
     },
     "metadata": {},
     "output_type": "display_data"
    }
   ],
   "source": [
    "t1_list_quantum = np.load('saved variables/t1_list.npy')\n",
    "t1d_list_quantum = np.load('saved variables/t1d_list.npy')\n",
    "t1_list_classical = np.load('saved variables/t1_list_classical.npy')\n",
    "t1d_list_classical = np.load('saved variables/t1d_list_classical.npy')\n",
    "plt.figure(figsize=(12,6))\n",
    "plt.errorbar(Temp_list, t1_list_quantum, yerr = t1d_list_quantum, fmt='-o')\n",
    "plt.errorbar(Temp_list, t1_list_classical, yerr = t1d_list_classical, fmt='-o')\n",
    "plt.xscale('log')\n",
    "plt.yscale('log')\n",
    "plt.title(r\"$T_1$ as a function of temperature for single molecule\")\n",
    "plt.legend(['Quantum ', 'Classical'])\n",
    "plt.xlabel('T [K]')\n",
    "plt.ylabel(r\"$T_1 [\\mu s]$\")\n"
   ]
  },
  {
   "cell_type": "code",
   "execution_count": 70,
   "id": "dedec617-339a-4b11-a203-02e78705ffc8",
   "metadata": {},
   "outputs": [
    {
     "data": {
      "text/plain": [
       "array([[ 2.02933965e-05,  9.36159788e-07,  3.63954468e-06],\n",
       "       [-7.50350054e-06,  2.17298704e-06, -1.24094443e-05],\n",
       "       [ 1.27220494e-06, -6.08141489e-06, -4.67423864e-06],\n",
       "       [-8.65479725e-07, -4.84542501e-06, -8.46934916e-06],\n",
       "       [-4.35784226e-06,  1.97056052e-06, -6.47247520e-06],\n",
       "       [-3.48534544e-06, -2.14602572e-06, -5.08073767e-06],\n",
       "       [ 1.12041506e-06, -1.48223428e-06,  5.57615431e-06],\n",
       "       [ 3.33235607e-06, -8.56170599e-07, -2.53725563e-06],\n",
       "       [ 4.58306456e-06, -4.08052357e-06,  1.83823319e-06],\n",
       "       [ 3.71030849e-06, -3.00513658e-06,  3.68791488e-06],\n",
       "       [-2.23010119e-06,  2.30719407e-06, -6.37808993e-07],\n",
       "       [-1.83105511e-06, -3.92338444e-07, -9.57292738e-07],\n",
       "       [ 1.04192761e-06, -1.14234363e-06, -2.47792665e-07],\n",
       "       [-5.75619726e-06,  5.11439180e-07,  5.94048185e-07],\n",
       "       [ 2.51427159e-06, -9.81301642e-07,  4.73206616e-07],\n",
       "       [ 1.22584054e-06, -4.23255288e-07, -9.04834898e-07],\n",
       "       [ 1.61790728e-06, -8.99632460e-07,  4.28907277e-07],\n",
       "       [ 5.43496785e-07, -2.84682770e-07,  9.40491941e-07],\n",
       "       [ 2.43864461e-06, -3.87596022e-07, -2.27710850e-07],\n",
       "       [-6.05675345e-07, -1.17236269e-07,  2.99277446e-07],\n",
       "       [-1.05260403e-06, -3.97932276e-07, -6.58178055e-07],\n",
       "       [ 4.84252847e-07, -5.75228653e-07, -2.64394927e-06],\n",
       "       [ 1.60297077e-06, -1.58201565e-06, -3.23263100e-07],\n",
       "       [-1.01347848e-07,  2.80938644e-07, -3.27224050e-07],\n",
       "       [ 3.25246085e-06, -1.17276142e-06,  9.21672821e-07],\n",
       "       [ 2.13456491e-06, -1.87095042e-06, -5.64870220e-07],\n",
       "       [ 3.87449276e-06, -9.87673365e-07,  1.26879439e-06],\n",
       "       [-4.06072319e-06,  1.41667283e-06, -1.70802782e-06],\n",
       "       [ 1.27847534e-06, -9.02248023e-07, -9.47134035e-07],\n",
       "       [ 8.45682655e-07,  7.37136252e-07,  1.52468597e-06],\n",
       "       [-2.78958621e-06,  1.27408150e-07, -7.35840830e-07],\n",
       "       [-6.17763565e-07,  1.85311236e-07, -1.65866999e-07],\n",
       "       [ 1.23365341e-08,  6.26710479e-07,  5.67132712e-07],\n",
       "       [-8.13171957e-09,  3.03941249e-07, -8.66815006e-07],\n",
       "       [ 9.67384204e-07, -2.89758820e-07, -3.12527974e-07],\n",
       "       [ 6.95424562e-07,  5.92939979e-07, -1.08308272e-06],\n",
       "       [ 2.60117470e-06, -6.17168804e-07,  2.92497998e-07],\n",
       "       [ 1.61437478e-06, -4.58566964e-07, -3.08324644e-07],\n",
       "       [ 2.85031019e-06,  4.59235708e-07,  5.25659751e-07],\n",
       "       [-1.57676335e-06, -2.96026317e-07, -2.50076155e-06],\n",
       "       [ 7.87678242e-07, -4.94179411e-08,  8.15731491e-07],\n",
       "       [ 1.53617910e-06, -7.24121361e-07, -3.22324036e-07],\n",
       "       [-1.30309464e-06, -2.08059908e-08, -6.10103043e-07],\n",
       "       [ 7.11684076e-07,  1.75483123e-07, -7.90640248e-07],\n",
       "       [ 1.86414815e-06, -6.27657533e-07,  1.00223324e-06],\n",
       "       [-1.20128892e-06,  1.47403713e-06,  1.33276480e-06],\n",
       "       [-4.73818303e-07,  2.33901371e-07,  8.84860461e-07],\n",
       "       [-1.58428850e-06,  1.07905430e-06,  2.44329091e-07],\n",
       "       [-1.59324546e-06,  7.19790761e-07, -2.35943250e-07],\n",
       "       [ 9.62801055e-07, -1.28418249e-06,  3.09583318e-06],\n",
       "       [ 5.51296900e-06, -1.55653504e-06,  4.63607675e-07],\n",
       "       [ 2.26150828e-06, -7.74889326e-07, -1.02805253e-07],\n",
       "       [ 7.20603211e-07, -3.89722328e-07, -1.28561692e-07],\n",
       "       [ 3.07648796e-07, -7.71367068e-07, -1.03794122e-06],\n",
       "       [ 1.02128545e-06, -8.03460448e-07,  4.25653508e-07],\n",
       "       [ 5.08117180e-07, -1.02869056e-08,  1.21943266e-06],\n",
       "       [ 2.85191061e-06, -5.79104771e-07,  1.48059075e-06],\n",
       "       [ 1.05362527e-06, -2.21534372e-07,  8.51217539e-07],\n",
       "       [-7.50497046e-07,  4.25067044e-07,  4.28131655e-07],\n",
       "       [-9.97995752e-07,  5.03171171e-07, -8.69387680e-08],\n",
       "       [-8.15953819e-07,  2.45944331e-08, -1.06971357e-06],\n",
       "       [ 1.08561002e-06, -5.25231028e-07,  9.14011194e-07],\n",
       "       [ 3.99160498e-06, -2.30573698e-06,  6.02378445e-07],\n",
       "       [ 1.93250162e-06, -1.58175357e-06, -9.61051060e-07],\n",
       "       [ 7.50550698e-07, -5.65833906e-07, -5.40657798e-07],\n",
       "       [-1.47251682e-06,  1.65453137e-07, -1.34996880e-06],\n",
       "       [ 1.21979017e-06, -2.97084663e-07, -1.45467182e-08],\n",
       "       [ 5.63103844e-07, -4.61971200e-08, -3.41028534e-07],\n",
       "       [ 2.38660688e-07, -9.70557236e-08,  3.28440569e-07],\n",
       "       [-1.01691866e-07, -1.35863311e-07,  1.21819315e-07],\n",
       "       [-1.54163019e-08,  3.54025162e-07,  2.03575816e-08],\n",
       "       [-7.71428086e-08, -5.39465342e-08,  1.77919515e-07],\n",
       "       [ 1.40820676e-07, -1.24105303e-07,  2.20947975e-07],\n",
       "       [-4.47450202e-09,  2.55989497e-07, -5.21546993e-09],\n",
       "       [-1.93536895e-08, -2.33611126e-07,  6.18314323e-07],\n",
       "       [ 5.30291909e-07,  1.42547937e-07,  8.77355123e-07],\n",
       "       [ 2.74836320e-07,  2.78299869e-08, -1.11507527e-07],\n",
       "       [ 4.86341280e-07, -3.16691979e-07,  1.05326680e-06],\n",
       "       [ 3.13208137e-07, -2.13334516e-07, -2.25913943e-07],\n",
       "       [-9.58504084e-07,  2.56918808e-07, -6.39590837e-07],\n",
       "       [ 3.77012368e-07, -1.39039196e-07, -1.24330647e-06],\n",
       "       [-1.96362967e-08,  1.56773536e-07, -8.57568461e-07],\n",
       "       [ 3.26468570e-07, -3.96969764e-07, -6.46055261e-07],\n",
       "       [ 7.64728926e-07, -4.47496901e-07, -5.11862861e-07],\n",
       "       [ 2.62312693e-07, -1.63248633e-07, -8.52440399e-07],\n",
       "       [-8.18840827e-07,  5.08476801e-07,  5.42922998e-07],\n",
       "       [ 7.06842998e-07, -3.91019475e-07,  1.12458720e-07],\n",
       "       [ 1.55837563e-07, -9.63739448e-08,  6.17302148e-07],\n",
       "       [-1.30808590e-07,  1.45271989e-07, -4.11208798e-08],\n",
       "       [-6.21090655e-08,  9.47858291e-08, -4.60577666e-07],\n",
       "       [-3.96188420e-07,  3.94461671e-08,  5.80495968e-07],\n",
       "       [-5.19490310e-07,  9.58927076e-08,  7.76107786e-07],\n",
       "       [ 3.99769580e-07, -6.96782980e-08,  1.21554616e-06],\n",
       "       [ 1.04168389e-06, -5.47003963e-07, -1.11438739e-06],\n",
       "       [ 4.59830383e-07,  1.67209925e-08, -5.81427236e-07],\n",
       "       [ 1.21779050e-07, -2.48835429e-07, -7.02347980e-07],\n",
       "       [-3.30233238e-07,  2.96348260e-07, -1.46433973e-06],\n",
       "       [ 1.70959429e-07,  4.67197155e-10, -1.14637739e-07],\n",
       "       [ 4.70657545e-07, -2.83568357e-08, -2.43413681e-06],\n",
       "       [-9.01059483e-07,  3.22240918e-10,  8.19860258e-07],\n",
       "       [ 3.73155734e-07,  4.58705190e-09,  2.45149634e-07],\n",
       "       [-7.04998040e-07,  2.62351033e-07, -7.18357017e-07],\n",
       "       [-7.15660050e-07,  2.34275534e-07,  2.38180116e-06],\n",
       "       [ 3.32970509e-07, -1.52453137e-07,  9.39109087e-08],\n",
       "       [-6.60258760e-07,  3.80971510e-07,  1.40571941e-06],\n",
       "       [-3.97862149e-07, -2.67369875e-07, -6.28967509e-07],\n",
       "       [ 3.83308544e-07, -3.42253984e-07, -6.92099294e-07],\n",
       "       [ 3.30514944e-07, -2.74238163e-07, -1.75872215e-07],\n",
       "       [-2.65954269e-07,  1.20226930e-07, -1.24884275e-06],\n",
       "       [ 2.02385987e-07, -4.29124443e-07, -6.77052266e-07],\n",
       "       [-1.44015893e-07,  2.30808325e-07, -1.17125820e-06],\n",
       "       [ 4.84568862e-07, -5.62582062e-07,  4.59735496e-07],\n",
       "       [-8.33417840e-08, -5.66165936e-08,  4.88998400e-07],\n",
       "       [ 4.36766261e-07, -1.10896118e-07, -9.07460950e-07],\n",
       "       [-2.71253927e-07,  9.49911250e-08,  1.46819682e-06],\n",
       "       [-4.78280614e-07,  2.05607131e-07, -2.72735460e-07],\n",
       "       [ 5.20640711e-08,  1.25148113e-07, -1.38828982e-06],\n",
       "       [ 7.56538155e-08,  2.10171337e-07, -5.18413856e-07],\n",
       "       [ 4.33287581e-07, -1.20059193e-07,  6.34351506e-07],\n",
       "       [-3.93100328e-07,  1.18640954e-07,  1.06256789e-06],\n",
       "       [ 2.19096270e-07,  1.15106384e-07,  9.24863863e-07],\n",
       "       [-2.00833733e-07,  2.88600838e-07, -1.19513353e-06],\n",
       "       [-1.19129972e-06,  6.34805349e-07, -1.70012610e-06],\n",
       "       [-2.41256205e-07,  4.00740629e-07, -4.99497200e-07],\n",
       "       [ 2.18045242e-07,  3.31636228e-08, -1.62716948e-07],\n",
       "       [-6.60066511e-07,  2.85930077e-07,  4.33018116e-07],\n",
       "       [ 1.34998041e-07,  7.43457026e-08, -2.32524019e-07],\n",
       "       [ 5.56799875e-08,  3.09759514e-08, -1.33464972e-06],\n",
       "       [-6.74656202e-07,  3.17327669e-07, -1.16415340e-06],\n",
       "       [-1.76317032e-07,  1.68693290e-07, -9.31422651e-07],\n",
       "       [ 3.52737255e-07, -2.95874721e-07,  5.00081625e-07],\n",
       "       [ 5.64640481e-08, -3.63242317e-08,  8.00681184e-07],\n",
       "       [-4.05608027e-08, -5.91633015e-09,  1.35060097e-06],\n",
       "       [ 1.01501664e-08, -1.48630794e-07, -1.44037503e-06],\n",
       "       [-5.55868108e-07,  3.47658506e-07, -1.94575148e-06],\n",
       "       [-2.05382891e-07,  1.16850606e-07, -5.98495913e-08],\n",
       "       [-1.22911094e-07, -3.25205888e-08,  4.30245000e-07],\n",
       "       [-1.72600252e-08,  1.66604886e-08,  3.76732556e-07],\n",
       "       [-1.15230491e-07,  1.88941581e-07, -5.47782486e-07],\n",
       "       [-1.70506266e-07, -2.78194994e-08, -1.72678425e-07],\n",
       "       [-1.74892745e-07,  3.75088522e-08,  1.62708354e-07],\n",
       "       [ 4.88828501e-07, -1.62311239e-07, -4.08513771e-07],\n",
       "       [-2.11131319e-07,  9.22157489e-08,  3.57925012e-08],\n",
       "       [ 3.70478114e-07, -9.03199632e-08, -1.16851344e-07],\n",
       "       [-4.99889556e-07,  3.76147759e-08,  2.67795165e-08],\n",
       "       [-1.00647516e-07,  1.15273839e-07,  2.00540968e-07],\n",
       "       [ 2.21517916e-07,  7.59235748e-08,  1.59507570e-08],\n",
       "       [ 7.68608561e-08,  6.36511241e-08,  2.50559285e-07],\n",
       "       [-1.05244758e-07,  1.18856499e-07,  9.95141497e-08],\n",
       "       [-1.19941053e-07,  5.27678552e-08,  4.35558519e-08],\n",
       "       [ 5.39845444e-08, -2.21671709e-07, -7.54030258e-08],\n",
       "       [-4.96793492e-09,  4.25773207e-08,  2.69764833e-08],\n",
       "       [ 6.94075679e-08, -5.72407461e-08, -4.55483419e-08],\n",
       "       [ 2.81578056e-09,  8.79489456e-08,  1.27612024e-07],\n",
       "       [ 3.40314955e-07, -2.42180571e-07, -4.11672122e-08],\n",
       "       [-1.03577572e-07, -6.23078367e-08, -9.35731530e-08],\n",
       "       [-1.76639300e-07,  5.61883763e-08,  4.98185791e-08],\n",
       "       [-3.39818521e-07,  1.51188554e-07,  3.62216115e-07],\n",
       "       [-7.75009026e-08, -6.06712305e-09,  2.17654237e-07],\n",
       "       [-2.06375186e-07,  7.22816955e-08,  5.59556405e-08],\n",
       "       [-1.40119417e-07,  7.27835043e-08, -1.43434020e-08],\n",
       "       [-1.48854800e-07,  7.81141885e-08,  2.40499548e-07],\n",
       "       [-4.00656995e-07,  1.94200146e-07,  1.12786488e-07],\n",
       "       [ 7.59370286e-08,  1.11231150e-09, -1.89304483e-07],\n",
       "       [-3.16521844e-07,  2.53598925e-07,  8.88670108e-08],\n",
       "       [ 1.93296992e-08,  2.08526301e-08,  5.05615591e-08],\n",
       "       [ 4.18773728e-07, -2.23820577e-07, -3.07403271e-07],\n",
       "       [-9.29690850e-07,  3.50394666e-07,  6.92905344e-07],\n",
       "       [-2.40628652e-07,  2.02193666e-08,  3.27661448e-07],\n",
       "       [-1.37042760e-06,  6.47866567e-07,  6.37666624e-07],\n",
       "       [-7.43387627e-09, -1.68167586e-07, -5.15600919e-07],\n",
       "       [ 1.13460911e-06, -6.95068040e-07, -6.68068319e-07],\n",
       "       [-8.86097305e-07,  4.63212703e-07, -1.04001796e-07],\n",
       "       [ 5.28023343e-08, -1.98073994e-07, -3.01170254e-07],\n",
       "       [-7.83172741e-08, -1.06071758e-08, -9.29171509e-08],\n",
       "       [-1.69911665e-07,  9.46484754e-08, -5.04261182e-08],\n",
       "       [ 1.47818886e-07,  1.13100813e-09,  3.22949248e-09],\n",
       "       [ 4.57976730e-08, -2.31757091e-08, -1.40204391e-07],\n",
       "       [-2.12233215e-07,  1.24973290e-07,  3.30149594e-07],\n",
       "       [ 1.86161480e-07,  3.61913678e-08,  5.28269355e-09],\n",
       "       [-3.47413798e-07,  2.09082344e-07,  4.77612815e-07],\n",
       "       [-3.07155343e-07,  7.58489887e-08,  4.85927172e-07],\n",
       "       [ 2.17939580e-08, -8.75718605e-08,  6.22893774e-07],\n",
       "       [ 4.33540979e-07, -1.62727444e-07, -5.90286740e-07],\n",
       "       [-8.84520805e-07,  3.61196911e-07,  5.78624115e-07],\n",
       "       [ 3.51651583e-08,  2.35947359e-07,  9.06694803e-08],\n",
       "       [ 1.25869039e-07,  4.62882325e-08,  1.75884364e-08],\n",
       "       [-2.43191613e-07,  1.00738811e-07,  1.50313244e-07],\n",
       "       [-4.05159133e-07,  6.36564518e-08, -2.51366362e-07],\n",
       "       [-4.14424362e-07,  1.05841721e-07, -1.89155256e-07]])"
      ]
     },
     "execution_count": 70,
     "metadata": {},
     "output_type": "execute_result"
    }
   ],
   "source": [
    "gcoupTest"
   ]
  },
  {
   "cell_type": "code",
   "execution_count": 71,
   "id": "1f63a88c-3a1b-42fd-b954-f2ee0d3ff1d0",
   "metadata": {},
   "outputs": [
    {
     "ename": "NameError",
     "evalue": "name 'Temp_list' is not defined",
     "output_type": "error",
     "traceback": [
      "\u001b[0;31m---------------------------------------------------------------------------\u001b[0m",
      "\u001b[0;31mNameError\u001b[0m                                 Traceback (most recent call last)",
      "Cell \u001b[0;32mIn[71], line 17\u001b[0m\n\u001b[1;32m     14\u001b[0m e_ops \u001b[38;5;241m=\u001b[39m []\n\u001b[1;32m     15\u001b[0m rho_list \u001b[38;5;241m=\u001b[39m []\n\u001b[0;32m---> 17\u001b[0m \u001b[38;5;28;01mfor\u001b[39;00m k \u001b[38;5;129;01min\u001b[39;00m \u001b[38;5;28mrange\u001b[39m(\u001b[38;5;28mlen\u001b[39m(Temp_list)):\n\u001b[1;32m     18\u001b[0m     temp \u001b[38;5;241m=\u001b[39m Temp_list[k]\n\u001b[1;32m     19\u001b[0m     \u001b[38;5;28mprint\u001b[39m(temp)\n",
      "\u001b[0;31mNameError\u001b[0m: name 'Temp_list' is not defined"
     ]
    }
   ],
   "source": [
    "# test \n",
    "gcoupTest = np.zeros((Np, 3),dtype=float) # defining a place holder for couplings\n",
    "for k in range(Np):\n",
    "    for j in range(3):\n",
    "        gcoupTest[k,:] += alpha * dgx[k,:,j] * Bvector[j] * (1/2) * np.sqrt(hbar/(2*freq[k]/hbar))# only thing missing from here is Pauli matrix. Everything else is contained.\n",
    "        #therefore, couplings will have units of energy as meV\n",
    "\n",
    "# QUANTUM\n",
    "\n",
    "t1_list_test = np.array([])\n",
    "t1d_list_test = np.array([])\n",
    "\n",
    "rho0 = basis(2,0)*basis(2,0).dag()\n",
    "e_ops = []\n",
    "rho_list = []\n",
    "\n",
    "for k in range(len(Temp_list)):\n",
    "    temp = Temp_list[k]\n",
    "    print(temp)\n",
    "    specDensityX = lambda w : spectral_density_quantum(w, freqs=freq, coup=gcoupTest[:,0], T=temp, sigma=2, shape='L')/hbar**2\n",
    "    specDensityY = lambda w : spectral_density_quantum(w, freqs=freq, coup=gcoupTest[:,1], T=temp, sigma=2, shape='L')/hbar**2\n",
    "    specDensityZ = lambda w : spectral_density_quantum(w, freqs=freq, coup=gcoupTest[:,2], T=temp, sigma=2, shape='L')/hbar**2\n",
    "    aops = [[sigmax(),specDensityX], [sigmay(),specDensityY], [sigmaz(),specDensityZ]]\n",
    "    \n",
    "    results_k = brmesolve(H/(hbar), rho0, tlist, a_ops=aops, e_ops=e_ops)\n",
    "    rho_list.append(results_k.states) # saving states for later\n",
    "    rho11_k = np.array([results_k.states[j].full()[0,0] for j in range(len(tlist))]) # first element of rho vs time \n",
    "\n",
    "\n",
    "    fthermal, df = curve_fit(t1_func_thermal, tlist/1e6, np.abs(rho11_k))\n",
    "    fclassical, df = curve_fit(t1_func_classical, tlist/1e6, np.abs(rho11_k))\n",
    "    f, df = curve_fit(t1_func, tlist/1e6, np.abs(rho11_k))\n",
    "    print('saturation value difference', f[1]-rho11_k[-1])\n",
    "    t1, t1d = f[0], df[0,0]\n",
    "    t1_list_test = np.append(t1_list_test, t1)\n",
    "    t1d_list_test = np.append(t1d_list_test, t1d)\n",
    "    ##########################################################################################################################\n",
    "    ################## PLOTTING ################################################\n",
    "    #fit_thermal = np.array([t1_func_classical(m, fthermal)  for m in tlist/1e6])\n",
    "    #fit_classical = np.array([t1_func_classical(m, fclassical)  for m in tlist/1e6])\n",
    "    fit_f = np.array([t1_func(m, f[0],f[1])  for m in tlist/1e6])\n",
    "    plt.figure()\n",
    "    plt.plot(tlist/1e6, np.abs(rho11_k))\n",
    "    plt.plot(tlist/1e6, fit_f)\n",
    "    #plt.plot(tlist/1e6, fit_thermal)\n",
    "    plt.xlabel(r\"Time ($\\mu s$)\")\n",
    "    plt.ylabel(r\"$\\rho$\")\n",
    "    plt.legend([r\"$\\rho_{11}$\", r\"fit $t_1 = $\"+str(np.round(f,2)[0])+r\"$\\ \\mu s$\", r\"fit_thermal $t_1 = $\"+str(np.round(fthermal,2)[0])+r\"$\\ \\mu s$\"])\n",
    "    plt.show()\n",
    "    ############################################################################################################################\n",
    "#np.save('saved variables/t1_list_test', t1_list_test)\n",
    "#np.save('saved variables/t1d_list_test', t1d_list_test)\n",
    "print(t1_list_test) "
   ]
  },
  {
   "cell_type": "code",
   "execution_count": 67,
   "id": "5972a463-fa91-4b3e-a86f-deed26304f1f",
   "metadata": {},
   "outputs": [
    {
     "name": "stdout",
     "output_type": "stream",
     "text": [
      "[127.16040333 102.5430231   64.94536042  46.07117922  35.42892798\n",
      "  28.70145065  24.09100883  20.74323741  18.20558043  16.21740304\n",
      "  14.61852519  12.20761916  10.47726811   9.1755132    8.16091462\n",
      "   7.34802424   6.6822006    6.12688267   5.65669649   5.25346895\n",
      "   4.90386273   4.59785276]\n"
     ]
    }
   ],
   "source": [
    "print(np.load('saved variables/t1_list.npy'))"
   ]
  },
  {
   "cell_type": "code",
   "execution_count": null,
   "id": "4ac09edb-7008-41fc-a4ca-ca7a9eb6f280",
   "metadata": {},
   "outputs": [],
   "source": [
    "# testing t1 dynamics at 0.345 T\n",
    "# Defining External magnetic field vector\n",
    "\n",
    "B345 = np.zeros(3)\n",
    "B345[0] = 0\n",
    "B345[1] = 0\n",
    "B345[2] = 0.345\n",
    "\n",
    "# Defining spin Hamiltonian\n",
    "H345 = None\n",
    "\n",
    "# 1) Zeeman interaction\n",
    "for i in range(3):\n",
    "    for j in range(3):\n",
    "        if H345 is None:\n",
    "            H345 = alpha * gtensor[i][j] *(1/2)* sigma_vec[i] * B345[j] # notice this 1/2 here. its because i am using pauli matrices \n",
    "        else:\n",
    "            H345 += alpha * gtensor[i][j] *(1/2)* sigma_vec[i] * B345[j]# instead of spin 1/2 matrices \n",
    "\n",
    "H345"
   ]
  },
  {
   "cell_type": "markdown",
   "id": "55bec61c-cea5-4513-8734-a09322f6c674",
   "metadata": {},
   "source": [
    "#### Running simulation"
   ]
  },
  {
   "cell_type": "code",
   "execution_count": null,
   "id": "f2171261-3b54-4482-bb10-9de4224e11fc",
   "metadata": {},
   "outputs": [],
   "source": [
    "# QUANTUM\n",
    "tlist = np.linspace(1, 10e6, 100000) # in ps\n",
    "t1_list_345mT = np.array([])\n",
    "t1d_list_345mT = np.array([])\n",
    "\n",
    "rho0 = basis(2,0)*basis(2,0).dag()\n",
    "e_ops = []\n",
    "rho_list = []\n",
    "options=Options()\n",
    "options.nsteps=5000\n",
    "\n",
    "for k in range(len(Temp_list)):\n",
    "    temp = Temp_list[k]\n",
    "    print(temp)\n",
    "    specDensityX = lambda w : spectral_density_quantum(w, freqs=freq, coup=gcoupS[:,0]*0.345, T=temp, sigma=2)/hbar**2\n",
    "    specDensityY = lambda w : spectral_density_quantum(w, freqs=freq, coup=gcoupS[:,1]*0.345, T=temp, sigma=2)/hbar**2\n",
    "    specDensityZ = lambda w : spectral_density_quantum(w, freqs=freq, coup=gcoupS[:,2]*0.345, T=temp, sigma=2)/hbar**2\n",
    "    aops = [[sigmax(),specDensityX], [sigmay(),specDensityY], [sigmaz(),specDensityZ]]\n",
    "    \n",
    "    results_k = brmesolve(H345/(hbar), rho0, tlist, a_ops=aops, e_ops=e_ops, progress_bar = True)\n",
    "    rho_list.append(results_k.states) # saving states for later\n",
    "    rho11_k = np.array([results_k.states[j].full()[0,0] for j in range(len(tlist))]) # first element of rho vs time \n",
    "    \n",
    "\n",
    "    #f, df = curve_fit(t1_func_thermal, tlist/1e6, np.abs(rho11_k))\n",
    "    #f, df = curve_fit(t1_func_classical, tlist/1e6, np.abs(rho11_k))\n",
    "    f, df = curve_fit(t1_func, tlist/1e6, np.abs(rho11_k))\n",
    "    print('saturation value difference', f[1]-rho11_k[-1])\n",
    "    t1, t1d = f[0], df[0,0]\n",
    "    #t1, t1d = f, df\n",
    "    t1_list_345mT = np.append(t1_list_345mT, t1)\n",
    "    t1d_list_345mT = np.append(t1d_list_345mT, t1d)\n",
    "    ##########################################################################################################################\n",
    "    ################## PLOTTING ################################################\n",
    "    #fit = np.array([t1_func_classical(m, f)  for m in tlist/1e6])\n",
    "    #fit = np.array([t1_func_classical(m, f)  for m in tlist/1e6])\n",
    "    fit = np.array([t1_func(m, f[0],f[1])  for m in tlist/1e6])\n",
    "    plt.figure()\n",
    "    plt.plot(tlist/1e6, np.abs(rho11_k))\n",
    "    plt.plot(tlist/1e6, fit)\n",
    "    #plt.plot(tlist/1e6, fit_thermal)\n",
    "    plt.xlabel(r\"Time ($\\mu s$)\")\n",
    "    plt.ylabel(r\"$\\rho$\")\n",
    "    plt.legend([r\"$\\rho_{11}$\", r\"fit $t_1 = $\"+str(np.round(f,2)[0])+r\"$\\ \\mu s$\", r\"fit_thermal $t_1 = $\"+str(np.round(fthermal,2)[0])+r\"$\\ \\mu s$\"])\n",
    "    plt.show()\n",
    "    ############################################################################################################################\n",
    "np.save('saved variables/t1_list_345mT', t1_list_345mT)\n",
    "np.save('saved variables/t1d_list_345mT', t1d_list_345mT)\n",
    "print(t1_list_345mT)  "
   ]
  },
  {
   "cell_type": "code",
   "execution_count": null,
   "id": "6970ed67-7be4-439a-a44a-fc899fd81566",
   "metadata": {},
   "outputs": [],
   "source": [
    "# Classical\n",
    "tlist = np.linspace(1, 10e6, 100000) # in ps\n",
    "t1_list_345mT_classical = np.array([])\n",
    "t1d_list_345mT_classical = np.array([])\n",
    "\n",
    "rho0 = basis(2,0)*basis(2,0).dag()\n",
    "e_ops = []\n",
    "rho_list = []\n",
    "options=Options()\n",
    "options.nsteps=5000\n",
    "\n",
    "for k in range(len(Temp_list)):\n",
    "    temp = Temp_list[k]\n",
    "    print(temp)\n",
    "    specDensityX = lambda w : spectral_density_classical(w, freqs=freq, coup=gcoupS[:,0]*0.345, T=temp, sigma=2)/hbar**2\n",
    "    specDensityY = lambda w : spectral_density_classical(w, freqs=freq, coup=gcoupS[:,1]*0.345, T=temp, sigma=2)/hbar**2\n",
    "    specDensityZ = lambda w : spectral_density_classical(w, freqs=freq, coup=gcoupS[:,2]*0.345, T=temp, sigma=2)/hbar**2\n",
    "    aops = [[sigmax(),specDensityX], [sigmay(),specDensityY], [sigmaz(),specDensityZ]]\n",
    "    \n",
    "    results_k = brmesolve(H345/(hbar), rho0, tlist, a_ops=aops, e_ops=e_ops, progress_bar = True)\n",
    "    rho_list.append(results_k.states) # saving states for later\n",
    "    rho11_k = np.array([results_k.states[j].full()[0,0] for j in range(len(tlist))]) # first element of rho vs time \n",
    "    \n",
    "\n",
    "    #f, df = curve_fit(t1_func_thermal, tlist/1e6, np.abs(rho11_k))\n",
    "    f, df = curve_fit(t1_func_classical, tlist/1e6, np.abs(rho11_k))\n",
    "    #f, df = curve_fit(t1_func, tlist/1e6, np.abs(rho11_k))\n",
    "    #print('saturation value difference', f[1]-rho11_k[-1])\n",
    "    #t1, t1d = f[0], df[0,0]\n",
    "    t1, t1d = f, df\n",
    "    t1_list_345mT_classical = np.append(t1_list_345mT_classical, t1)\n",
    "    t1d_list_345mT_classical = np.append(t1d_list_345mT_classical, t1d)\n",
    "    ##########################################################################################################################\n",
    "    ################## PLOTTING ################################################\n",
    "    #fit = np.array([t1_func_classical(m, f)  for m in tlist/1e6])\n",
    "    fit = np.array([t1_func_classical(m, f)  for m in tlist/1e6])\n",
    "    #fit = np.array([t1_func(m, f[0],f[1])  for m in tlist/1e6])\n",
    "    plt.figure()\n",
    "    plt.plot(tlist/1e6, np.abs(rho11_k))\n",
    "    plt.plot(tlist/1e6, fit)\n",
    "    #plt.plot(tlist/1e6, fit_thermal)\n",
    "    plt.xlabel(r\"Time ($\\mu s$)\")\n",
    "    plt.ylabel(r\"$\\rho$\")\n",
    "    plt.legend([r\"$\\rho_{11}$\", r\"fit $t_1 = $\"+str(np.round(f,2)[0])+r\"$\\ \\mu s$\", r\"fit_thermal $t_1 = $\"+str(np.round(fthermal,2)[0])+r\"$\\ \\mu s$\"])\n",
    "    plt.show()\n",
    "    ############################################################################################################################\n",
    "np.save('saved variables/t1_list_345mT_classical', t1_list_345mT_classical)\n",
    "np.save('saved variables/t1d_list_345mT_classical', t1d_list_345mT_classical)\n",
    "print(t1_list_345mT)  "
   ]
  },
  {
   "cell_type": "markdown",
   "id": "a3f3717f-8e7d-489d-ace2-400cd684af14",
   "metadata": {},
   "source": [
    "#### Simulation done"
   ]
  },
  {
   "cell_type": "code",
   "execution_count": null,
   "id": "0d67b262-ed54-4eda-bf5f-0567b9ae9cf7",
   "metadata": {},
   "outputs": [],
   "source": [
    "tlist = np.linspace(1, 10000e6, 2000) # in ps"
   ]
  },
  {
   "cell_type": "code",
   "execution_count": null,
   "id": "4c73007a-00d4-4f0a-82bf-758c1e67b16f",
   "metadata": {},
   "outputs": [],
   "source": [
    "#tlist = np.linspace(1, 10e6, 100000) # in ps\n",
    "\n",
    "t1exp = np.array([14163.72734, 6951.95423, 2691.61351,225.3970881,89.17022735,41.0253116,23.92805806,18.87486711,10.77391862,\n",
    "                  8.873229094,4.171377424,1.143754573])\n",
    "t2exp = np.array([2.709966603,3.084314127,3.362185823,3.290454844,3.018511437,2.829407455,2.540192367,2.330255261,2.047428917,\n",
    "                  1.798929603,1.449961246, 0.84569149])\n",
    "temp_exp = np.array([4.292624643, 9.998683733, 24.90051857, 39.95789327, 59.68654518, 79.87897033, 99.98683733, 109.4868393, \n",
    "                     149.3539422, 179.0832077, 198.9289628, 298.5702735])\n",
    "\n",
    "t1_list_345mT = np.load('saved variables/t1_list_345mT.npy')\n",
    "t1d_list_345mT = np.load('saved variables/t1d_list_345mT.npy')\n",
    "\n",
    "t1_list_345mT_classical = np.load('saved variables/t1_list_345mT_classical.npy')\n",
    "t1d_list_345mT_classical = np.load('saved variables/t1d_list_345mT_classical.npy')\n",
    "\n",
    "plt.figure(figsize=(12,6))\n",
    "plt.plot(Temp_list, t1_list_345mT,'-o')#, yerr = t1d_list_345mT, fmt='-o')\n",
    "plt.plot(temp_exp, t1exp,'-o')\n",
    "plt.plot(Temp_list, t1_list_345mT_classical,'-o')\n",
    "\n",
    "plt.xscale('log')\n",
    "plt.yscale('log')\n",
    "plt.title(r\"$T_1$ as a function of temperature for single molecule at 345 mT\")\n",
    "plt.legend(['T1 quantum (L)', 'T1 exp', 'T1 classical'])\n",
    "plt.xlabel('T [K]')\n",
    "plt.ylabel(r\"$T_1 [\\mu s]$\")"
   ]
  },
  {
   "cell_type": "code",
   "execution_count": 29,
   "id": "2043f227-0d92-4b7d-8a77-1e1889c527bf",
   "metadata": {},
   "outputs": [
    {
     "ename": "NameError",
     "evalue": "name 'Temp_list' is not defined",
     "output_type": "error",
     "traceback": [
      "\u001b[0;31m---------------------------------------------------------------------------\u001b[0m",
      "\u001b[0;31mNameError\u001b[0m                                 Traceback (most recent call last)",
      "Cell \u001b[0;32mIn[29], line 2\u001b[0m\n\u001b[1;32m      1\u001b[0m plt\u001b[38;5;241m.\u001b[39mfigure(figsize\u001b[38;5;241m=\u001b[39m(\u001b[38;5;241m12\u001b[39m,\u001b[38;5;241m6\u001b[39m))\n\u001b[0;32m----> 2\u001b[0m plt\u001b[38;5;241m.\u001b[39mplot(Temp_list, t1_list_test,\u001b[38;5;124m'\u001b[39m\u001b[38;5;124m-o\u001b[39m\u001b[38;5;124m'\u001b[39m)\n\u001b[1;32m      3\u001b[0m plt\u001b[38;5;241m.\u001b[39mplot(temp_exp, t1exp,\u001b[38;5;124m'\u001b[39m\u001b[38;5;124m-o\u001b[39m\u001b[38;5;124m'\u001b[39m)\n\u001b[1;32m      5\u001b[0m plt\u001b[38;5;241m.\u001b[39mxscale(\u001b[38;5;124m'\u001b[39m\u001b[38;5;124mlog\u001b[39m\u001b[38;5;124m'\u001b[39m)\n",
      "\u001b[0;31mNameError\u001b[0m: name 'Temp_list' is not defined"
     ]
    },
    {
     "data": {
      "text/plain": [
       "<Figure size 1200x600 with 0 Axes>"
      ]
     },
     "metadata": {},
     "output_type": "display_data"
    }
   ],
   "source": [
    "plt.figure(figsize=(12,6))\n",
    "plt.plot(Temp_list, t1_list_test,'-o')\n",
    "plt.plot(temp_exp, t1exp,'-o')\n",
    "\n",
    "plt.xscale('log')\n",
    "plt.yscale('log')\n",
    "plt.title(r\"$T_1$ as a function of temperature for single molecule at 345 mT\")\n",
    "plt.legend(['T1 test quantum (L)', 'T1 exp'])\n",
    "plt.xlabel('T [K]')\n",
    "plt.ylabel(r\"$T_1 [\\mu s]$\")"
   ]
  },
  {
   "cell_type": "markdown",
   "id": "4175f19a-23ae-4079-9eb8-22220762c546",
   "metadata": {
    "jp-MarkdownHeadingCollapsed": true
   },
   "source": [
    "## T2 Dynamics"
   ]
  },
  {
   "cell_type": "code",
   "execution_count": 30,
   "id": "11c9a07d-8239-47fc-9b65-63c84b8c3d12",
   "metadata": {},
   "outputs": [
    {
     "data": {
      "text/latex": [
       "Quantum object: dims = [[2], [2]], shape = (2, 2), type = oper, isherm = False $ \\\\ \\left(\\begin{matrix}0.0 & 1.0\\\\0.0 & 0.0\\\\\\end{matrix}\\right)$"
      ],
      "text/plain": [
       "Quantum object: dims = [[2], [2]], shape = (2, 2), type = oper, isherm = False\n",
       "Qobj data =\n",
       "[[0. 1.]\n",
       " [0. 0.]]"
      ]
     },
     "execution_count": 30,
     "metadata": {},
     "output_type": "execute_result"
    }
   ],
   "source": [
    "tlist_t2 = np.linspace(1, 3e6, 10000) # in ps\n",
    "rho0 = basis(2,0)*basis(2,1).dag()\n",
    "rho0"
   ]
  },
  {
   "cell_type": "code",
   "execution_count": 31,
   "id": "91e86472-0775-4069-84d6-113600a95279",
   "metadata": {},
   "outputs": [
    {
     "ename": "NameError",
     "evalue": "name 'Temp' is not defined",
     "output_type": "error",
     "traceback": [
      "\u001b[0;31m---------------------------------------------------------------------------\u001b[0m",
      "\u001b[0;31mNameError\u001b[0m                                 Traceback (most recent call last)",
      "Cell \u001b[0;32mIn[31], line 10\u001b[0m\n\u001b[1;32m      7\u001b[0m specDensityZ \u001b[38;5;241m=\u001b[39m \u001b[38;5;28;01mlambda\u001b[39;00m w : spectral_density_quantum(w, freqs\u001b[38;5;241m=\u001b[39mfreq\u001b[38;5;241m/\u001b[39mhbar, coup\u001b[38;5;241m=\u001b[39mgcoupS[:,\u001b[38;5;241m2\u001b[39m]\u001b[38;5;241m/\u001b[39mhbar, T\u001b[38;5;241m=\u001b[39mTemp, sigma\u001b[38;5;241m=\u001b[39m\u001b[38;5;241m2\u001b[39m)\n\u001b[1;32m      8\u001b[0m aops \u001b[38;5;241m=\u001b[39m [[sigmax(),specDensityX], [sigmay(),specDensityY], [sigmaz(),specDensityZ]]\n\u001b[0;32m---> 10\u001b[0m results_k \u001b[38;5;241m=\u001b[39m brmesolve(H\u001b[38;5;241m/\u001b[39m(hbar), rho0, tlist_t2, a_ops\u001b[38;5;241m=\u001b[39maops, e_ops\u001b[38;5;241m=\u001b[39me_ops, progress_bar\u001b[38;5;241m=\u001b[39m\u001b[38;5;28;01mTrue\u001b[39;00m)\n\u001b[1;32m     12\u001b[0m rho12 \u001b[38;5;241m=\u001b[39m np\u001b[38;5;241m.\u001b[39marray([results_k\u001b[38;5;241m.\u001b[39mstates[j]\u001b[38;5;241m.\u001b[39mfull()[\u001b[38;5;241m0\u001b[39m,\u001b[38;5;241m1\u001b[39m] \u001b[38;5;28;01mfor\u001b[39;00m j \u001b[38;5;129;01min\u001b[39;00m \u001b[38;5;28mrange\u001b[39m(\u001b[38;5;28mlen\u001b[39m(tlist_t2))])\n",
      "File \u001b[0;32m~/anaconda3/lib/python3.11/site-packages/qutip/bloch_redfield.py:182\u001b[0m, in \u001b[0;36mbrmesolve\u001b[0;34m(H, psi0, tlist, a_ops, e_ops, c_ops, args, use_secular, sec_cutoff, tol, spectra_cb, options, progress_bar, _safe_mode, verbose)\u001b[0m\n\u001b[1;32m    178\u001b[0m check_use_openmp(options)\n\u001b[1;32m    180\u001b[0m \u001b[38;5;28;01mif\u001b[39;00m n_str \u001b[38;5;241m==\u001b[39m \u001b[38;5;241m0\u001b[39m:\n\u001b[0;32m--> 182\u001b[0m     R, ekets \u001b[38;5;241m=\u001b[39m bloch_redfield_tensor(H, a_ops, spectra_cb\u001b[38;5;241m=\u001b[39m\u001b[38;5;28;01mNone\u001b[39;00m, c_ops\u001b[38;5;241m=\u001b[39mc_ops,\n\u001b[1;32m    183\u001b[0m                 use_secular\u001b[38;5;241m=\u001b[39muse_secular, sec_cutoff\u001b[38;5;241m=\u001b[39msec_cutoff)\n\u001b[1;32m    185\u001b[0m     output \u001b[38;5;241m=\u001b[39m Result()\n\u001b[1;32m    186\u001b[0m     output\u001b[38;5;241m.\u001b[39msolver \u001b[38;5;241m=\u001b[39m \u001b[38;5;124m\"\u001b[39m\u001b[38;5;124mbrmesolve\u001b[39m\u001b[38;5;124m\"\u001b[39m\n",
      "File \u001b[0;32m~/anaconda3/lib/python3.11/site-packages/qutip/cy/br_tensor.pyx:174\u001b[0m, in \u001b[0;36mqutip.cy.br_tensor.bloch_redfield_tensor\u001b[0;34m()\u001b[0m\n",
      "File \u001b[0;32m~/anaconda3/lib/python3.11/site-packages/qutip/cy/br_tensor.pyx:42\u001b[0m, in \u001b[0;36mqutip.cy.br_tensor._br_term\u001b[0;34m()\u001b[0m\n",
      "Cell \u001b[0;32mIn[31], line 5\u001b[0m, in \u001b[0;36m<lambda>\u001b[0;34m(w)\u001b[0m\n\u001b[1;32m      2\u001b[0m rho0 \u001b[38;5;241m=\u001b[39m basis(\u001b[38;5;241m2\u001b[39m,\u001b[38;5;241m0\u001b[39m)\u001b[38;5;241m*\u001b[39mbasis(\u001b[38;5;241m2\u001b[39m,\u001b[38;5;241m1\u001b[39m)\u001b[38;5;241m.\u001b[39mdag()\n\u001b[1;32m      4\u001b[0m e_ops \u001b[38;5;241m=\u001b[39m []\n\u001b[0;32m----> 5\u001b[0m specDensityX \u001b[38;5;241m=\u001b[39m \u001b[38;5;28;01mlambda\u001b[39;00m w : spectral_density_quantum(w, freqs\u001b[38;5;241m=\u001b[39mfreq\u001b[38;5;241m/\u001b[39mhbar, coup\u001b[38;5;241m=\u001b[39mgcoupS[:,\u001b[38;5;241m0\u001b[39m]\u001b[38;5;241m/\u001b[39mhbar, T\u001b[38;5;241m=\u001b[39mTemp, sigma\u001b[38;5;241m=\u001b[39m\u001b[38;5;241m2\u001b[39m)\n\u001b[1;32m      6\u001b[0m specDensityY \u001b[38;5;241m=\u001b[39m \u001b[38;5;28;01mlambda\u001b[39;00m w : spectral_density_quantum(w, freqs\u001b[38;5;241m=\u001b[39mfreq\u001b[38;5;241m/\u001b[39mhbar, coup\u001b[38;5;241m=\u001b[39mgcoupS[:,\u001b[38;5;241m1\u001b[39m]\u001b[38;5;241m/\u001b[39mhbar, T\u001b[38;5;241m=\u001b[39mTemp, sigma\u001b[38;5;241m=\u001b[39m\u001b[38;5;241m2\u001b[39m)\n\u001b[1;32m      7\u001b[0m specDensityZ \u001b[38;5;241m=\u001b[39m \u001b[38;5;28;01mlambda\u001b[39;00m w : spectral_density_quantum(w, freqs\u001b[38;5;241m=\u001b[39mfreq\u001b[38;5;241m/\u001b[39mhbar, coup\u001b[38;5;241m=\u001b[39mgcoupS[:,\u001b[38;5;241m2\u001b[39m]\u001b[38;5;241m/\u001b[39mhbar, T\u001b[38;5;241m=\u001b[39mTemp, sigma\u001b[38;5;241m=\u001b[39m\u001b[38;5;241m2\u001b[39m)\n",
      "\u001b[0;31mNameError\u001b[0m: name 'Temp' is not defined"
     ]
    }
   ],
   "source": [
    "tlist_t2 = np.linspace(1, 3e6, 10000) # in ps\n",
    "rho0 = basis(2,0)*basis(2,1).dag()\n",
    "\n",
    "e_ops = []\n",
    "specDensityX = lambda w : spectral_density_quantum(w, freqs=freq/hbar, coup=gcoupS[:,0]/hbar, T=Temp, sigma=2)\n",
    "specDensityY = lambda w : spectral_density_quantum(w, freqs=freq/hbar, coup=gcoupS[:,1]/hbar, T=Temp, sigma=2)\n",
    "specDensityZ = lambda w : spectral_density_quantum(w, freqs=freq/hbar, coup=gcoupS[:,2]/hbar, T=Temp, sigma=2)\n",
    "aops = [[sigmax(),specDensityX], [sigmay(),specDensityY], [sigmaz(),specDensityZ]]\n",
    "    \n",
    "results_k = brmesolve(H/(hbar), rho0, tlist_t2, a_ops=aops, e_ops=e_ops, progress_bar=True)\n",
    "\n",
    "rho12 = np.array([results_k.states[j].full()[0,1] for j in range(len(tlist_t2))]) # 12 element of rho vs time "
   ]
  },
  {
   "cell_type": "code",
   "execution_count": null,
   "id": "191f55a3-fa82-4143-8f5f-e01739694363",
   "metadata": {},
   "outputs": [],
   "source": [
    "def t2_func(x,t2):\n",
    "    return np.exp(-x/t2)"
   ]
  },
  {
   "cell_type": "code",
   "execution_count": 32,
   "id": "d2c4a786-3f0a-4c18-ae2e-3cca9d55a4c7",
   "metadata": {},
   "outputs": [
    {
     "ename": "NameError",
     "evalue": "name 't2_func' is not defined",
     "output_type": "error",
     "traceback": [
      "\u001b[0;31m---------------------------------------------------------------------------\u001b[0m",
      "\u001b[0;31mNameError\u001b[0m                                 Traceback (most recent call last)",
      "Cell \u001b[0;32mIn[32], line 1\u001b[0m\n\u001b[0;32m----> 1\u001b[0m t2, t2d \u001b[38;5;241m=\u001b[39m curve_fit(t2_func, tlist_t2\u001b[38;5;241m/\u001b[39m\u001b[38;5;241m1e6\u001b[39m, np\u001b[38;5;241m.\u001b[39mabs(rho12))\n\u001b[1;32m      2\u001b[0m t2\n",
      "\u001b[0;31mNameError\u001b[0m: name 't2_func' is not defined"
     ]
    }
   ],
   "source": [
    "t2, t2d = curve_fit(t2_func, tlist_t2/1e6, np.abs(rho12))\n",
    "t2"
   ]
  },
  {
   "cell_type": "code",
   "execution_count": null,
   "id": "ca3ef0e2-1325-42cf-93a9-82d21b805463",
   "metadata": {},
   "outputs": [],
   "source": [
    "\n",
    "fit = np.array([t2_func(k,t2)  for k in tlist_t2/1e6])\n",
    "\n",
    "plt.figure()\n",
    "plt.plot(tlist_t2/1e6, np.abs(rho12))\n",
    "plt.plot(tlist_t2/1e6, fit)\n",
    "plt.xlabel(r\"Time ($\\mu s$)\")\n",
    "plt.ylabel(r\"$\\rho$\")\n",
    "plt.title(\"Evolution of density matrix elements at \"+str(Temp)+\"K , T2=\"+str(t2))\n",
    "plt.legend([r\"$\\rho_{12}$\", r\"fit\"])\n",
    "plt.show()"
   ]
  },
  {
   "cell_type": "code",
   "execution_count": null,
   "id": "ab937fa4-76ed-4933-a3fd-15228e32ea3d",
   "metadata": {},
   "outputs": [],
   "source": [
    "fit = np.array([t2_func(k,t2)  for k in tlist_t2/1e6])\n",
    "\n",
    "plt.figure()\n",
    "plt.plot(tlist_t2/1e6, np.real(rho12))\n",
    "plt.plot(tlist_t2/1e6, fit)\n",
    "plt.xlabel(r\"Time ($\\mu s$)\")\n",
    "plt.ylabel(r\"$\\rho$\")\n",
    "plt.title(\"Evolution of density matrix elements at \"+str(Temp)+\"K , T2=\"+str(np.round(t2,3)))\n",
    "plt.legend([r\"$\\rho_{12}$\", r\"fit \"])\n",
    "plt.show()"
   ]
  },
  {
   "cell_type": "code",
   "execution_count": null,
   "id": "5d50e483-eaa5-40d4-8c98-7a0b8fb9c29d",
   "metadata": {},
   "outputs": [],
   "source": [
    "# Temperature Scan \n",
    "\n",
    "t2_list = np.array([])\n",
    "t2d_list = np.array([])\n",
    "\n",
    "e_ops = []\n",
    "rho_list = []\n",
    "\n",
    "for k in range(len(Temp_list)):\n",
    "    \n",
    "    temp = Temp_list[k]\n",
    "    print(\"calculating t2 for \",temp, \" K\")\n",
    "    \n",
    "    specDensityX = lambda w : spectral_density_quantum(w, freqs=freq/hbar, coup=gcoupS[:,0]/hbar, T=temp, sigma=2)\n",
    "    specDensityY = lambda w : spectral_density_quantum(w, freqs=freq/hbar, coup=gcoupS[:,1]/hbar, T=temp, sigma=2)\n",
    "    specDensityZ = lambda w : spectral_density_quantum(w, freqs=freq/hbar, coup=gcoupS[:,2]/hbar, T=temp, sigma=2)\n",
    "    aops = [[sigmax(),specDensityX], [sigmay(),specDensityY], [sigmaz(),specDensityZ]]\n",
    "    \n",
    "    results_k = brmesolve(H/(hbar), rho0, tlist_t2, a_ops=aops, e_ops=e_ops)#, progress_bar=True)\n",
    "    rho_list.append(results_k.states) # saving states for later\n",
    "    rho12_k = np.array([results_k.states[j].full()[0,1] for j in range(len(tlist_t2))]) # first element of rho vs time \n",
    "    t2, t2d = curve_fit(t2_func, tlist_t2/1e6, np.abs(rho12_k))\n",
    "    t2_list = np.append(t2_list, t2)\n",
    "    t2d_list = np.append(t2d_list, t2d)\n",
    "\n",
    "\n",
    "np.save('saved variables/t2_list', t2_list)\n",
    "np.save('saved variables/t2d_list', t2d_list)\n",
    "print(t2_list)  \n",
    "\n",
    "rho12_vals = np.array([rho_list[-1][m].full()[0,1] for m in range(len(tlist_t2))])\n",
    "rho21_vals = np.array([rho_list[-1][m].full()[1,0] for m in range(len(tlist_t2))])\n",
    "fit = np.array([t2_func(k,t2_list[-1])  for k in tlist_t2/1e6])\n",
    "\n",
    "plt.figure()\n",
    "plt.plot(tlist_t2/1e6, np.abs(rho12_vals))\n",
    "plt.plot(tlist_t2/1e6, np.abs(rho21_vals))\n",
    "plt.plot(tlist_t2/1e6, fit)\n",
    "plt.xlabel(r\"Time ($\\mu s$)\")\n",
    "plt.ylabel(r\"$\\rho$\")\n",
    "plt.title(\"Evolution of density matrix elements at \"+str(Temp_list[-1])+\"K , T2=\"+str(np.round(t2_list[-1],3)))\n",
    "plt.legend([r\"$\\rho_{12}$\", r\"$\\rho_{21}$\", \"fit\"])\n",
    "plt.show()"
   ]
  },
  {
   "cell_type": "code",
   "execution_count": null,
   "id": "c1a5587c-47c1-42aa-a520-8222fae79b44",
   "metadata": {},
   "outputs": [],
   "source": [
    "# Temperature Scan \n",
    "\n",
    "t2_list_classical = np.array([])\n",
    "t2d_list_classical = np.array([])\n",
    "\n",
    "e_ops = []\n",
    "rho_list = []\n",
    "\n",
    "for k in range(len(Temp_list)):\n",
    "    \n",
    "    temp = Temp_list[k]\n",
    "    print(\"calculating t2 for \",temp, \" K\")\n",
    "    \n",
    "    specDensityX = lambda w : spectral_density_classical(w, freqs=freq/hbar, coup=gcoupS[:,0]/hbar, T=temp, sigma=2)\n",
    "    specDensityY = lambda w : spectral_density_classical(w, freqs=freq/hbar, coup=gcoupS[:,1]/hbar, T=temp, sigma=2)\n",
    "    specDensityZ = lambda w : spectral_density_classical(w, freqs=freq/hbar, coup=gcoupS[:,2]/hbar, T=temp, sigma=2)\n",
    "    aops = [[sigmax(),specDensityX], [sigmay(),specDensityY], [sigmaz(),specDensityZ]]\n",
    "    \n",
    "    results_k = brmesolve(H/(hbar), rho0, tlist_t2, a_ops=aops, e_ops=e_ops)#, progress_bar=True)\n",
    "    rho_list.append(results_k.states) # saving states for later\n",
    "    rho12_k = np.array([results_k.states[j].full()[0,1] for j in range(len(tlist_t2))]) # first element of rho vs time \n",
    "    t2, t2d = curve_fit(t2_func, tlist_t2/1e6, np.abs(rho12_k))\n",
    "    t2_list_classical = np.append(t2_list_classical, t2)\n",
    "    t2d_list_classical = np.append(t2d_list_classical, t2d)\n",
    "\n",
    "\n",
    "np.save('saved variables/t2_list_classical', t2_list_classical)\n",
    "np.save('saved variables/t2d_list_classical', t2d_list_classical)\n",
    "print(t2_list)  \n",
    "\n",
    "rho12_vals = np.array([rho_list[-1][m].full()[0,1] for m in range(len(tlist_t2))])\n",
    "rho21_vals = np.array([rho_list[-1][m].full()[1,0] for m in range(len(tlist_t2))])\n",
    "fit = np.array([t2_func(k,t2_list[-1])  for k in tlist_t2/1e6])\n",
    "\n",
    "plt.figure()\n",
    "plt.plot(tlist_t2/1e6, np.abs(rho12_vals))\n",
    "plt.plot(tlist_t2/1e6, np.abs(rho21_vals))\n",
    "plt.plot(tlist_t2/1e6, fit)\n",
    "plt.xlabel(r\"Time ($\\mu s$)\")\n",
    "plt.ylabel(r\"$\\rho$\")\n",
    "plt.title(\"Evolution of density matrix elements at \"+str(Temp_list[-1])+\"K , T2=\"+str(np.round(t2_list_classical[-1],3)))\n",
    "plt.legend([r\"$\\rho_{12}$\", r\"$\\rho_{21}$\", \"fit\"])\n",
    "plt.show()"
   ]
  },
  {
   "cell_type": "code",
   "execution_count": null,
   "id": "7a223828-a8f0-4269-b3a5-c287be1bffd0",
   "metadata": {},
   "outputs": [],
   "source": [
    "#t2_list = np.load('t2_list.npy')\n",
    "#t2d_list = np.load('t2d_list.npy')"
   ]
  },
  {
   "cell_type": "code",
   "execution_count": null,
   "id": "fca5ad6e-2cc4-4784-9c5b-23faea1188dd",
   "metadata": {},
   "outputs": [],
   "source": [
    "# plotting all curves and fittings to check if t2 calculations went properly\n",
    "\n",
    "plt.figure()\n",
    "for i in range(len(Temp_list)):\n",
    "    rho12_vals = np.array([rho_list[i][m].full()[0,1] for m in range(len(tlist_t2))])\n",
    "    #rho21_vals = np.array([rho_list[0][m].full()[1,0] for m in range(len(tlist_t2))])\n",
    "    fit = np.array([t2_func(k,t2_list[i])  for k in tlist_t2/1e6])\n",
    "    plt.plot(tlist_t2/1e6, np.abs(rho12_vals))\n",
    "    #plt.plot(tlist_t2/1e6, np.abs(rho21_vals))\n",
    "    plt.plot(tlist_t2/1e6, fit)\n",
    "plt.xlabel(r\"Time ($\\mu s$)\")\n",
    "plt.ylabel(r\"$\\rho$\")\n",
    "plt.title(r\"$\\rho_{12}$\")\n",
    "#plt.yscale('log')\n",
    "#plt.legend([str(x)+\" K\" for x in Temp_list])\n",
    "plt.show()"
   ]
  },
  {
   "cell_type": "code",
   "execution_count": null,
   "id": "2aa9ccae-8149-4102-bd82-691623b06a96",
   "metadata": {},
   "outputs": [],
   "source": [
    "t2_list = np.load('saved variables/t2_list.npy')\n",
    "t2d_list = np.load('saved variables/t2d_list.npy')\n",
    "t1_list = np.load('saved variables/t1_list.npy')\n",
    "t1d_list = np.load('saved variables/t1d_list.npy')\n",
    "plt.figure(figsize=(12,6))\n",
    "plt.errorbar(Temp_list, t1_list, yerr = t1d_list, fmt='-o')\n",
    "plt.errorbar(Temp_list, t2_list, yerr = t2d_list, fmt='-o')\n",
    "plt.xscale('log')\n",
    "plt.yscale('log')\n",
    "plt.title(\"T1/T2 as a function of temperature for single molecule\")\n",
    "plt.legend(['T1', 'T2'])\n",
    "plt.xlabel('T [K]')\n",
    "plt.ylabel(r\"$T_1 or T_2 [\\mu s]$\")\n",
    "plt.savefig('T1 and T2.png')"
   ]
  },
  {
   "cell_type": "code",
   "execution_count": null,
   "id": "92fd8f5d-5ac7-48ef-9e78-2090a2a68c35",
   "metadata": {},
   "outputs": [],
   "source": [
    "fig, ax1 = plt.subplots(figsize=(7,6))\n",
    "\n",
    "color = 'tab:red'\n",
    "ax1.set_xlabel('T [K]')\n",
    "ax1.set_xscale('log')\n",
    "ax1.set_ylabel(r\"$T_1$\", color=color)\n",
    "ax1.set_yscale('log')\n",
    "ax1.plot(Temp_list, t1_list,'-o', color=color)\n",
    "ax1.tick_params(axis='y', labelcolor=color)\n",
    "\n",
    "\n",
    "ax2 = ax1.twinx()  # instantiate a second axes that shares the same x-axis\n",
    "\n",
    "color = 'tab:blue'\n",
    "ax2.set_ylabel(r\"$T_2$\", color=color)  # we already handled the x-label with ax1\n",
    "#ax2.set_yscale('log')\n",
    "ax2.plot(Temp_list, t2_list, '-o',color=color)\n",
    "ax2.tick_params(axis='y', labelcolor=color)\n",
    "\n",
    "fig.tight_layout()  # otherwise the right y-label is slightly clipped\n",
    "plt.show()"
   ]
  },
  {
   "cell_type": "code",
   "execution_count": null,
   "id": "7a76c462-cb63-4ee3-a45b-93aa1863ed37",
   "metadata": {},
   "outputs": [],
   "source": [
    "# testing t2 dyanics at 0.345 T field\n",
    "tlist_345 = np.linspace(1, 100e6, 100000) # in ps\n",
    "\n",
    "t2_list_345mT = np.array([])\n",
    "t2d_list_345mT = np.array([])\n",
    "\n",
    "rho0 = basis(2,0)*basis(2,1).dag()\n",
    "e_ops = []\n",
    "rho_list = []\n",
    "options=Options()\n",
    "options.nsteps=5000\n",
    "for k in range(len(Temp_list)):\n",
    "    temp = Temp_list[k]\n",
    "    specDensityX = lambda w : spectral_density_quantum(w, freqs=freq, coup=gcoupS[:,0]*0.345, T=temp, sigma=2)/hbar**2\n",
    "    specDensityY = lambda w : spectral_density_quantum(w, freqs=freq, coup=gcoupS[:,1]*0.345, T=temp, sigma=2)/hbar**2\n",
    "    specDensityZ = lambda w : spectral_density_quantum(w, freqs=freq, coup=gcoupS[:,2]*0.345, T=temp, sigma=2)/hbar**2\n",
    "    aops = [[sigmax(),specDensityX], [sigmay(),specDensityY], [sigmaz(),specDensityZ]]\n",
    "    print(\"temperature \", temp)\n",
    "    \n",
    "    results_k = brmesolve(H345/(hbar), rho0, tlist_345, a_ops=aops, e_ops=e_ops, progress_bar=True)\n",
    "    rho_list.append(results_k.states) # saving states for later\n",
    "    rho12_k = np.array([results_k.states[j].full()[0,1] for j in range(len(tlist_345))]) # first element of rho vs time \n",
    "    t2, t2d = curve_fit(t2_func, tlist_345/1e6, np.abs(rho12_k))\n",
    "    t2_list_345mT = np.append(t2_list_345mT, t2)\n",
    "    t2d_list_345mT = np.append(t2d_list_345mT, t2d)\n",
    "\n",
    "\n",
    "np.save('saved variables/t2_list_345mT', t2_list_345mT)\n",
    "np.save('saved variables/t2d_list_345mT', t2d_list_345mT)\n",
    "print(t2_list_345mT)  \n",
    "print(t2d_list_345mT)"
   ]
  },
  {
   "cell_type": "code",
   "execution_count": null,
   "id": "9c54edf6-5a6a-4f6d-89bf-8b924d91eb1b",
   "metadata": {},
   "outputs": [],
   "source": [
    "#t2_list_345mT = np.load('t2_list_345mT.npy')\n",
    "#t2d_list_345mT = np.load('t2d_list_345mT.npy')"
   ]
  },
  {
   "cell_type": "markdown",
   "id": "06f06ee5-300f-45fe-87a3-1c5df317af5f",
   "metadata": {},
   "source": [
    "### Comparison of T1 and T2 with Experimental Data at 345 mT magnetic field"
   ]
  },
  {
   "cell_type": "code",
   "execution_count": null,
   "id": "ac5fc8ad-65b7-44e7-990e-5f18fa01fc2a",
   "metadata": {},
   "outputs": [],
   "source": [
    "# adding the experimental data\n",
    "t1exp = np.array([14163.72734, 6951.95423, 2691.61351,225.3970881,89.17022735,41.0253116,23.92805806,18.87486711,10.77391862,\n",
    "                  8.873229094,4.171377424,1.143754573])\n",
    "t2exp = np.array([2.709966603,3.084314127,3.362185823,3.290454844,3.018511437,2.829407455,2.540192367,2.330255261,2.047428917,\n",
    "                  1.798929603,1.449961246, 0.84569149])\n",
    "temp_exp = np.array([4.292624643, 9.998683733, 24.90051857, 39.95789327, 59.68654518, 79.87897033, 99.98683733, 109.4868393, \n",
    "                     149.3539422, 179.0832077, 198.9289628, 298.5702735])\n",
    "\n",
    "t1_list_345mT = np.load('saved variables/t1_list_345mT.npy')\n",
    "t1d_list_345mT = np.load('saved variables/t1d_list_345mT.npy')\n",
    "\n",
    "#t2_list_345mT = np.load('t2_list_345mT.npy')\n",
    "#t2d_list_345mT = np.load('t2d_list_345mT.npy')\n",
    "t2_list_345mT = np.load('saved variables/t2_list.npy')\n",
    "t2d_list_345mT = np.load('saved variables/t2d_list.npy')\n",
    "\n",
    "\n",
    "\n",
    "fig, ax1 = plt.subplots(figsize=(7,6))\n",
    "\n",
    "color = 'tab:red'\n",
    "ax1.set_xlabel('T [K]')\n",
    "ax1.set_xscale('log')\n",
    "ax1.set_ylabel(r\"$T_1$\", color=color)\n",
    "ax1.set_yscale('log')\n",
    "ax1.plot(Temp_list, t1_list_345mT,'-o', color=color)\n",
    "ax1.plot(temp_exp, t1exp, 's', color=color)\n",
    "ax1.tick_params(axis='y', labelcolor=color)\n",
    "\n",
    "\n",
    "ax2 = ax1.twinx()  # instantiate a second axes that shares the same x-axis\n",
    "\n",
    "color = 'tab:blue'\n",
    "ax2.set_ylabel(r\"$T_2$\", color=color)  # we already handled the x-label with ax1\n",
    "#ax2.set_yscale('log')\n",
    "ax2.plot(Temp_list, t2_list_345mT, '-o',color=color)\n",
    "ax2.plot(temp_exp, t2exp, 's', color=color)\n",
    "ax2.tick_params(axis='y', labelcolor=color)\n",
    "\n",
    "fig.tight_layout()  # otherwise the right y-label is slightly clipped\n",
    "plt.show()\n"
   ]
  },
  {
   "cell_type": "markdown",
   "id": "6c19d7fb-0147-4b99-9390-7b88b436e975",
   "metadata": {},
   "source": [
    "# New Tests with SVD"
   ]
  },
  {
   "cell_type": "code",
   "execution_count": 38,
   "id": "aac6158a-b39b-4d71-b875-34e317b2b9f6",
   "metadata": {},
   "outputs": [
    {
     "name": "stdout",
     "output_type": "stream",
     "text": [
      "shape of gcoupTest  (190, 3)\n",
      "\n",
      " singular values are  [2.75646768e-04 2.38749595e-04 8.26054927e-05]\n",
      "shape of U (190, 190)  , shape of L (3,)  , shape of Vdag (3, 3)\n",
      "\n",
      " indices of non-zero singular values= [0 1 2]\n",
      "\n",
      " number of non-zeor singular values= 3\n",
      "shape of Usys (190, 3)\n"
     ]
    }
   ],
   "source": [
    "# performing SVD, \n",
    "gcoupTest = np.zeros((Np, 3),dtype=float) # defining a place holder for couplings\n",
    "for k in range(Np):\n",
    "    for j in range(3):\n",
    "        gcoupTest[k,:] += alpha * dgx[k,:,j] * Bvector[j] * (1/2) #* np.sqrt(hbar/(2*freq[k]/hbar))# only thing missing from here is Pauli matrix. Everything else is contained.\n",
    "        #therefore, couplings will have units of energy as meV\n",
    "\n",
    "print('shape of gcoupTest ', gcoupTest.shape)\n",
    "U, L, Vdag = LA.svd(gcoupTest, full_matrices=True)  # note: the output of this funciton is U*S*Vh\n",
    "print('\\n singular values are ', L)\n",
    "print('shape of U', U.shape, ' , shape of L', L.shape, ' , shape of Vdag', Vdag.shape)\n",
    "# Collecting columns of U that correspond to non-zero singular values\n",
    "threshold = 1.e-12\n",
    "Lnonzero = np.where(L > threshold)[0] # indices where the singular value is non-zero\n",
    "Np_new = len(Lnonzero)  # total nonzero singular values\n",
    "\n",
    "print('\\n indices of non-zero singular values=', Lnonzero)\n",
    "print('\\n number of non-zeor singular values=', Np_new)\n",
    "\n",
    "Usys = U[:,Lnonzero]\n",
    "print('shape of Usys', np.shape(Usys))"
   ]
  },
  {
   "cell_type": "markdown",
   "id": "bb32c3b6-4234-49bc-b9cb-9ec074a2de18",
   "metadata": {},
   "source": [
    "#### thermal population weighted SVD"
   ]
  },
  {
   "cell_type": "code",
   "execution_count": 26,
   "id": "72bf4cc2-f90d-4521-842e-4020bb348407",
   "metadata": {},
   "outputs": [
    {
     "data": {
      "text/plain": [
       "0.7980076749053487"
      ]
     },
     "execution_count": 26,
     "metadata": {},
     "output_type": "execute_result"
    }
   ],
   "source": [
    "n_thermal(, kB*300)"
   ]
  },
  {
   "cell_type": "code",
   "execution_count": 24,
   "id": "4c3edf10-23fc-454c-8d19-860ce567b8c4",
   "metadata": {},
   "outputs": [
    {
     "data": {
      "text/plain": [
       "1.586997743907068"
      ]
     },
     "execution_count": 24,
     "metadata": {},
     "output_type": "execute_result"
    }
   ],
   "source": [
    "freq[0]"
   ]
  },
  {
   "cell_type": "code",
   "execution_count": null,
   "id": "bfabfac6-b3cd-4420-b042-9a962c3aba89",
   "metadata": {},
   "outputs": [],
   "source": []
  },
  {
   "cell_type": "code",
   "execution_count": 54,
   "id": "42aff3c5-c474-401b-9456-8b7f6599eace",
   "metadata": {},
   "outputs": [
    {
     "name": "stdout",
     "output_type": "stream",
     "text": [
      "\n",
      " singular values are  [3.35859241e-04 9.38211316e-05 4.22530879e-05]\n",
      "\n",
      " indices of non-zero singular values= [0 1 2]\n",
      "\n",
      " number of non-zeor singular values= 3\n",
      "shape of Usys (190, 3)\n",
      "shape of projection operator is  (190, 190)\n",
      "\n",
      " number of sys  phonon mode = 3\n",
      "\n",
      " number of bath phonon mode = 187\n",
      "With SVD mode projection, system modes cm-1 =  [13.78498778 33.71929992 49.39263882]\n",
      "With SVD mode projection, system modes meV =  [1.70912066 4.18066038 6.12390675]\n"
     ]
    }
   ],
   "source": [
    "# performing SVD, \n",
    "temperature = 300\n",
    "gcoupTest = np.zeros((Np, 3),dtype=float) # defining a place holder for couplings\n",
    "for k in range(Np):\n",
    "    for j in range(3):\n",
    "        gcoupTest[k,:] += alpha * dgx[k,:,j] * Bvector[j] * (1/2) * np.sqrt(hbar/(2*freq[k]/hbar)) * n_thermal(freq[k], kB*temperature)\n",
    "        # only thing missing from here is Pauli matrix. Everything else is contained.\n",
    "        #therefore, couplings will have units of energy as meV\n",
    "\n",
    "U, L, Vdag = LA.svd(gcoupTest, full_matrices=False)  # note: the output of this funciton is U*S*Vh\n",
    "print('\\n singular values are ', L)\n",
    "\n",
    "# Collecting columns of U that correspond to non-zero singular values\n",
    "threshold = 1.e-12\n",
    "Lnonzero = np.where(L > threshold)[0] # indices where the singular value is non-zero\n",
    "Np_new = len(Lnonzero)  # total nonzero singular values\n",
    "\n",
    "print('\\n indices of non-zero singular values=', Lnonzero)\n",
    "print('\\n number of non-zeor singular values=', Np_new)\n",
    "\n",
    "Usys = U[:,Lnonzero]\n",
    "print('shape of Usys', np.shape(Usys))\n",
    "\n",
    "# defining projection operators with the SVD Usys\n",
    "A = Qobj(Usys)\n",
    "#A = Qobj(gcoupS) # regular mode projection\n",
    "P = A*(A.dag()*A).inv()*A.dag()\n",
    "I = qeye(Np)\n",
    "Q = I-P\n",
    "\n",
    "print('shape of projection operator is ', np.shape(P))\n",
    "\n",
    "Omega = Qobj(np.diag(freq**2)) # Hessian\n",
    "Omega_s = P*Omega*P\n",
    "Omega_b = Q*Omega*Q\n",
    "val_s, vecs_s = Omega_s.eigenstates()\n",
    "val_b, vecs_b = Omega_b.eigenstates()\n",
    "\n",
    "Pnonzero = np.where(val_s > 1.e-9)[0]\n",
    "Qnonzero = np.where(val_b > 1.e-9)[0]\n",
    "\n",
    "# collecting nonzero-eigenvalues^0.5 of omega_s and omega_b\n",
    "omega_s = np.real(np.sqrt(val_s[Pnonzero]))\n",
    "omega_b = np.real(np.sqrt(val_b[Qnonzero]))\n",
    "Ks = vecs_s[Pnonzero]\n",
    "Kb = vecs_b[Qnonzero]\n",
    "\n",
    "ns = len(Pnonzero)\n",
    "nb = len(Qnonzero)\n",
    "print('\\n number of sys  phonon mode =', len(Pnonzero))\n",
    "print('\\n number of bath phonon mode =', len(Qnonzero))\n",
    "print('With SVD mode projection, system modes cm-1 = ', omega_s/cm2mev)\n",
    "print('With SVD mode projection, system modes meV = ', omega_s)\n",
    "#print('system modes**2 cm-1 = ', omega_s**2/cm2mev)\n",
    "#print('system modes**2 meV = ', omega_s**2)"
   ]
  },
  {
   "cell_type": "code",
   "execution_count": null,
   "id": "d6a7ef30-0ac3-4656-b817-5a7af926173d",
   "metadata": {},
   "outputs": [],
   "source": []
  },
  {
   "cell_type": "code",
   "execution_count": null,
   "id": "80e513f4-7134-461f-bb24-287c3da5a1fc",
   "metadata": {},
   "outputs": [],
   "source": []
  },
  {
   "cell_type": "code",
   "execution_count": null,
   "id": "a1c6969e-99b3-4273-ba08-f71b870ecb09",
   "metadata": {},
   "outputs": [],
   "source": []
  },
  {
   "cell_type": "markdown",
   "id": "f248bc59-9416-4e20-98b9-bb1884b76d66",
   "metadata": {},
   "source": [
    "# SVD Mode projection"
   ]
  },
  {
   "cell_type": "code",
   "execution_count": 74,
   "id": "8e1977d8-29b7-44a3-9d58-00daf1a96b27",
   "metadata": {},
   "outputs": [
    {
     "name": "stdout",
     "output_type": "stream",
     "text": [
      "\n",
      " singular values are  [0.00586195 0.00507103 0.00132546]\n",
      "\n",
      " indices of non-zero singular values= [0 1 2]\n",
      "\n",
      " number of non-zeor singular values= 3\n",
      "shape of Usys (190, 3)\n",
      "shape of projection operator is  (190, 190)\n",
      "\n",
      " number of sys  phonon mode = 3\n",
      "\n",
      " number of bath phonon mode = 187\n",
      "With SVD mode projection, system modes cm-1 =  [1551.0794345  1908.80354753 2280.34765499]\n",
      "With SVD mode projection, system modes meV =  [192.30934087 236.6614784  282.72707686]\n"
     ]
    }
   ],
   "source": [
    "# performing SVD, \n",
    "gcoupTest = np.zeros((Np, 3),dtype=float) # defining a place holder for couplings\n",
    "for k in range(Np):\n",
    "    for j in range(3):\n",
    "        #gcoupTest[k,:] += alpha * dgx[k,:,j] * Bvector[j] * (1/2) * np.sqrt(hbar/(2*freq[k]/hbar))\n",
    "        gcoupTest[k,:] += alpha * dgx[k,:,j] * Bvector[j] * (1/2) / np.sqrt(hbar/(2*freq[k]/hbar))\n",
    "        # only thing missing from here is Pauli matrix. Everything else is contained.\n",
    "        #therefore, couplings will have units of energy as meV\n",
    "\n",
    "U, L, Vdag = LA.svd(gcoupTest, full_matrices=False)  # note: the output of this funciton is U*S*Vh\n",
    "print('\\n singular values are ', L)\n",
    "\n",
    "# Collecting columns of U that correspond to non-zero singular values\n",
    "threshold = 1.e-12\n",
    "Lnonzero = np.where(L > threshold)[0] # indices where the singular value is non-zero\n",
    "Np_new = len(Lnonzero)  # total nonzero singular values\n",
    "\n",
    "print('\\n indices of non-zero singular values=', Lnonzero)\n",
    "print('\\n number of non-zeor singular values=', Np_new)\n",
    "\n",
    "Usys = U[:,Lnonzero]\n",
    "print('shape of Usys', np.shape(Usys))\n",
    "\n",
    "# defining projection operators with the SVD Usys\n",
    "A = Qobj(Usys)\n",
    "#A = Qobj(gcoupS) # regular mode projection\n",
    "P = A*(A.dag()*A).inv()*A.dag()\n",
    "I = qeye(Np)\n",
    "Q = I-P\n",
    "\n",
    "print('shape of projection operator is ', np.shape(P))\n",
    "\n",
    "Omega = Qobj(np.diag(freq**2)) # Hessian\n",
    "Omega_s = P*Omega*P\n",
    "Omega_b = Q*Omega*Q\n",
    "val_s, vecs_s = Omega_s.eigenstates()\n",
    "val_b, vecs_b = Omega_b.eigenstates()\n",
    "\n",
    "Pnonzero = np.where(val_s > 1.e-9)[0]\n",
    "Qnonzero = np.where(val_b > 1.e-9)[0]\n",
    "\n",
    "# collecting nonzero-eigenvalues^0.5 of omega_s and omega_b\n",
    "omega_s = np.real(np.sqrt(val_s[Pnonzero]))\n",
    "omega_b = np.real(np.sqrt(val_b[Qnonzero]))\n",
    "Ks = vecs_s[Pnonzero]\n",
    "Kb = vecs_b[Qnonzero]\n",
    "\n",
    "ns = len(Pnonzero)\n",
    "nb = len(Qnonzero)\n",
    "print('\\n number of sys  phonon mode =', len(Pnonzero))\n",
    "print('\\n number of bath phonon mode =', len(Qnonzero))\n",
    "print('With SVD mode projection, system modes cm-1 = ', omega_s/cm2mev)\n",
    "print('With SVD mode projection, system modes meV = ', omega_s)\n",
    "#print('system modes**2 cm-1 = ', omega_s**2/cm2mev)\n",
    "#print('system modes**2 meV = ', omega_s**2)"
   ]
  },
  {
   "cell_type": "code",
   "execution_count": 75,
   "id": "1a59ddc6-5911-444d-a77e-838b0fbf323d",
   "metadata": {},
   "outputs": [
    {
     "name": "stdout",
     "output_type": "stream",
     "text": [
      "4.107182528775414 4.234196635579641 3.962598602291219\n"
     ]
    }
   ],
   "source": [
    "# Entropy of the projected system modes.import numpy as np\n",
    "from scipy.stats import entropy\n",
    "\n",
    "pk0 = np.squeeze(Ks[0].full().real)**2\n",
    "pk1 = np.squeeze(Ks[1].full().real)**2\n",
    "pk2 = np.squeeze(Ks[2].full().real)**2\n",
    "\n",
    "print(entropy(pk0, base=np.e), entropy(pk1, base=np.e), entropy(pk2, base=np.e))"
   ]
  },
  {
   "cell_type": "code",
   "execution_count": 76,
   "id": "19d2a6c8-b8c2-4295-873c-cae058a85b59",
   "metadata": {},
   "outputs": [
    {
     "data": {
      "text/plain": [
       "0.0"
      ]
     },
     "execution_count": 76,
     "metadata": {},
     "output_type": "execute_result"
    }
   ],
   "source": [
    "one_hot_basis = np.zeros(len(freq))\n",
    "one_hot_basis[0] = 1\n",
    "entropy(one_hot_basis, base=np.e)"
   ]
  },
  {
   "cell_type": "code",
   "execution_count": null,
   "id": "a8242239-9085-464b-8509-fd2cc26cd7f4",
   "metadata": {},
   "outputs": [],
   "source": []
  },
  {
   "cell_type": "code",
   "execution_count": 77,
   "id": "bb187b26-6f26-43d2-a3f4-d8100f3999b5",
   "metadata": {},
   "outputs": [
    {
     "name": "stdout",
     "output_type": "stream",
     "text": [
      "[-1.39585806e-04  3.30461905e-05 -1.74199370e-04] [7.54098504e-05 5.75508456e-05 5.60214586e-05] [-1.62808697e-04  9.41420530e-05  1.19207561e-04]\n"
     ]
    }
   ],
   "source": [
    "veclist = np.hstack((Ks,Kb))\n",
    "gnewX = np.real(np.squeeze( (Qobj(gcoupS[:,0]).transform(veclist)).full()[:ns] ))\n",
    "gnewY = np.real(np.squeeze( (Qobj(gcoupS[:,1]).transform(veclist)).full()[:ns] ))\n",
    "gnewZ = np.real(np.squeeze( (Qobj(gcoupS[:,2]).transform(veclist)).full()[:ns] ))\n",
    "# note: I have taken real parts only after inspecting that the imaginary parts are zeros.\n",
    "print(gnewX, gnewY, gnewZ)"
   ]
  },
  {
   "cell_type": "code",
   "execution_count": 78,
   "id": "e6cec398-de6e-4e20-af45-b415354624d4",
   "metadata": {},
   "outputs": [
    {
     "data": {
      "text/latex": [
       "Quantum object: dims = [[190], [190]], shape = (190, 190), type = oper, isherm = False $ \\\\ \\left(\\begin{matrix}0.0 & 0.0 & 0.0 & -6.071 & -95.506 & \\cdots & 718.177 & -309.744 & 7.399\\times10^{+03} & 25.284 & 3.647\\times10^{+03}\\\\0.0 & 0.0 & 0.0 & -21.401 & 23.349 & \\cdots & -74.586 & 90.720 & -4.110\\times10^{+03} & 1.292\\times10^{+03} & -1.086\\times10^{+03}\\\\0.0 & 0.0 & 0.0 & 143.207 & 31.069 & \\cdots & 8.863 & -53.084 & 1.660\\times10^{+03} & 1.784\\times10^{+03} & 924.129\\\\-6.071 & -21.401 & 143.207 & 0.0 & 0.0 & \\cdots & 0.0 & 0.0 & 0.0 & 0.0 & 0.0\\\\-95.506 & 23.349 & 31.069 & 0.0 & 0.0 & \\cdots & 0.0 & 0.0 & 0.0 & 0.0 & 0.0\\\\\\vdots & \\vdots & \\vdots & \\vdots & \\vdots & \\ddots & \\vdots & \\vdots & \\vdots & \\vdots & \\vdots\\\\718.177 & -74.586 & 8.863 & 0.0 & 0.0 & \\cdots & 0.0 & 0.0 & 0.0 & 0.0 & 0.0\\\\-309.744 & 90.720 & -53.084 & 0.0 & 0.0 & \\cdots & 0.0 & 0.0 & 0.0 & 0.0 & 0.0\\\\7.399\\times10^{+03} & -4.110\\times10^{+03} & 1.660\\times10^{+03} & 0.0 & 0.0 & \\cdots & 0.0 & 0.0 & 0.0 & 0.0 & 0.0\\\\25.284 & 1.292\\times10^{+03} & 1.784\\times10^{+03} & 0.0 & 0.0 & \\cdots & 0.0 & 0.0 & 0.0 & 0.0 & 0.0\\\\3.647\\times10^{+03} & -1.086\\times10^{+03} & 924.129 & 0.0 & 0.0 & \\cdots & 0.0 & 0.0 & 0.0 & 0.0 & 0.0\\\\\\end{matrix}\\right)$"
      ],
      "text/plain": [
       "Quantum object: dims = [[190], [190]], shape = (190, 190), type = oper, isherm = False\n",
       "Qobj data =\n",
       "[[    0.             0.             0.         ...  7399.44530992\n",
       "     25.28439304  3646.56534138]\n",
       " [    0.             0.             0.         ... -4109.58272452\n",
       "   1291.82341334 -1086.08291647]\n",
       " [    0.             0.             0.         ...  1659.93108922\n",
       "   1783.71667186   924.12876901]\n",
       " ...\n",
       " [ 7399.44530992 -4109.58272452  1659.93108922 ...     0.\n",
       "      0.             0.        ]\n",
       " [   25.28439304  1291.82341334  1783.71667186 ...     0.\n",
       "      0.             0.        ]\n",
       " [ 3646.56534138 -1086.08291647   924.12876901 ...     0.\n",
       "      0.             0.        ]]"
      ]
     },
     "execution_count": 78,
     "metadata": {},
     "output_type": "execute_result"
    }
   ],
   "source": [
    "L = P*Omega*Q + Q*Omega*P\n",
    "newL = L.transform(veclist).tidyup(atol=1e-6)\n",
    "newL"
   ]
  },
  {
   "cell_type": "code",
   "execution_count": 79,
   "id": "be3a3926-c34b-46a0-bb5f-9c136759dc92",
   "metadata": {},
   "outputs": [
    {
     "data": {
      "text/latex": [
       "Quantum object: dims = [[3], [187]], shape = (3, 187), type = oper, isherm = False $ \\\\ \\left(\\begin{matrix}-6.071 & -95.506 & 9.405 & -147.055 & 44.852 & \\cdots & 718.177 & -309.744 & 7.399\\times10^{+03} & 25.284 & 3.647\\times10^{+03}\\\\-21.401 & 23.349 & 2.292 & 2.545 & -135.105 & \\cdots & -74.586 & 90.720 & -4.110\\times10^{+03} & 1.292\\times10^{+03} & -1.086\\times10^{+03}\\\\143.207 & 31.069 & -11.331 & 48.751 & -116.251 & \\cdots & 8.863 & -53.084 & 1.660\\times10^{+03} & 1.784\\times10^{+03} & 924.129\\\\\\end{matrix}\\right)$"
      ],
      "text/plain": [
       "Quantum object: dims = [[3], [187]], shape = (3, 187), type = oper, isherm = False\n",
       "Qobj data =\n",
       "[[-6.07146136e+00 -9.55061732e+01  9.40527839e+00 -1.47054714e+02\n",
       "   4.48520652e+01 -1.32178018e+01  7.30144141e+01 -8.95252523e+00\n",
       "  -2.81473300e+01  2.83261739e+02 -6.07991378e+02 -3.61927816e+02\n",
       "   1.25512800e+02  1.09104935e+02 -9.72469698e+01  3.00874220e+02\n",
       "   2.15496447e+02  2.92884581e+02  2.38945656e+01 -1.95787607e+02\n",
       "   1.04154449e+02 -4.10373273e+02  9.24214309e+01 -1.17026575e+02\n",
       "   3.28532814e+01 -8.78717611e+01  1.44902722e+02 -2.42625232e+02\n",
       "  -7.13573770e+02 -2.48423790e+02 -7.08086718e+01 -3.31695779e+02\n",
       "   8.39540973e+01 -2.39331517e+02 -8.51904663e+01  5.01829122e+02\n",
       "  -2.02637807e+02  1.25106280e+02 -1.98249445e+02  3.92941717e+02\n",
       "   8.42277484e+00  1.15676327e+02 -1.14974746e+02  3.15794434e+02\n",
       "  -1.70645946e+02 -1.68970338e+01  8.36344987e+01 -2.36589041e+02\n",
       "   5.90386247e+02 -1.12070053e+02 -2.59011890e+02  1.48174132e+03\n",
       "  -2.67757529e+02  6.50882996e+02  1.07721849e+03 -1.04707252e+02\n",
       "   7.68097828e+02  2.87178139e+02 -3.02606197e+02  5.93324210e+01\n",
       "   4.65261237e+02 -2.57912082e+02  1.80937238e+02 -2.45365810e+02\n",
       "  -4.07607093e+02 -6.86008062e+02  1.11972050e+02 -1.53749932e+02\n",
       "   1.12480836e+02  1.27328445e+02 -4.74067957e+01  2.65961651e+02\n",
       "   7.35874436e+01  9.52560257e+00 -2.22607021e+02 -6.65102490e+02\n",
       "  -5.72827528e+02  1.05706572e+03  1.16888731e+03 -2.01424049e+02\n",
       "  -8.50600106e+02 -5.09541077e+02  6.09141961e+02 -2.27211770e+02\n",
       "   8.55094134e+01  8.45831310e+01  4.03385786e+01  2.51234901e+02\n",
       "   4.57638327e+02  4.66487717e+02 -6.34985189e+02  1.24354363e+03\n",
       "   1.84613383e+02 -8.64999655e+02  5.98986803e+02 -1.64591805e+02\n",
       "   2.74124083e+02  9.93071628e+02  1.34651729e+03  3.14964737e+02\n",
       "  -6.20355992e+02 -4.42992049e+02  1.55581277e+02 -6.82178231e+02\n",
       "   2.29923078e+02  7.32603893e+02 -5.15373314e+03 -2.76193544e+01\n",
       "  -8.25435134e+02  2.13998966e+02 -1.01955930e+03 -3.32685167e+03\n",
       "   8.87836588e+02 -6.14003437e+02 -9.79139113e+02 -1.23690307e+03\n",
       "   3.22631965e+02  9.89468399e+02  9.63224508e+01 -1.09925675e+03\n",
       "   3.38913931e+01 -5.77132414e+01 -4.10260669e+01  4.92454858e+02\n",
       "  -4.51608779e+01  5.82250773e+02  7.37243367e+01 -2.86500478e+02\n",
       "  -6.89554891e+01 -3.52045165e+01 -2.49021823e+01  1.75646937e+03\n",
       "   5.31260002e+02  9.14556625e+02  7.78293420e+02  3.53753831e+02\n",
       "   1.69087773e+03 -1.74301182e+03 -2.63789036e+02  7.01594201e+02\n",
       "  -2.33672450e+02 -3.98622012e-01  2.68454369e+03 -1.41652812e+03\n",
       "  -2.30440693e+03 -1.75031295e+03 -8.49094747e+02  4.24277442e+02\n",
       "   1.26572311e+03 -1.64508950e+02  3.27464766e+02 -4.01766406e+02\n",
       "   3.14152364e+01 -1.56650833e+02  5.05992476e+01 -1.25032177e+03\n",
       "  -8.91923160e+02 -3.45686926e+02 -1.11429396e+00 -8.00319119e+02\n",
       "   5.02788081e+02 -7.92619029e+02 -3.35036454e+02 -1.90020086e+02\n",
       "  -3.54282685e+02  5.19085909e+02 -2.37622083e+03 -1.75340621e+03\n",
       "  -1.22232849e+03  1.18048307e+03 -3.17124139e+02 -3.92766242e+03\n",
       "  -2.27714442e+03  1.71491989e+04 -8.61827059e+02 -2.78201855e+03\n",
       "   6.68176048e+03 -1.78771885e+03  1.56439575e+03  1.03927179e+04\n",
       "   1.29333229e+04 -5.40763213e+04  7.18176626e+02 -3.09743586e+02\n",
       "   7.39944531e+03  2.52843930e+01  3.64656534e+03]\n",
       " [-2.14012127e+01  2.33490601e+01  2.29180686e+00  2.54519838e+00\n",
       "  -1.35104713e+02  3.46676308e+01 -2.61684610e+01 -4.40366307e+01\n",
       "   5.70340153e+01 -3.32269610e+02  2.70876554e+02 -4.44375566e+02\n",
       "   2.44081952e+02  2.94921258e+01  1.32097918e+02  2.30652784e+02\n",
       "  -5.80218926e+01  3.18581444e+02 -2.95495999e+01 -1.82105836e+02\n",
       "   2.48968422e+02  1.89705260e+02  2.57716450e+02 -9.86235904e+00\n",
       "  -1.63541012e+01  3.30346739e+01  2.42431473e+02  3.69962962e+02\n",
       "  -8.76148962e+01 -5.66845183e+02 -9.07795092e+01  1.07450223e+02\n",
       "  -5.53459951e+02 -1.25801611e+02  4.88807876e+01  1.30385230e+02\n",
       "  -1.07812757e+02  1.31897908e+02  5.60744887e+01 -5.24336508e+00\n",
       "   1.87613053e+02 -4.21579887e+02  1.13059429e+02  4.36877957e+01\n",
       "   2.25771604e+02  1.42503781e+02 -5.01020145e+01  2.03358388e+02\n",
       "  -1.06731521e+03  1.46798429e+02  9.79316786e+01 -1.59046562e+02\n",
       "  -8.85875030e+02  4.59494305e+02  7.99218782e+02  5.80702927e+01\n",
       "   8.38104500e+01 -2.77237722e+02 -4.72459902e+02 -9.83911463e+00\n",
       "   1.27158769e+02 -4.70330248e+02 -4.03495830e+02 -5.97625780e+01\n",
       "   8.94931201e+01  1.89741578e+02  6.17292684e+01  7.14461398e+02\n",
       "  -1.47657696e+01 -2.00126332e+02 -3.20061359e+02  1.65973715e+03\n",
       "  -4.81305339e+02  2.11444342e+02  1.66152227e+02 -5.72308337e+02\n",
       "  -2.80310008e+02 -1.45874977e+02  1.59304795e+03  2.01118891e+02\n",
       "  -4.16067187e+02  1.82365397e+02  2.17875340e+02 -1.06031074e+02\n",
       "   2.06830852e+02  2.16928083e+02  3.49486156e+02 -4.34871528e+01\n",
       "  -9.75375238e+02 -4.02921320e+02 -4.91725821e+02  6.86400727e+02\n",
       "  -2.45255603e+03 -4.68868870e+02  2.96354726e+00  1.15137671e+03\n",
       "  -1.83732485e+03  1.11405641e+03  2.49668371e+02  1.03628761e+02\n",
       "  -9.19088162e+02  1.86869400e+02 -2.01042602e+02 -1.01914155e+02\n",
       "   5.15891446e+00 -7.13065490e-01 -1.53995074e+03 -3.94671364e+03\n",
       "  -1.22864104e+03 -9.57930706e+01  1.11332672e+03  1.04182199e+03\n",
       "   7.42555489e+02 -2.03036516e+03  2.62519182e+03 -1.73503199e+03\n",
       "   7.04001623e+02  2.01273410e+02  1.61220778e+03 -2.08955404e+02\n",
       "   1.07327800e+03  1.82750422e+03  2.78226702e+02 -5.37475801e+02\n",
       "   6.80518579e+02 -1.02244594e+02  1.10142001e+02 -1.08804779e+03\n",
       "   6.61297376e+02 -3.11471529e+02 -1.27690198e+03  1.20121834e+02\n",
       "   3.34066623e+02 -1.21353476e+03  1.60107074e+03  1.80016441e+03\n",
       "  -2.42777566e+02 -1.09135686e+03 -3.98725784e+02 -3.10050294e+02\n",
       "   1.56926886e+03 -2.36204698e+03  5.64775671e+03 -3.59668508e+03\n",
       "  -1.27858248e+03 -8.50283092e+02 -5.26334548e+02 -1.15964761e+03\n",
       "  -2.10577704e+02  2.75325445e+02 -2.16626942e+00  1.62686056e+03\n",
       "  -1.45325596e+03  3.19217490e+02 -4.51290209e+02 -6.60354110e+02\n",
       "  -6.48985643e+02 -9.03560894e+02 -4.45825791e+02 -9.09836119e+00\n",
       "   4.67563237e+02 -1.51882565e+03  9.54207273e+02  1.21544759e+03\n",
       "  -5.56390260e+03  1.10113885e+03  2.31689910e+03  6.88640475e+02\n",
       "  -3.95916255e+02 -6.63577987e+02 -6.75233912e+02 -3.73053109e+03\n",
       "   5.65302225e+04  1.40365686e+03  1.68832053e+03 -6.82154338e+03\n",
       "  -3.90523194e+02 -2.72245200e+01 -1.69782613e+02 -2.61634674e+04\n",
       "   4.61805787e+04  8.22656139e+03 -7.45856037e+01  9.07198389e+01\n",
       "  -4.10958272e+03  1.29182341e+03 -1.08608292e+03]\n",
       " [ 1.43206671e+02  3.10692732e+01 -1.13311644e+01  4.87509008e+01\n",
       "  -1.16251245e+02 -1.12901550e+01  8.53569564e+01  2.09868788e+02\n",
       "   2.15629748e+01 -4.15414054e+02  3.65436233e+02 -9.23156810e+01\n",
       "   1.70581861e+02  5.96722472e-01  1.39929598e+02  1.99299373e+02\n",
       "   2.71402951e+01 -4.70244347e+02  1.47067023e+02  4.83858640e+02\n",
       "  -2.14154397e+02  5.75318054e+02  1.09810259e+02  1.40888211e+02\n",
       "   3.49991872e+01  1.54068163e+02 -7.63450316e+01  2.42672063e+02\n",
       "  -4.06289222e+02 -6.05309947e+02 -6.30457192e+01 -3.36964776e+02\n",
       "  -2.41775538e+02 -8.21850962e+01  2.91531198e+02  1.39094697e+02\n",
       "   4.38089077e+02  2.23231197e+02  3.44610134e+02 -4.92768042e+02\n",
       "   4.33902202e+02  5.40612438e+01  1.59539933e+02 -2.39900302e+02\n",
       "  -4.64357871e+02 -1.10519715e+02 -6.50091050e+01 -4.11525837e+02\n",
       "  -9.55777282e+02  1.42090759e+02  2.22407624e+02 -1.08055628e+03\n",
       "  -7.69498582e+02  1.00973639e+03 -1.02152778e+03  1.82730938e+02\n",
       "  -9.13798288e+02 -6.85191126e+02  9.64256050e+02 -2.38693928e+02\n",
       "  -7.49879782e+02  8.53828008e+02  1.90167692e+02  2.51348554e+02\n",
       "   3.91870187e+02  7.87269591e+02 -2.85843004e+02  3.15713437e+02\n",
       "  -9.83055856e+01 -1.61018718e+02 -2.31606611e+02 -8.65609726e+01\n",
       "   1.00314919e+02 -9.02771001e+02 -5.60771004e+01 -1.21311435e+03\n",
       "  -1.33417784e+01  9.51962697e+02  2.47145874e+02  5.88119834e+02\n",
       "   4.82363687e+02 -2.71031947e+02  2.08014309e+02  5.07011898e+02\n",
       "  -4.19877598e+02 -5.13758219e+02  1.22177906e+02  3.81882108e+02\n",
       "   2.22677077e+02  5.02888675e+02 -4.11880613e+02 -8.35879826e+02\n",
       "   2.13939437e+02 -5.15646977e+02  1.39020237e+03 -3.88678846e+01\n",
       "   4.83104801e+02  1.30078959e+03  7.60084085e+02 -1.56730485e+02\n",
       "   9.10286516e+01 -3.77397882e+02  3.88015050e+02 -3.39019012e+02\n",
       "   5.71308576e+00  8.15339148e+01  5.91437462e+02 -2.70261669e+03\n",
       "  -2.96243798e+03  1.34508126e+03  1.08291407e+03 -4.68677245e+03\n",
       "   1.49902993e+03  5.60525117e+02 -1.56598712e+03 -1.60697398e+03\n",
       "   1.79764001e+03  5.91669327e+02  6.32968058e+01 -1.94088369e+03\n",
       "   2.88267409e+03 -8.23812074e+02  2.87866975e+02 -2.72776054e+02\n",
       "  -2.99571062e+02  5.76585353e+02 -5.44285224e+02 -7.00121697e+02\n",
       "   8.19583298e+02 -4.19507884e+02 -3.53261080e+02  1.77491109e+02\n",
       "   1.40790043e+03  4.61885304e+03  1.86862216e+03 -9.21954682e+02\n",
       "   3.30539802e+03 -4.89068291e+03 -4.91973125e+02  1.43939397e+03\n",
       "  -1.04182067e+03  5.83543632e+02  5.47133047e+03 -2.25111614e+03\n",
       "  -6.02902072e+03 -3.29714662e+03 -2.09896468e+03  2.31247571e+03\n",
       "   4.45297009e+03 -6.38280998e+02  1.05081119e+03 -1.51604199e+03\n",
       "   1.47123498e+03  1.77648401e+03 -4.91351278e+02 -2.18394497e+03\n",
       "   2.62725967e+01 -6.17007915e+02 -7.01931691e+02 -4.44128892e+02\n",
       "  -7.06463889e+02 -1.43746024e+03 -3.02053838e+03 -4.74726765e+02\n",
       "   2.10846883e+03 -1.30478140e+02 -7.33615736e+02  5.37254163e+02\n",
       "   3.29367638e+02 -1.18411467e+02  5.40342297e+02  7.04585735e+04\n",
       "  -3.99364751e+03  9.10146243e+02  4.66081572e+02  2.15828973e+03\n",
       "   1.43512109e+03 -3.84095487e+02  8.77718522e+01  4.03735958e+04\n",
       "   1.81652953e+04  4.26493313e+03  8.86308903e+00 -5.30837039e+01\n",
       "   1.65993109e+03  1.78371667e+03  9.24128769e+02]]"
      ]
     },
     "execution_count": 79,
     "metadata": {},
     "output_type": "execute_result"
    }
   ],
   "source": [
    "gamma_prime = np.real(newL.full()[:ns,ns:]) # the first index for gamma prime is for system phonon and second for bath phonon\n",
    "Qobj(gamma_prime)"
   ]
  },
  {
   "cell_type": "code",
   "execution_count": 80,
   "id": "cea157ae-1760-40d4-bd4d-3ff315bee284",
   "metadata": {},
   "outputs": [
    {
     "data": {
      "text/plain": [
       "array([1551.0794345 , 1908.80354753, 2280.34765499])"
      ]
     },
     "execution_count": 80,
     "metadata": {},
     "output_type": "execute_result"
    }
   ],
   "source": [
    "omega_s/cm2mev"
   ]
  },
  {
   "cell_type": "markdown",
   "id": "565767a8-2fd3-47fc-8afe-2c790966843e",
   "metadata": {},
   "source": [
    "## Analysis of projected modes"
   ]
  },
  {
   "cell_type": "code",
   "execution_count": 81,
   "id": "a9b1b2d0-3623-4c07-a45a-67edd190a18b",
   "metadata": {},
   "outputs": [
    {
     "data": {
      "image/png": "[encoded data removed]",
      "text/plain": [
       "<Figure size 1200x400 with 1 Axes>"
      ]
     },
     "metadata": {},
     "output_type": "display_data"
    }
   ],
   "source": [
    "plt.figure(figsize=(12,4))\n",
    "for i in range(len(Ks)):\n",
    "    plt.bar(freq,np.squeeze(Ks[i].full().real), width=2)\n",
    "\n",
    "plt.title(r\"Composition of system modes in terms of original phonons\")\n",
    "plt.xlabel(r\"$\\hbar \\omega (meV)$\")\n",
    "plt.ylabel(r\"Cofficient\")\n",
    "#plt.yscale('log')\n",
    "plt.legend(['System mode 0','System mode 1','System mode 2'])\n",
    "plt.show()"
   ]
  },
  {
   "cell_type": "code",
   "execution_count": 82,
   "id": "ffcd4ba6-18c8-4c66-8345-4040600a7e5c",
   "metadata": {},
   "outputs": [
    {
     "data": {
      "image/png": "[encoded data removed]",
      "text/plain": [
       "<Figure size 1100x900 with 3 Axes>"
      ]
     },
     "metadata": {},
     "output_type": "display_data"
    }
   ],
   "source": [
    "plt.rcParams['text.usetex'] = True \n",
    "plt.rcParams[\"axes.formatter.limits\"]=(0,0)\n",
    "plt.rcParams.update({'font.size': 20})\n",
    "\n",
    "#fig, axs = plt.subplots(3, sharex=True)\n",
    "fig, axs = plt.subplots(3,1,figsize=(11,9),sharex=True, gridspec_kw={'height_ratios': [1, 1,1]})\n",
    "#fig = plt.figure(figsize=(7, 9))\n",
    "#gs = fig.add_gridspec(3, hspace=0)\n",
    "#axs = gs.subplots(sharex=True, sharey=False)\n",
    "\n",
    "color = 'tab:blue'\n",
    "axs[0].set_xlabel(r\"$\\omega [cm^{-1}]$\")\n",
    "axs[0].set_ylabel(r\"Mode 1\", color='k')\n",
    "#axs[0].set_ylim([0, 5])\n",
    "axs[0].bar(freq/cm2mev,np.squeeze(Ks[0].full().real), width=20, color='k')\n",
    "#axs[0].fill_between(xspec/cm2mev, np.array(yspec), 0, color='blue', alpha=.1)\n",
    "axs[0].tick_params(axis='y', labelcolor='k')\n",
    "\n",
    "#ax2 = axs[0].twinx()  # instantiate a second axes that shares the same x-axis\n",
    "\n",
    "#color = 'tab:red'\n",
    "#ax2.set_ylabel(r\"$|\\partial g_{zz}/\\partial \\hat x_k|$\", color=color)  # we already handled the x-label with ax1\n",
    "#ax2.set_yscale('log')\n",
    "#ax2.bar(freq[:highfreq]/cm2mev, gnorm, width=2.5, color=color)\n",
    "#ax2.tick_params(axis='y', labelcolor=color)\n",
    "#ax2.set_ylim([0, 10])\n",
    "\n",
    "\n",
    "#############\n",
    "\n",
    "\n",
    "color = 'tab:blue'\n",
    "axs[1].set_xlabel(r\"$\\omega [cm^{-1}]$\")\n",
    "axs[1].set_ylabel(r\"Mode 2\", color='k')\n",
    "#axs[1].set_ylim([0, 5])\n",
    "axs[1].bar(freq/cm2mev,np.squeeze(Ks[1].full().real), width=20, color='k')\n",
    "#axs[1].fill_between(xspec/cm2mev, np.array(yspec), 0, color='blue', alpha=.1)\n",
    "axs[1].tick_params(axis='y', labelcolor='k')\n",
    "\n",
    "#ax2 = axs[1].twinx()  # instantiate a second axes that shares the same x-axis\n",
    "\n",
    "#color = 'tab:red'\n",
    "#ax2.set_ylabel(r\"$|\\partial g_{yz}/\\partial \\hat x_k|$\", color=color)  # we already handled the x-label with ax1\n",
    "#ax2.set_yscale('log')\n",
    "#ax2.bar(freq[:highfreq]/cm2mev, gnorm, width=2.5, color=color)\n",
    "#ax2.tick_params(axis='y', labelcolor=color)\n",
    "#ax2.set_ylim([0, 10])\n",
    "\n",
    "\n",
    "#############\n",
    "\n",
    "color = 'tab:blue'\n",
    "axs[2].set_xlabel(r\"$\\omega [cm^{-1}]$\")\n",
    "axs[2].set_ylabel(r\"Mode 3\", color='k')\n",
    "#axs[2].set_ylim([0, 5])\n",
    "axs[2].bar(freq/cm2mev,np.squeeze(Ks[2].full().real), width=20, color='k')\n",
    "#axs[2].fill_between(xspec/cm2mev, np.array(yspec), 0, color='blue', alpha=.1)\n",
    "axs[2].tick_params(axis='y', labelcolor='k')\n",
    "\n",
    "#ax2 = axs[2].twinx()  # instantiate a second axes that shares the same x-axis\n",
    "\n",
    "#color = 'tab:red'\n",
    "#ax2.set_ylabel(r\"$|\\partial g_{xz}/\\partial \\hat x_k|$\", color=color)  # we already handled the x-label with ax1\n",
    "#ax2.set_yscale('log')\n",
    "#ax2.bar(freq[:highfreq]/cm2mev, gnorm, width=2.5, color=color)\n",
    "#ax2.tick_params(axis='y', labelcolor=color)\n",
    "#ax2.set_ylim([0, 10])\n",
    "\n",
    "\n",
    "# Hide x labels and tick labels for all but bottom plot.\n",
    "for ax in axs:\n",
    "    ax.label_outer()"
   ]
  },
  {
   "cell_type": "code",
   "execution_count": 83,
   "id": "7053de52-f495-4db8-8d2e-d0c226d3adaf",
   "metadata": {},
   "outputs": [
    {
     "data": {
      "text/plain": [
       "(190, 3)"
      ]
     },
     "execution_count": 83,
     "metadata": {},
     "output_type": "execute_result"
    }
   ],
   "source": [
    "np.squeeze(np.array([Ks[0].full(), Ks[1].full(),Ks[2].full()])).transpose().shape"
   ]
  },
  {
   "cell_type": "markdown",
   "id": "efe4a20a-d485-45d3-9b2b-aeaa128aed26",
   "metadata": {},
   "source": [
    "### Spectral Densities of projected and bath modes"
   ]
  },
  {
   "cell_type": "code",
   "execution_count": 84,
   "id": "29b51160-9307-4782-90ec-71b99b71e401",
   "metadata": {},
   "outputs": [],
   "source": [
    "Temp = 300"
   ]
  },
  {
   "cell_type": "code",
   "execution_count": 85,
   "id": "ba510913-dfc6-4d49-9028-3abea13a7050",
   "metadata": {},
   "outputs": [],
   "source": [
    "def spectral_density_coupled_modes_classical(w, gcoup, gamma_coup, omega_s, omega_b, T=10, sigma=2):\n",
    "    '''\n",
    "    Generates spectral density of system modes affecting the spin system. The system modes are coupled to the bath\n",
    "    modes. The units of gcoup, gamma_coup, omega_s and omega_b should all be energy.\n",
    "    The units of spectral density are Eng^2 s. Therefore, division by hbar^2 must be done afterwards.\n",
    "    '''\n",
    "    kB = 8.6173e-2 # meV/K, Boltzmann constant\n",
    "    #gamma = 2 # dampng meV\n",
    "    S = 0\n",
    "\n",
    "    for r in range(len(omega_s)):\n",
    "        for rp in range(len(omega_s)):\n",
    "            wr = omega_s[r]/hbar # freq of system phonon r\n",
    "            wrp = omega_s[rp]/hbar # freq of system phonon rp\n",
    "            cr = gcoup[r]/(np.sqrt(hbar/wr)) # energy / length\n",
    "            crp = gcoup[rp]/(np.sqrt(hbar/wrp)) # energy / length\n",
    "\n",
    "            for j in range(len(omega_b)):\n",
    "                wj = omega_b[j]/hbar # freq of bath phonons\n",
    "                gamma = sigma #0.2*wj # dampng rate = 20 % of mode frequency\n",
    "                grj = gamma_coup[r,j]/( np.sqrt(hbar/wr)*np.sqrt(hbar/wj) ) # energy/length^2\n",
    "                grpj = gamma_coup[rp, j]/( np.sqrt(hbar/wrp)*np.sqrt(hbar/wj) )# energy/length^2\n",
    "                factor1 = (wj**2 - w**2)**2 + (gamma**2)*(w**2)\n",
    "                factor2 = (wr**2-w**2)*(wrp**2-w**2)\n",
    "                S += (cr*crp)*(grj*grpj)*(2*gamma*kB*T)/(factor1*factor2)\n",
    "                #S += (2*gamma*kB*T)/(factor1*factor2)\n",
    "    return S"
   ]
  },
  {
   "cell_type": "code",
   "execution_count": null,
   "id": "8ed7932e-da08-4826-a59e-cee7d8ce2bff",
   "metadata": {},
   "outputs": [],
   "source": []
  },
  {
   "cell_type": "code",
   "execution_count": 86,
   "id": "feb8bc3f-cc12-4589-b12b-cc8f7c409b65",
   "metadata": {},
   "outputs": [
    {
     "data": {
      "text/plain": [
       "(array([-1.39585806e-04,  3.30461905e-05, -1.74199370e-04]),\n",
       " array([7.54098504e-05, 5.75508456e-05, 5.60214586e-05]),\n",
       " array([-1.62808697e-04,  9.41420530e-05,  1.19207561e-04]))"
      ]
     },
     "execution_count": 86,
     "metadata": {},
     "output_type": "execute_result"
    }
   ],
   "source": [
    "gnewX, gnewY, gnewZ"
   ]
  },
  {
   "cell_type": "code",
   "execution_count": 87,
   "id": "3742e4ec-4384-419f-9cfd-fbac6fac3702",
   "metadata": {},
   "outputs": [],
   "source": [
    "Temp=300\n",
    "x = np.linspace(0,freq[-1], 1000)\n",
    "#yX = [spectral_density_coupled_modes_classical(x/hbar,gnewX,gamma_prime,omega_s, omega_b, T=Temp) for x in x]\n",
    "#yY = [spectral_density_coupled_modes_classical(x/hbar,gnewY,gamma_prime,omega_s, omega_b, T=Temp) for x in x]\n",
    "yZ = [spectral_density_coupled_modes_classical(x/hbar,gnewZ,gamma_prime,omega_s, omega_b, T=Temp) for x in x]\n"
   ]
  },
  {
   "cell_type": "code",
   "execution_count": 88,
   "id": "f5daa4e0-7c2e-408d-a3f5-a82f8aab1d82",
   "metadata": {},
   "outputs": [
    {
     "data": {
      "image/png": "[encoded data removed]",
      "text/plain": [
       "<Figure size 640x480 with 1 Axes>"
      ]
     },
     "metadata": {},
     "output_type": "display_data"
    }
   ],
   "source": [
    "plt.figure()\n",
    "#plt.plot(x/cm2mev,yX)\n",
    "#plt.plot(x/cm2mev,yY)\n",
    "plt.plot(x/cm2mev,yZ)\n",
    "#plt.plot(omega_s/cm2mev, [spectral_density_coupled_modes_classical(x/hbar,gnewX,gamma_prime,omega_s, omega_b, Temp) for x in omega_s[:165]], 'x')\n",
    "#plt.plot(omega_b[:165]/cm2mev, [spectral_density_coupled_modes_classical(x/hbar,gnewX,gamma_prime,omega_s, omega_b, Temp) for x in omega_b[:165]], '.')\n",
    "plt.yscale('log')\n",
    "plt.ylabel(r\"$S$\")\n",
    "plt.xlabel(r\"$\\omega\\ (cm^{-1})$\")\n",
    "#plt.legend([r\"$\\sigma_x$\", r\"$\\sigma_y$\", r\"$\\sigma_z$\"])\n",
    "plt.show()"
   ]
  },
  {
   "cell_type": "code",
   "execution_count": 65,
   "id": "9405662e-ef18-4f49-aaf4-9ad5622e3cf1",
   "metadata": {},
   "outputs": [
    {
     "data": {
      "text/plain": [
       "(187,)"
      ]
     },
     "execution_count": 65,
     "metadata": {},
     "output_type": "execute_result"
    }
   ],
   "source": [
    "gamma_prime[2,:].shape"
   ]
  },
  {
   "cell_type": "code",
   "execution_count": 89,
   "id": "115efc7c-37b5-4efd-b75b-c8a64c3ac35e",
   "metadata": {},
   "outputs": [
    {
     "data": {
      "image/png": "[encoded data removed]",
      "text/plain": [
       "<Figure size 1100x900 with 3 Axes>"
      ]
     },
     "metadata": {},
     "output_type": "display_data"
    }
   ],
   "source": [
    "plt.rcParams['text.usetex'] = True \n",
    "plt.rcParams[\"axes.formatter.limits\"]=(0,0)\n",
    "plt.rcParams.update({'font.size': 20})\n",
    "\n",
    "#fig, axs = plt.subplots(3, sharex=True)\n",
    "fig, axs = plt.subplots(3,1,figsize=(11,9),sharex=True, gridspec_kw={'height_ratios': [2, 1, 1]})\n",
    "#fig = plt.figure(figsize=(7, 9))\n",
    "#gs = fig.add_gridspec(3, hspace=0)\n",
    "#axs = gs.subplots(sharex=True, sharey=False)\n",
    "\n",
    "\n",
    "color = 'tab:blue'\n",
    "axs[0].set_xlabel(r\"$\\omega [cm^{-1}]$\")\n",
    "axs[0].set_ylabel(r\"$S_{\\sigma_z}$\", color=color)\n",
    "#axs[0].set_ylim([0, 5])\n",
    "axs[0].plot(x/cm2mev,np.array(yZ),color=color)\n",
    "axs[0].fill_between(x/cm2mev, np.array(yZ), 0, color='blue', alpha=.1)\n",
    "axs[0].tick_params(axis='y', labelcolor=color)\n",
    "axs[0].set_yscale('log')\n",
    "\n",
    "#ax2 = axs[0].twinx()  # instantiate a second axes that shares the same x-axis\n",
    "\n",
    "#color = 'tab:red'\n",
    "#ax2.set_ylabel(r\"$|\\gamma_{z,j}|$\", color=color)  # we already handled the x-label with ax1\n",
    "#ax2.set_yscale('log')\n",
    "#ax2.bar(omega_b/cm2mev, np.abs(gamma_prime[2,:]), width=10, color=color)\n",
    "#ax2.tick_params(axis='y', labelcolor=color)\n",
    "#ax2.set_yscale('log')\n",
    "\n",
    "#ax2.bar(omega_s/cm2mev, np.abs(gnewZ), width=10, color='tab:black')\n",
    "#############\n",
    "\n",
    "color = 'tab:green'\n",
    "axs[1].set_xlabel(r\"$\\omega [cm^{-1}]$\")\n",
    "axs[1].set_ylabel(r\"$|\\gamma_{zj}|$\", color=color)\n",
    "#axs[0].set_ylim([0, 5])\n",
    "axs[1].bar(omega_b/cm2mev, np.abs(gamma_prime[2,:]), width=10, color=color)\n",
    "axs[1].tick_params(axis='y', labelcolor=color)\n",
    "axs[1].set_yscale('log')\n",
    "\n",
    "##############################\n",
    "\n",
    "\n",
    "color = 'tab:red'\n",
    "axs[2].set_xlabel(r\"$\\omega [cm^{-1}]$\")\n",
    "axs[2].set_ylabel(r\"$|\\tilde{g}_{z,r}|$\", color=color)\n",
    "#axs[0].set_ylim([0, 5])\n",
    "axs[2].bar(omega_s/cm2mev, np.abs(gnewZ), width=10, color=color)\n",
    "axs[2].tick_params(axis='y', labelcolor=color)\n",
    "#axs[2].set_yscale('log')\n",
    "# Hide x labels and tick labels for all but bottom plot.\n",
    "for ax in axs:\n",
    "    ax.label_outer()"
   ]
  },
  {
   "cell_type": "code",
   "execution_count": 90,
   "id": "a97a661c-ba47-4ca8-82e6-a190654fddb5",
   "metadata": {},
   "outputs": [
    {
     "ename": "NameError",
     "evalue": "name 'w_split' is not defined",
     "output_type": "error",
     "traceback": [
      "\u001b[0;31m---------------------------------------------------------------------------\u001b[0m",
      "\u001b[0;31mNameError\u001b[0m                                 Traceback (most recent call last)",
      "Cell \u001b[0;32mIn[90], line 1\u001b[0m\n\u001b[0;32m----> 1\u001b[0m spectral_density_classical(w_split\u001b[38;5;241m/\u001b[39mhbar, freqs\u001b[38;5;241m=\u001b[39mfreq, coup\u001b[38;5;241m=\u001b[39mgcoupS[:,\u001b[38;5;241m2\u001b[39m], T\u001b[38;5;241m=\u001b[39m\u001b[38;5;241m5\u001b[39m, sigma\u001b[38;5;241m=\u001b[39m\u001b[38;5;241m2\u001b[39m)\u001b[38;5;241m/\u001b[39mhbar\u001b[38;5;241m*\u001b[39m\u001b[38;5;241m*\u001b[39m\u001b[38;5;241m2\u001b[39m\n",
      "\u001b[0;31mNameError\u001b[0m: name 'w_split' is not defined"
     ]
    }
   ],
   "source": [
    "spectral_density_classical(w_split/hbar, freqs=freq, coup=gcoupS[:,2], T=5, sigma=2)/hbar**2"
   ]
  },
  {
   "cell_type": "code",
   "execution_count": 66,
   "id": "017aa9b3-1820-4da2-aa83-0cb041410c9c",
   "metadata": {},
   "outputs": [
    {
     "ename": "NameError",
     "evalue": "name 'w_split' is not defined",
     "output_type": "error",
     "traceback": [
      "\u001b[0;31m---------------------------------------------------------------------------\u001b[0m",
      "\u001b[0;31mNameError\u001b[0m                                 Traceback (most recent call last)",
      "Cell \u001b[0;32mIn[66], line 1\u001b[0m\n\u001b[0;32m----> 1\u001b[0m spectral_density_coupled_modes_classical(w_split\u001b[38;5;241m/\u001b[39mhbar,gnewZ,gamma_prime,omega_s, omega_b, T\u001b[38;5;241m=\u001b[39m\u001b[38;5;241m5\u001b[39m)\u001b[38;5;241m/\u001b[39mhbar\u001b[38;5;241m*\u001b[39m\u001b[38;5;241m*\u001b[39m\u001b[38;5;241m2\u001b[39m\n",
      "\u001b[0;31mNameError\u001b[0m: name 'w_split' is not defined"
     ]
    }
   ],
   "source": [
    "spectral_density_coupled_modes_classical(w_split/hbar,gnewZ,gamma_prime,omega_s, omega_b, T=5)/hbar**2"
   ]
  },
  {
   "cell_type": "code",
   "execution_count": null,
   "id": "7c0b55b5-6d07-415c-a4a9-4301c99cbfd6",
   "metadata": {},
   "outputs": [],
   "source": [
    "y = np.linspace(0,freq[-1], 1000)\n",
    "#yX = [spectral_density_coupled_modes_classical(x/hbar,gnewX,gamma_prime,omega_s, omega_b, T=Temp) for x in x]\n",
    "#yY = [spectral_density_coupled_modes_classical(x/hbar,gnewY,gamma_prime,omega_s, omega_b, T=Temp) for x in x]\n",
    "xZ = [spectral_density_coupled_modes_classical(y/hbar,gnewZ,gamma_prime,omega_s, omega_b, T=Temp) for y in y]\n"
   ]
  },
  {
   "cell_type": "code",
   "execution_count": null,
   "id": "1dfc3405-201d-4f5c-9a9a-c9cd494ca5e6",
   "metadata": {},
   "outputs": [],
   "source": [
    "## NOTE: need to add the movies of these modes from orca."
   ]
  },
  {
   "cell_type": "code",
   "execution_count": null,
   "id": "d1469c77-341a-48c8-a4e3-d2fee01b3916",
   "metadata": {},
   "outputs": [],
   "source": [
    "print(gamma_prime.shape, gnewX.shape)"
   ]
  },
  {
   "cell_type": "markdown",
   "id": "986f44cf-e61f-45ef-9b5d-c0d0801dd224",
   "metadata": {},
   "source": [
    "# Spin dyanmics after Mode Projection"
   ]
  },
  {
   "cell_type": "markdown",
   "id": "dc1349fa-a489-44cd-ba10-a225242a729a",
   "metadata": {},
   "source": [
    "### Method 4\n",
    "\n",
    "Using Refield dyanmics wiht coupled oscillator spectral density"
   ]
  },
  {
   "cell_type": "code",
   "execution_count": null,
   "id": "7c45cae5-27b0-47e1-ae06-1193966e30f1",
   "metadata": {},
   "outputs": [],
   "source": [
    "1/np.pi"
   ]
  },
  {
   "cell_type": "code",
   "execution_count": null,
   "id": "e41ce5c7-ca9b-4c4b-8fbc-de9c8f2ec5db",
   "metadata": {},
   "outputs": [],
   "source": [
    "np.sqrt(np.pi)"
   ]
  },
  {
   "cell_type": "code",
   "execution_count": null,
   "id": "25fe5334-938c-42f9-9b37-f067dac122d9",
   "metadata": {},
   "outputs": [],
   "source": [
    "np.sqrt(2/np.pi)"
   ]
  },
  {
   "cell_type": "code",
   "execution_count": null,
   "id": "f0f73285-a2bb-44f7-a1ae-60b1613ed765",
   "metadata": {},
   "outputs": [],
   "source": [
    "np.sqrt(np.pi/2)"
   ]
  },
  {
   "cell_type": "code",
   "execution_count": 91,
   "id": "2a1c1307-4281-4630-bacf-65dedd74ab67",
   "metadata": {},
   "outputs": [],
   "source": [
    "# Temperature Scan, multiple runs\n",
    "Temp_list = [5, 10, 20, 30, 40, 50, 60, 70, 80, 90, 100, 120, 140, 160, 180, 200, 220, 240, 260, 280, 300, 320]\n",
    "tlist = np.linspace(1, 3000e6, 1000) # in ps"
   ]
  },
  {
   "cell_type": "code",
   "execution_count": 96,
   "id": "ec4ba296-a87f-4a3d-8459-2b160da618dc",
   "metadata": {},
   "outputs": [
    {
     "name": "stdout",
     "output_type": "stream",
     "text": [
      "temperature  5\n",
      "temperature  10\n",
      "temperature  20\n",
      "temperature  30\n",
      "temperature  40\n",
      "temperature  50\n",
      "temperature  60\n",
      "temperature  70\n",
      "temperature  80\n",
      "temperature  90\n",
      "temperature  100\n",
      "temperature  120\n",
      "temperature  140\n",
      "temperature  160\n",
      "temperature  180\n",
      "temperature  200\n",
      "temperature  220\n",
      "temperature  240\n",
      "temperature  260\n",
      "temperature  280\n",
      "temperature  300\n",
      "temperature  320\n",
      "[289.15640383 144.57820248  72.28910175  48.19273484  36.14455141\n",
      "  28.91564135  24.09636795  20.65402997  18.07227621  16.06424572\n",
      "  14.45782055  12.04818446  10.32701487   9.03613796   8.03212291\n",
      "   7.2289104    6.57173692   6.02409173   5.56070097   5.16350739\n",
      "   4.8192744    4.51806938]\n"
     ]
    }
   ],
   "source": [
    "t1_list_coupled = np.array([])\n",
    "t1d_list_coupled = np.array([])\n",
    "\n",
    "rho0 = basis(2,0)*basis(2,0).dag()\n",
    "e_ops = []\n",
    "rho_list = []\n",
    "\n",
    "for k in range(len(Temp_list)):\n",
    "    temp = Temp_list[k]\n",
    "    specDensityX = lambda w : 1.1*spectral_density_coupled_modes_classical(w,gnewX,gamma_prime,omega_s, omega_b, T=temp, sigma=2)/hbar**2\n",
    "    specDensityY = lambda w : 1.1*spectral_density_coupled_modes_classical(w,gnewY,gamma_prime,omega_s, omega_b, T=temp, sigma=2)/hbar**2\n",
    "    specDensityZ = lambda w : 1.1*spectral_density_coupled_modes_classical(w,gnewZ,gamma_prime,omega_s, omega_b, T=temp, sigma=2)/hbar**2\n",
    "    \n",
    "    #specDensityX = lambda w : spectral_density_classical(w, freqs=omega_s, coup=gnewX, T=temp, sigma=2)/hbar**2\n",
    "    #specDensityY = lambda w : spectral_density_classical(w, freqs=omega_s, coup=gnewY, T=temp, sigma=2)/hbar**2\n",
    "    #specDensityZ = lambda w : spectral_density_classical(w, freqs=omega_s, coup=gnewZ, T=temp, sigma=2)/hbar**2\n",
    "    \n",
    "    \n",
    "    aops = [[sigmax(),specDensityX], [sigmay(),specDensityY], [sigmaz(),specDensityZ]]\n",
    "    \n",
    "    print(\"temperature \", temp)\n",
    "    results_k = brmesolve(H/(hbar), rho0, tlist, a_ops=aops, e_ops=e_ops)\n",
    "    rho_list.append(results_k.states) # saving states for later\n",
    "    rho11_k = np.array([results_k.states[j].full()[0,0] for j in range(len(tlist))]) # first element of rho vs time \n",
    "    t1, t1d = curve_fit(t1_func_classical, tlist/1e6, np.abs(rho11_k))\n",
    "    t1_list_coupled = np.append(t1_list_coupled, t1)\n",
    "    t1d_list_coupled = np.append(t1d_list_coupled, t1d)\n",
    "\n",
    "\n",
    "#np.save('saved variables/t1_list_coupled', t1_list_coupled)\n",
    "#np.save('saved variables/t1d_list_coupled', t1d_list_coupled)\n",
    "print(t1_list_coupled)  "
   ]
  },
  {
   "cell_type": "code",
   "execution_count": 97,
   "id": "e1d27387-b236-4123-b7ba-3086c1269125",
   "metadata": {},
   "outputs": [
    {
     "data": {
      "image/png": "[encoded data removed]",
      "text/plain": [
       "<Figure size 800x600 with 1 Axes>"
      ]
     },
     "metadata": {},
     "output_type": "display_data"
    }
   ],
   "source": [
    "#t1_list_coupled = np.load('t1_list_coupled.npy')\n",
    "#t1d_list_coupled = np.load('t1d_list_coupled.npy')\n",
    "t1_list = np.load('saved variables/t1_list.npy')\n",
    "t1d_list = np.load('saved variables/t1d_list.npy')\n",
    "t1_list_classical = np.load('saved variables/t1_list_classical.npy')\n",
    "t1d_list_classical = np.load('saved variables/t1d_list_classical.npy')\n",
    "\n",
    "plt.figure(figsize=(8,6))\n",
    "plt.errorbar(Temp_list, t1_list, yerr = t1d_list, fmt='-o')\n",
    "plt.errorbar(Temp_list, t1_list_coupled, yerr = t1d_list_coupled, fmt='-o')\n",
    "plt.errorbar(Temp_list, t1_list_classical, yerr = t1d_list_classical, fmt='-o')\n",
    "plt.xscale('log')\n",
    "plt.yscale('log')\n",
    "#plt.title(r\"$T_1$ as a function of temperature for single molecule\")\n",
    "plt.legend([r\"Quantum\", r\"Mode Projection\",r\"Classical\"])\n",
    "plt.xlabel(r\"$T [K]$\")\n",
    "plt.ylabel(r\"$T_1 [\\mu s]$\")\n",
    "plt.show()"
   ]
  },
  {
   "cell_type": "code",
   "execution_count": 98,
   "id": "bfa5ba3f-7df7-4edf-880c-ffba264f86b8",
   "metadata": {},
   "outputs": [
    {
     "data": {
      "image/png": "[encoded data removed]",
      "text/plain": [
       "<Figure size 700x600 with 1 Axes>"
      ]
     },
     "metadata": {},
     "output_type": "display_data"
    }
   ],
   "source": [
    "# adding the experimental data\n",
    "t1exp = np.array([14163.72734, 6951.95423, 2691.61351,225.3970881,89.17022735,41.0253116,23.92805806,18.87486711,10.77391862,\n",
    "                  8.873229094,4.171377424,1.143754573])\n",
    "t2exp = np.array([2.709966603,3.084314127,3.362185823,3.290454844,3.018511437,2.829407455,2.540192367,2.330255261,2.047428917,\n",
    "                  1.798929603,1.449961246, 0.84569149])\n",
    "temp_exp = np.array([4.292624643, 9.998683733, 24.90051857, 39.95789327, 59.68654518, 79.87897033, 99.98683733, 109.4868393, \n",
    "                     149.3539422, 179.0832077, 198.9289628, 298.5702735])\n",
    "\n",
    "t1_list_345mT = np.load('saved variables/t1_list_345mT.npy')\n",
    "t1d_list_345mT = np.load('saved variables/t1d_list_345mT.npy')\n",
    "\n",
    "#t2_list_345mT = np.load('t2_list_345mT.npy')\n",
    "#t2d_list_345mT = np.load('t2d_list_345mT.npy')\n",
    "t2_list_345mT = np.load('saved variables/t2_list.npy')\n",
    "t2d_list_345mT = np.load('saved variables/t2d_list.npy')\n",
    "\n",
    "\n",
    "\n",
    "fig, ax1 = plt.subplots(figsize=(7,6))\n",
    "\n",
    "color = 'tab:red'\n",
    "ax1.set_xlabel('T [K]')\n",
    "ax1.set_xscale('log')\n",
    "ax1.set_ylabel(r\"$T_1$\", color=color)\n",
    "ax1.set_yscale('log')\n",
    "ax1.errorbar(Temp_list, t1_list_coupled, yerr = t1d_list_coupled, fmt='-o')\n",
    "ax1.plot(temp_exp, t1exp, 's', color=color)\n",
    "ax1.tick_params(axis='y', labelcolor=color)\n",
    "\n",
    "\n",
    "# ax2 = ax1.twinx()  # instantiate a second axes that shares the same x-axis\n",
    "\n",
    "# color = 'tab:blue'\n",
    "# ax2.set_ylabel(r\"$T_2$\", color=color)  # we already handled the x-label with ax1\n",
    "# #ax2.set_yscale('log')\n",
    "# ax2.plot(Temp_list, t2_list_345mT, '-o',color=color)\n",
    "# ax2.plot(temp_exp, t2exp, 's', color=color)\n",
    "# ax2.tick_params(axis='y', labelcolor=color)\n",
    "\n",
    "fig.tight_layout()  # otherwise the right y-label is slightly clipped\n",
    "plt.show()"
   ]
  },
  {
   "cell_type": "code",
   "execution_count": null,
   "id": "d14a6538-d49b-4bff-a6d9-ea740e590b45",
   "metadata": {},
   "outputs": [],
   "source": [
    "#t1_list_coupled = np.load('saved variables/t1_list_coupled.npy')\n",
    "#t1d_list_coupled = np.load('saved variables/t1d_list_coupled.npy')\n",
    "t1_list = np.load('saved variables/t1_list.npy')\n",
    "t1d_list = np.load('saved variables/t1d_list.npy')\n",
    "#t1_list_classical = np.load('saved variables/t1_list_classical.npy')\n",
    "#t1d_list_classical = np.load('saved variables/t1d_list_classical.npy')\n",
    "\n",
    "plt.figure(figsize=(8,6))\n",
    "plt.errorbar(Temp_list, t1_list, yerr = t1d_list, fmt='-o')\n",
    "plt.errorbar(Temp_list, t1_list_coupled, yerr = t1d_list_coupled, fmt='-o')\n",
    "plt.errorbar(Temp_list, t1_list_classical, yerr = t1d_list_classical, fmt='-o')\n",
    "plt.xscale('log')\n",
    "plt.yscale('log')\n",
    "#plt.title(r\"$T_1$ as a function of temperature for single molecule\")\n",
    "plt.legend([r\"Quantum\", r\"Mode Projection\",r\"Classical\"])\n",
    "plt.xlabel(r\"$T [K]$\")\n",
    "plt.ylabel(r\"$T_1 [\\mu s]$\")\n",
    "plt.show()"
   ]
  },
  {
   "cell_type": "code",
   "execution_count": null,
   "id": "dfc7fc98-d793-4174-9592-0111ae34fd27",
   "metadata": {},
   "outputs": [],
   "source": []
  },
  {
   "cell_type": "code",
   "execution_count": null,
   "id": "91be07d7-6489-4399-a12a-feb70679224d",
   "metadata": {},
   "outputs": [],
   "source": [
    "rho0 = basis(2,0)*basis(2,0).dag()\n",
    "e_ops = []\n",
    "specDensityX = lambda w : 1*spectral_density_coupled_modes_classical(w,gnewX,gamma_prime,omega_s, omega_b, T=temp)/hbar**2\n",
    "specDensityY = lambda w : 1*spectral_density_coupled_modes_classical(w,gnewY,gamma_prime,omega_s, omega_b, T=temp)/hbar**2\n",
    "specDensityZ = lambda w : 1*spectral_density_coupled_modes_classical(w,gnewZ,gamma_prime,omega_s, omega_b, T=temp)/hbar**2\n",
    "aops = [[sigmax(),specDensityX], [sigmay(),specDensityY], [sigmaz(),specDensityZ]]\n",
    "    \n",
    "\n",
    "results_k = brmesolve(H/(hbar), rho0, tlist, a_ops=aops, e_ops=e_ops)\n",
    "rho11_k = np.array([results_k.states[j].full()[0,0] for j in range(len(tlist))]) # first element of rho vs time \n",
    "t1, t1d = curve_fit(t1_func, tlist/1e6, np.abs(rho11_k))\n",
    "\n",
    "print(t1, t1d)\n"
   ]
  },
  {
   "cell_type": "markdown",
   "id": "c37f2c5d-1bf6-4d25-828c-f4bff7d54f95",
   "metadata": {},
   "source": [
    "#### T2 with mode projection"
   ]
  },
  {
   "cell_type": "code",
   "execution_count": null,
   "id": "719ee0d1-c76b-4cc8-ae98-7fa7ce217cab",
   "metadata": {},
   "outputs": [],
   "source": [
    "# Temperature Scan \n",
    "\n",
    "\n",
    "tlist_t2 = np.linspace(1, 3e6, 10000) # in ps\n",
    "rho0 = basis(2,0)*basis(2,1).dag()\n",
    "\n",
    "t2_list_coupled = np.array([])\n",
    "t2d_list_coupled = np.array([])\n",
    "\n",
    "e_ops = []\n",
    "rho_list = []\n",
    "\n",
    "for k in range(len(Temp_list)):\n",
    "    \n",
    "    temp = Temp_list[k]\n",
    "    print(\"calculating t2 for \",temp, \" K\")\n",
    "    \n",
    "    specDensityX = lambda w : 1*spectral_density_coupled_modes_classical(w,gnewX,gamma_prime,omega_s, omega_b, T=temp)/hbar**2\n",
    "    specDensityY = lambda w : 1*spectral_density_coupled_modes_classical(w,gnewY,gamma_prime,omega_s, omega_b, T=temp)/hbar**2\n",
    "    specDensityZ = lambda w : 1*spectral_density_coupled_modes_classical(w,gnewZ,gamma_prime,omega_s, omega_b, T=temp)/hbar**2\n",
    "    aops = [[sigmax(),specDensityX], [sigmay(),specDensityY], [sigmaz(),specDensityZ]]\n",
    "    \n",
    "    results_k = brmesolve(H/(hbar), rho0, tlist_t2, a_ops=aops, e_ops=e_ops)#, progress_bar=True)\n",
    "    rho_list.append(results_k.states) # saving states for later\n",
    "    rho12_k = np.array([results_k.states[j].full()[0,1] for j in range(len(tlist_t2))]) # first element of rho vs time \n",
    "    t2, t2d = curve_fit(t2_func, tlist_t2/1e6, np.abs(rho12_k))\n",
    "    t2_list_coupled = np.append(t2_list_coupled, t2)\n",
    "    t2d_list_coupled = np.append(t2d_list_coupled, t2d)\n",
    "\n",
    "\n",
    "np.save('t2_list_coupled', t2_list_coupled)\n",
    "np.save('t2d_list_coupled', t2d_list_coupled)\n",
    "print(t2_list_coupled)  \n",
    "\n",
    "rho12_vals = np.array([rho_list[-1][m].full()[0,1] for m in range(len(tlist_t2))])\n",
    "rho21_vals = np.array([rho_list[-1][m].full()[1,0] for m in range(len(tlist_t2))])\n",
    "fit = np.array([t2_func(k,t2_list[-1])  for k in tlist_t2/1e6])\n",
    "\n",
    "plt.figure()\n",
    "plt.plot(tlist_t2/1e6, np.abs(rho12_vals))\n",
    "plt.plot(tlist_t2/1e6, np.abs(rho21_vals))\n",
    "plt.plot(tlist_t2/1e6, fit)\n",
    "plt.xlabel(r\"Time ($\\mu s$)\")\n",
    "plt.ylabel(r\"$\\rho$\")\n",
    "plt.title(\"Evolution of density matrix elements at \"+str(Temp_list[-1])+\"K , T2=\"+str(np.round(t2_list[-1],3)))\n",
    "plt.legend([r\"$\\rho_{12}$\", r\"$\\rho_{21}$\", \"fit\"])\n",
    "plt.show()"
   ]
  },
  {
   "cell_type": "code",
   "execution_count": null,
   "id": "272c7bdc-cd87-4fe6-b04a-454e566489cb",
   "metadata": {},
   "outputs": [],
   "source": []
  },
  {
   "cell_type": "code",
   "execution_count": null,
   "id": "5b18a00a-2b4c-4a62-9748-619859dfa04a",
   "metadata": {},
   "outputs": [],
   "source": []
  },
  {
   "cell_type": "code",
   "execution_count": null,
   "id": "db07f9ab-a638-45f5-97b8-93239e7d84a2",
   "metadata": {},
   "outputs": [],
   "source": []
  },
  {
   "cell_type": "code",
   "execution_count": null,
   "id": "0141aef7-c12b-4336-904f-3796149118b5",
   "metadata": {},
   "outputs": [],
   "source": []
  },
  {
   "cell_type": "code",
   "execution_count": null,
   "id": "df2f3031-7bae-4485-bc06-ab58107e28ba",
   "metadata": {},
   "outputs": [],
   "source": []
  },
  {
   "cell_type": "code",
   "execution_count": null,
   "id": "bad252ba-fdc3-4183-ae94-108d7d5a3992",
   "metadata": {},
   "outputs": [],
   "source": []
  },
  {
   "cell_type": "code",
   "execution_count": null,
   "id": "797314ea-72a7-4e7e-bf30-712a344b8791",
   "metadata": {},
   "outputs": [],
   "source": []
  },
  {
   "cell_type": "markdown",
   "id": "006573f9-40be-46b2-9d86-489106861781",
   "metadata": {},
   "source": [
    "### Comparison with trivial cutoff"
   ]
  },
  {
   "cell_type": "code",
   "execution_count": null,
   "id": "a3bff19a-86cc-42ac-b236-2181fbdce578",
   "metadata": {},
   "outputs": [],
   "source": [
    "# defining cutoff modes\n",
    "def cutoff(gcoup, tol, freq):\n",
    "    counter = 0\n",
    "    gcoup_out = copy.deepcopy(gcoup)\n",
    "    for i in range(len(gcoup)):   \n",
    "        if np.abs(gcoup[i])<tol:\n",
    "            gcoup_out[i] = 0\n",
    "            counter += 1\n",
    "        else:\n",
    "            print(\"mode \", freq[i]/cm2mev, \"with coupling \", gcoup[i], \" passed\")\n",
    "    print('modes cut ', counter, ' , remaining', len(gcoup)-counter)\n",
    "    return gcoup_out"
   ]
  },
  {
   "cell_type": "code",
   "execution_count": null,
   "id": "b2c2d018-19a3-490c-91f0-9b496e7724e3",
   "metadata": {},
   "outputs": [],
   "source": [
    "tol = np.max(gcoupS)*0.5# setting cutoff tolerance at 8% of max value\n",
    "print(\"coupling through sigma X \")\n",
    "gcoup_cut0 = cutoff(gcoupS[:,0], tol, freq)\n",
    "\n",
    "print(\"coupling through sigma Y \")\n",
    "gcoup_cut1 = cutoff(gcoupS[:,1], tol, freq)\n",
    "\n",
    "#tol = np.max(gcoupS)*0.9\n",
    "print(\"coupling through sigma Z \")\n",
    "gcoup_cut2 = cutoff(gcoupS[:,2], tol, freq)"
   ]
  },
  {
   "cell_type": "code",
   "execution_count": null,
   "id": "a05e1272-e068-4506-91f1-1fdf3e3cf94b",
   "metadata": {},
   "outputs": [],
   "source": [
    "freq[0]/cm2mev"
   ]
  },
  {
   "cell_type": "code",
   "execution_count": null,
   "id": "533b6d1a-2514-4058-92a8-2702992f2914",
   "metadata": {},
   "outputs": [],
   "source": [
    "Temp_list = [5, 10, 20, 30, 40, 50, 60, 70, 80, 90, 100, 120, 140, 160, 180, 200, 220, 240, 260, 280, 300, 320]\n",
    "tlist = np.linspace(1, 300e6, 1000) # in ps"
   ]
  },
  {
   "cell_type": "code",
   "execution_count": null,
   "id": "0f6344b5-259e-4f2a-be41-71b88401efce",
   "metadata": {},
   "outputs": [],
   "source": [
    "t1_list_cut_classical = np.array([])\n",
    "t1d_list_cut_classical = np.array([])\n",
    "\n",
    "rho0 = basis(2,0)*basis(2,0).dag()\n",
    "e_ops = []\n",
    "rho_list = []\n",
    "\n",
    "for k in range(len(Temp_list)):\n",
    "    temp = Temp_list[k]\n",
    "    #specDensityX = lambda w : spectral_density_classical(w, freqs=[freq[0]], coup=[gcoupS[0,0]], T=temp, sigma=2)/hbar**2\n",
    "    specDensityX = lambda w : spectral_density_classical(w, freqs=freq, coup=gcoup_cut0, T=temp, sigma=2)/hbar**2\n",
    "    specDensityY = lambda w : spectral_density_classical(w, freqs=freq, coup=gcoup_cut1, T=temp, sigma=2)/hbar**2\n",
    "    specDensityZ = lambda w : spectral_density_classical(w, freqs=freq, coup=gcoup_cut2, T=temp, sigma=2)/hbar**2\n",
    "    aops = [[sigmax(),specDensityX], [sigmay(),specDensityY], [sigmaz(),specDensityZ]]\n",
    "    print('temperature', temp)\n",
    "    results_k = brmesolve(H/(hbar), rho0, tlist, a_ops=aops, e_ops=e_ops)\n",
    "    rho_list.append(results_k.states) # saving states for later\n",
    "    rho11_k = np.array([results_k.states[j].full()[0,0] for j in range(len(tlist))]) # first element of rho vs time \n",
    "    t1, t1d = curve_fit(t1_func_classical, tlist/1e6, np.abs(rho11_k))\n",
    "    t1_list_cut_classical = np.append(t1_list_cut_classical, t1)\n",
    "    t1d_list_cut_classical = np.append(t1d_list_cut_classical, t1d)\n",
    "\n",
    "\n",
    "np.save('saved variables/t1_list_cut_classical', t1_list_cut_classical)\n",
    "np.save('saved variables/t1d_list_cut_classical', t1d_list_cut_classical)\n",
    "print(t1_list_cut_classical)  "
   ]
  },
  {
   "cell_type": "code",
   "execution_count": null,
   "id": "d7f9b697-d995-4e0a-94bc-e6b6ccbc4d85",
   "metadata": {},
   "outputs": [],
   "source": [
    "t1_list_coupled = np.load('saved variables/t1_list_coupled.npy')\n",
    "t1d_list_coupled = np.load('saved variables/t1d_list_coupled.npy')\n",
    "t1_list_cut_classical = np.load('saved variables/t1_list_cut_classical.npy')\n",
    "t1d_list_cut_classical = np.load('saved variables/t1d_list_cut_classical.npy')\n",
    "t1_list_classical = np.load('saved variables/t1_list_classical.npy')\n",
    "t1d_list_classical = np.load('saved variables/t1d_list_classical.npy')\n",
    "\n",
    "plt.figure(figsize=(8,6))\n",
    "plt.errorbar(Temp_list, t1_list_classical, yerr = t1d_list_classical, fmt='-o')\n",
    "plt.errorbar(Temp_list, t1_list_coupled, yerr = t1d_list_coupled, fmt='-o')\n",
    "plt.errorbar(Temp_list, t1_list_cut_classical, yerr = t1d_list_cut_classical, fmt='-o')\n",
    "\n",
    "\n",
    "plt.xscale('log')\n",
    "plt.yscale('log')\n",
    "#plt.title(r\"$T_1$ as a function of temperature for single molecule\")\n",
    "plt.legend([\"Full Modes\", \"Mode Projection\",\"Trivial Cutoff\"])\n",
    "plt.xlabel('T [K]')\n",
    "plt.ylabel(r\"$T_1 [\\mu s]$\")\n",
    "plt.show()"
   ]
  },
  {
   "cell_type": "code",
   "execution_count": null,
   "id": "7456e149-da67-4a0c-8a35-deb0f5e02fb0",
   "metadata": {},
   "outputs": [],
   "source": [
    "\n",
    "fig, ax1 = plt.subplots(figsize=(7,6))\n",
    "\n",
    "color = 'tab:red'\n",
    "ax1.set_xlabel('T [K]')\n",
    "ax1.set_xscale('log')\n",
    "ax1.set_ylabel(r\"$T_1$ for Full Modes / Projected Modes\")#, color=color)\n",
    "ax1.set_yscale('log')\n",
    "ax1.errorbar(Temp_list, t1_list_classical, yerr = t1d_list_classical, fmt='-o', color=color)\n",
    "ax1.errorbar(Temp_list, t1_list_coupled, yerr = t1d_list_coupled, fmt='-o', color='tab:green')\n",
    "ax1.tick_params(axis='y')#, labelcolor=color)\n",
    "\n",
    "\n",
    "ax2 = ax1.twinx()  # instantiate a second axes that shares the same x-axis\n",
    "\n",
    "color = 'tab:blue'\n",
    "ax2.set_ylabel(r\"$T_1$ for Trivial Cutoff\", color=color)  # we already handled the x-label with ax1\n",
    "ax2.set_yscale('log')\n",
    "ax2.set_xscale('log')\n",
    "ax2.errorbar(Temp_list, t1_list_cut_classical, yerr = t1d_list_cut_classical, fmt='-o')\n",
    "ax2.tick_params(axis='y', labelcolor=color)\n",
    "\n",
    "#fig.tight_layout()  # otherwise the right y-label is slightly clipped\n",
    "#plt.show()\n"
   ]
  },
  {
   "cell_type": "code",
   "execution_count": null,
   "id": "a25a564b-409f-4c53-b20f-56637d7fb91c",
   "metadata": {},
   "outputs": [],
   "source": []
  },
  {
   "cell_type": "code",
   "execution_count": null,
   "id": "bde54888-4641-42a2-aa2f-6f483e113072",
   "metadata": {},
   "outputs": [],
   "source": [
    "omega_s/cm2mev"
   ]
  },
  {
   "cell_type": "code",
   "execution_count": null,
   "id": "989c9847-2e15-46c2-86ae-7cb55e5a72f2",
   "metadata": {},
   "outputs": [],
   "source": [
    "np.array([170, 352, 533])*cm2mev"
   ]
  },
  {
   "cell_type": "code",
   "execution_count": null,
   "id": "ccca7969-0bcd-4927-9827-86e047425c02",
   "metadata": {},
   "outputs": [],
   "source": [
    "gnewZ"
   ]
  },
  {
   "cell_type": "code",
   "execution_count": null,
   "id": "d7b135d9-7d61-4df8-b6b7-8daa5a589562",
   "metadata": {},
   "outputs": [],
   "source": [
    "(-7.49 , -10.2, -3.16)"
   ]
  },
  {
   "cell_type": "code",
   "execution_count": null,
   "id": "e01efca8-66fe-4e42-b880-a3ef2ae0ccdb",
   "metadata": {},
   "outputs": [],
   "source": []
  },
  {
   "cell_type": "code",
   "execution_count": null,
   "id": "6c4d502c-2e47-4af6-9df9-c85d88a970e2",
   "metadata": {},
   "outputs": [],
   "source": []
  },
  {
   "cell_type": "code",
   "execution_count": null,
   "id": "ab506461-65a0-4fa6-ae58-b0b2f73f9e6c",
   "metadata": {},
   "outputs": [],
   "source": []
  },
  {
   "cell_type": "code",
   "execution_count": null,
   "id": "d740daf8-ad41-4265-9b92-d68ca1abaf7e",
   "metadata": {},
   "outputs": [],
   "source": []
  },
  {
   "cell_type": "code",
   "execution_count": null,
   "id": "6af7335d-8fe1-47fb-9525-dc9e8bfccb92",
   "metadata": {},
   "outputs": [],
   "source": []
  },
  {
   "cell_type": "code",
   "execution_count": null,
   "id": "1422f5be-cb30-4279-a4cc-d6a94263292d",
   "metadata": {},
   "outputs": [],
   "source": []
  },
  {
   "cell_type": "code",
   "execution_count": null,
   "id": "05a76d54-66be-4bc7-aad2-5bf320741e35",
   "metadata": {},
   "outputs": [],
   "source": []
  },
  {
   "cell_type": "code",
   "execution_count": null,
   "id": "d9df7893-9e36-482b-b170-7ed3c8838a98",
   "metadata": {},
   "outputs": [],
   "source": []
  },
  {
   "cell_type": "code",
   "execution_count": null,
   "id": "617edc0b-ac45-4713-ad28-118b99d8d035",
   "metadata": {},
   "outputs": [],
   "source": []
  },
  {
   "cell_type": "code",
   "execution_count": null,
   "id": "fb4a13c2-8fd7-46a6-a679-f847fa2fda70",
   "metadata": {},
   "outputs": [],
   "source": []
  },
  {
   "cell_type": "code",
   "execution_count": null,
   "id": "5dcc7112-b5ce-4fc0-b7c4-7b78fa2ffb06",
   "metadata": {},
   "outputs": [],
   "source": []
  },
  {
   "cell_type": "code",
   "execution_count": null,
   "id": "b4d4b030-c97e-4839-806b-ada60de2f788",
   "metadata": {},
   "outputs": [],
   "source": []
  },
  {
   "cell_type": "code",
   "execution_count": null,
   "id": "49b2463d-3729-4888-b57f-9b4cad602513",
   "metadata": {},
   "outputs": [],
   "source": []
  },
  {
   "cell_type": "code",
   "execution_count": null,
   "id": "5e2e1969-2f70-48d4-9820-d8b50a247cda",
   "metadata": {},
   "outputs": [],
   "source": []
  },
  {
   "cell_type": "code",
   "execution_count": null,
   "id": "fe9d4bd4-27f1-4f4a-b0fe-364cc2dd8a93",
   "metadata": {},
   "outputs": [],
   "source": []
  },
  {
   "cell_type": "code",
   "execution_count": null,
   "id": "dee1df5c-269e-410e-ba00-8c5cdc82fa72",
   "metadata": {},
   "outputs": [],
   "source": []
  },
  {
   "cell_type": "code",
   "execution_count": null,
   "id": "3c4967c8-832e-4ce2-89f5-a2440c0cab71",
   "metadata": {},
   "outputs": [],
   "source": []
  },
  {
   "cell_type": "code",
   "execution_count": null,
   "id": "8769b929-751a-4f88-a3bd-5d6a1ccf1b8d",
   "metadata": {},
   "outputs": [],
   "source": []
  },
  {
   "cell_type": "code",
   "execution_count": null,
   "id": "d650ed42-1e76-48ea-b682-5f7b4519daac",
   "metadata": {},
   "outputs": [],
   "source": []
  },
  {
   "cell_type": "code",
   "execution_count": null,
   "id": "8713a017-a87d-465c-8b6d-a850fe52e289",
   "metadata": {},
   "outputs": [],
   "source": []
  },
  {
   "cell_type": "code",
   "execution_count": null,
   "id": "1552064f-9ebb-4a85-bfcc-a171222ceb97",
   "metadata": {},
   "outputs": [],
   "source": []
  },
  {
   "cell_type": "code",
   "execution_count": null,
   "id": "d3c3361c-e6ab-4155-adb9-5e1cf1c1365d",
   "metadata": {},
   "outputs": [],
   "source": []
  },
  {
   "cell_type": "code",
   "execution_count": null,
   "id": "a70a4526-a120-4a9a-8168-4554c0a865da",
   "metadata": {},
   "outputs": [],
   "source": []
  },
  {
   "cell_type": "code",
   "execution_count": null,
   "id": "7587eab5-60fb-4e19-b2b1-68b037c3f0cc",
   "metadata": {},
   "outputs": [],
   "source": []
  },
  {
   "cell_type": "code",
   "execution_count": null,
   "id": "09a571f3-83de-463c-aca5-8d94a47a793a",
   "metadata": {},
   "outputs": [],
   "source": [
    "\n"
   ]
  }
 ],
 "metadata": {
  "kernelspec": {
   "display_name": "Python 3 (ipykernel)",
   "language": "python",
   "name": "python3"
  },
  "language_info": {
   "codemirror_mode": {
    "name": "ipython",
    "version": 3
   },
   "file_extension": ".py",
   "mimetype": "text/x-python",
   "name": "python",
   "nbconvert_exporter": "python",
   "pygments_lexer": "ipython3",
   "version": "3.11.5"
  }
 },
 "nbformat": 4,
 "nbformat_minor": 5
}
